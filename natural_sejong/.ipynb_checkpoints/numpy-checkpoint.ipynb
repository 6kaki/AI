{
 "cells": [
  {
   "cell_type": "markdown",
   "id": "15713234-ffb2-4b43-b4ad-54efa65fe05c",
   "metadata": {},
   "source": [
    "## numpy\n",
    "* 배열 계산에 사용되는 라이브러리\n",
    "* 배열구조로 갖고 있는 형태\n",
    "* 배열에는 하나의 자료형만 가능하다.\n",
    "* scalar : 값이 하나\n",
    "* vector : 1차원 배열\n",
    "* matrix : 2차원 데이터\n",
    "* tensor : 3차원 이상"
   ]
  },
  {
   "cell_type": "code",
   "execution_count": 8,
   "id": "b7a23700-11d5-43e2-99ba-2c5758ea405b",
   "metadata": {},
   "outputs": [
    {
     "name": "stdout",
     "output_type": "stream",
     "text": [
      "Collecting numpy\n",
      "  Downloading numpy-1.22.3-cp38-cp38-macosx_10_14_x86_64.whl (17.6 MB)\n",
      "\u001b[K     |████████████████████████████████| 17.6 MB 3.4 MB/s eta 0:00:01\n",
      "\u001b[?25hInstalling collected packages: numpy\n",
      "Successfully installed numpy-1.22.3\n",
      "Note: you may need to restart the kernel to use updated packages.\n"
     ]
    }
   ],
   "source": [
    "pip install numpy"
   ]
  },
  {
   "cell_type": "code",
   "execution_count": 44,
   "id": "ba04467d-60a5-4453-83d1-b5b7282bb376",
   "metadata": {},
   "outputs": [],
   "source": [
    "import numpy as np"
   ]
  },
  {
   "cell_type": "code",
   "execution_count": 1,
   "id": "d3b097c4-647b-4760-969e-60db3aab8db9",
   "metadata": {},
   "outputs": [
    {
     "data": {
      "text/plain": [
       "3"
      ]
     },
     "execution_count": 1,
     "metadata": {},
     "output_type": "execute_result"
    }
   ],
   "source": [
    "#scalar\n",
    "x = 3\n",
    "x"
   ]
  },
  {
   "cell_type": "code",
   "execution_count": 10,
   "id": "52d86b04-5de3-4eaf-85c7-63e03cb55e78",
   "metadata": {},
   "outputs": [
    {
     "data": {
      "text/plain": [
       "array([3, 2, 1])"
      ]
     },
     "execution_count": 10,
     "metadata": {},
     "output_type": "execute_result"
    }
   ],
   "source": [
    "#vector\n",
    "x = np.array([3,2,1])\n",
    "x"
   ]
  },
  {
   "cell_type": "code",
   "execution_count": 11,
   "id": "d69007d3-6413-4d87-b1e9-4fd701d5627d",
   "metadata": {},
   "outputs": [
    {
     "data": {
      "text/plain": [
       "3"
      ]
     },
     "execution_count": 11,
     "metadata": {},
     "output_type": "execute_result"
    }
   ],
   "source": [
    "x[0]"
   ]
  },
  {
   "cell_type": "code",
   "execution_count": 12,
   "id": "f1812266-271c-4c6b-8022-e5e130fc2093",
   "metadata": {},
   "outputs": [
    {
     "data": {
      "text/plain": [
       "numpy.int64"
      ]
     },
     "execution_count": 12,
     "metadata": {},
     "output_type": "execute_result"
    }
   ],
   "source": [
    "type(x[0])"
   ]
  },
  {
   "cell_type": "code",
   "execution_count": 24,
   "id": "48d98ddd-f525-4214-8a71-3c48b5c2c50b",
   "metadata": {},
   "outputs": [
    {
     "data": {
      "text/plain": [
       "array([[1, 2],\n",
       "       [3, 4],\n",
       "       [5, 6],\n",
       "       [7, 8]])"
      ]
     },
     "execution_count": 24,
     "metadata": {},
     "output_type": "execute_result"
    }
   ],
   "source": [
    "#matrix\n",
    "x = np.array([[1,2],[3,4],[5,6],[7,8]])\n",
    "x"
   ]
  },
  {
   "cell_type": "code",
   "execution_count": 25,
   "id": "307e881a-52bd-46aa-99ac-71ed978f944d",
   "metadata": {},
   "outputs": [
    {
     "data": {
      "text/plain": [
       "(4, 2)"
      ]
     },
     "execution_count": 25,
     "metadata": {},
     "output_type": "execute_result"
    }
   ],
   "source": [
    "x.shape"
   ]
  },
  {
   "cell_type": "code",
   "execution_count": 26,
   "id": "77dc8110-0620-462a-952a-1d9f7ba8ade7",
   "metadata": {},
   "outputs": [
    {
     "ename": "TypeError",
     "evalue": "can only concatenate list (not \"int\") to list",
     "output_type": "error",
     "traceback": [
      "\u001b[0;31m---------------------------------------------------------------------------\u001b[0m",
      "\u001b[0;31mTypeError\u001b[0m                                 Traceback (most recent call last)",
      "Input \u001b[0;32mIn [26]\u001b[0m, in \u001b[0;36m<cell line: 2>\u001b[0;34m()\u001b[0m\n\u001b[1;32m      1\u001b[0m li \u001b[38;5;241m=\u001b[39m [\u001b[38;5;241m1\u001b[39m,\u001b[38;5;241m2\u001b[39m,\u001b[38;5;241m3\u001b[39m,\u001b[38;5;241m4\u001b[39m,\u001b[38;5;241m5\u001b[39m]\n\u001b[0;32m----> 2\u001b[0m \u001b[43mli\u001b[49m\u001b[43m \u001b[49m\u001b[38;5;241;43m+\u001b[39;49m\u001b[43m  \u001b[49m\u001b[38;5;241;43m5\u001b[39;49m\n",
      "\u001b[0;31mTypeError\u001b[0m: can only concatenate list (not \"int\") to list"
     ]
    }
   ],
   "source": [
    "li = [1,2,3,4,5]\n",
    "li +  5"
   ]
  },
  {
   "cell_type": "code",
   "execution_count": 29,
   "id": "9c76234d-bc54-4f2f-8b5d-b83f3eb4c57b",
   "metadata": {},
   "outputs": [
    {
     "name": "stdout",
     "output_type": "stream",
     "text": [
      "[ 6  7  8  9 10]\n",
      "<class 'numpy.ndarray'>\n"
     ]
    }
   ],
   "source": [
    "#numpy는 board casting을 지원한다. 벡터의 스칼라 더하기\n",
    "arr = np.array(li)\n",
    "print(arr + 5)\n",
    "print(type(arr))"
   ]
  },
  {
   "cell_type": "markdown",
   "id": "286c3929-b0bb-40d4-b858-c4df21a91063",
   "metadata": {},
   "source": [
    "* scalar : 0차원\n",
    "* vector : 차원이 없고 연속 (n, )\n",
    "* maxtrix : (n,m)\n",
    "* array : 차원이 2개 이상"
   ]
  },
  {
   "cell_type": "code",
   "execution_count": 32,
   "id": "23395322-52b0-47fd-b9a5-a141fe374f01",
   "metadata": {},
   "outputs": [
    {
     "data": {
      "text/plain": [
       "array([1, 2, 3, 4, 5])"
      ]
     },
     "execution_count": 32,
     "metadata": {},
     "output_type": "execute_result"
    }
   ],
   "source": [
    "arr.T #바뀌지 않는다. 한줄짜리라서"
   ]
  },
  {
   "cell_type": "markdown",
   "id": "45b4fc67-794c-44a5-a431-b1e6aeb24dbe",
   "metadata": {},
   "source": [
    "## dot\n",
    "* 내적\n",
    "* "
   ]
  },
  {
   "cell_type": "code",
   "execution_count": 33,
   "id": "29018717-3f04-4827-bfc2-984ac8675129",
   "metadata": {},
   "outputs": [
    {
     "data": {
      "text/plain": [
       "array([1., 2., 3.])"
      ]
     },
     "execution_count": 33,
     "metadata": {},
     "output_type": "execute_result"
    }
   ],
   "source": [
    "np.array([1,2,3,],dtype='float')"
   ]
  },
  {
   "cell_type": "code",
   "execution_count": 36,
   "id": "fe86d211-ec54-44cd-a962-935271bb1240",
   "metadata": {},
   "outputs": [
    {
     "data": {
      "text/plain": [
       "array([1, 2, 3])"
      ]
     },
     "execution_count": 36,
     "metadata": {},
     "output_type": "execute_result"
    }
   ],
   "source": [
    "np.array([1,2,3,],dtype='int')"
   ]
  },
  {
   "cell_type": "code",
   "execution_count": 37,
   "id": "3868556e-6007-4b24-9e84-291e32f4aa50",
   "metadata": {},
   "outputs": [
    {
     "data": {
      "text/plain": [
       "dtype('int64')"
      ]
     },
     "execution_count": 37,
     "metadata": {},
     "output_type": "execute_result"
    }
   ],
   "source": [
    "np.array([1,2,3,],dtype='int').dtype"
   ]
  },
  {
   "cell_type": "code",
   "execution_count": 40,
   "id": "7c5f20c0-9d9b-4718-860f-865023dbb046",
   "metadata": {},
   "outputs": [
    {
     "data": {
      "text/plain": [
       "array([1, 2, 3], dtype=int32)"
      ]
     },
     "execution_count": 40,
     "metadata": {},
     "output_type": "execute_result"
    }
   ],
   "source": [
    "np.array([1,2,3,],dtype=np.int32)"
   ]
  },
  {
   "cell_type": "code",
   "execution_count": 41,
   "id": "e17546ce-8731-425c-aea9-05a5fa2c2850",
   "metadata": {},
   "outputs": [
    {
     "data": {
      "text/plain": [
       "dtype('int32')"
      ]
     },
     "execution_count": 41,
     "metadata": {},
     "output_type": "execute_result"
    }
   ],
   "source": [
    "np.array([1,2,3,],dtype=np.int32).dtype"
   ]
  },
  {
   "cell_type": "code",
   "execution_count": 42,
   "id": "645870b7-27d5-4b19-b93a-d274f5ee26bf",
   "metadata": {},
   "outputs": [
    {
     "data": {
      "text/plain": [
       "array(['1', '2', '3'], dtype='<U1')"
      ]
     },
     "execution_count": 42,
     "metadata": {},
     "output_type": "execute_result"
    }
   ],
   "source": [
    "np.array([1,2,3,],dtype='str')"
   ]
  },
  {
   "cell_type": "code",
   "execution_count": null,
   "id": "cbfa81a1-9e45-446a-a0db-9c9d319c2bb2",
   "metadata": {},
   "outputs": [],
   "source": [
    "np.array([1,2,3,],dtype='float')"
   ]
  },
  {
   "cell_type": "code",
   "execution_count": 45,
   "id": "df574655-3c5c-4f36-9fe2-dc3b11549bb1",
   "metadata": {},
   "outputs": [],
   "source": [
    "arr = np.random.randint(1,100,30) #1~99중에서 30개를 뽑아온다. 자동으로 넘파이 어레이가 된다."
   ]
  },
  {
   "cell_type": "code",
   "execution_count": 46,
   "id": "35f42291-ba4f-4e5e-bc18-91349e4b0cef",
   "metadata": {},
   "outputs": [
    {
     "data": {
      "text/plain": [
       "array([10, 37, 23, 93, 33, 86, 56, 83, 66,  8,  8, 22, 89, 95, 92,  2, 51,\n",
       "       54, 56, 92, 45, 22, 27, 63, 66, 94, 97, 69, 74, 86])"
      ]
     },
     "execution_count": 46,
     "metadata": {},
     "output_type": "execute_result"
    }
   ],
   "source": [
    "arr"
   ]
  },
  {
   "cell_type": "code",
   "execution_count": 47,
   "id": "1d7cbd78-6de0-482d-91b1-d58522da26cf",
   "metadata": {},
   "outputs": [
    {
     "data": {
      "text/plain": [
       "dtype('int64')"
      ]
     },
     "execution_count": 47,
     "metadata": {},
     "output_type": "execute_result"
    }
   ],
   "source": [
    "arr.dtype"
   ]
  },
  {
   "cell_type": "code",
   "execution_count": 48,
   "id": "4c993cc3-1948-4aac-ab4f-d88688146c49",
   "metadata": {},
   "outputs": [
    {
     "data": {
      "text/plain": [
       "(30,)"
      ]
     },
     "execution_count": 48,
     "metadata": {},
     "output_type": "execute_result"
    }
   ],
   "source": [
    "arr.shape"
   ]
  },
  {
   "cell_type": "code",
   "execution_count": 50,
   "id": "fdcd233c-ca16-4216-a61e-f05ea0b14789",
   "metadata": {},
   "outputs": [
    {
     "data": {
      "text/plain": [
       "1"
      ]
     },
     "execution_count": 50,
     "metadata": {},
     "output_type": "execute_result"
    }
   ],
   "source": [
    "arr.ndim"
   ]
  },
  {
   "cell_type": "code",
   "execution_count": 52,
   "id": "4c37b96a-89a6-4e7b-a3e5-61d55a43b9f0",
   "metadata": {},
   "outputs": [
    {
     "data": {
      "text/plain": [
       "30"
      ]
     },
     "execution_count": 52,
     "metadata": {},
     "output_type": "execute_result"
    }
   ],
   "source": [
    "arr.size #데이터의 갯수가 몇개인지"
   ]
  },
  {
   "cell_type": "code",
   "execution_count": 55,
   "id": "f866cb22-2a5b-4bd3-9b3f-d4aec6ba0379",
   "metadata": {},
   "outputs": [],
   "source": [
    "arr = arr.reshape(15,-1)"
   ]
  },
  {
   "cell_type": "code",
   "execution_count": 56,
   "id": "ebdf4a1b-ed80-4e57-a1ac-a0d05bd077ed",
   "metadata": {},
   "outputs": [
    {
     "data": {
      "text/plain": [
       "(15, 2)"
      ]
     },
     "execution_count": 56,
     "metadata": {},
     "output_type": "execute_result"
    }
   ],
   "source": [
    "arr.shape"
   ]
  },
  {
   "cell_type": "code",
   "execution_count": 59,
   "id": "a2589721-977b-4536-a7e9-5628094f8274",
   "metadata": {},
   "outputs": [
    {
     "data": {
      "text/plain": [
       "array([[[10, 37, 23],\n",
       "        [93, 33, 86]],\n",
       "\n",
       "       [[56, 83, 66],\n",
       "        [ 8,  8, 22]],\n",
       "\n",
       "       [[89, 95, 92],\n",
       "        [ 2, 51, 54]],\n",
       "\n",
       "       [[56, 92, 45],\n",
       "        [22, 27, 63]],\n",
       "\n",
       "       [[66, 94, 97],\n",
       "        [69, 74, 86]]])"
      ]
     },
     "execution_count": 59,
     "metadata": {},
     "output_type": "execute_result"
    }
   ],
   "source": [
    "arr.reshape(5,2,-1)"
   ]
  },
  {
   "cell_type": "markdown",
   "id": "07da1006-771a-4470-8f35-b2916cd71a79",
   "metadata": {},
   "source": [
    "## shape이 같으면 element wise 계산"
   ]
  },
  {
   "cell_type": "code",
   "execution_count": 60,
   "id": "f2ea5587-8cbe-4868-8bb5-527e325dafb0",
   "metadata": {},
   "outputs": [
    {
     "data": {
      "text/plain": [
       "array([0, 2, 4, 6, 8])"
      ]
     },
     "execution_count": 60,
     "metadata": {},
     "output_type": "execute_result"
    }
   ],
   "source": [
    "np.array([0,1,2,3,4]) + np.array([0,1,2,3,4])"
   ]
  },
  {
   "cell_type": "code",
   "execution_count": 61,
   "id": "4442e36c-c1f0-405b-ade7-ddb724f3bbc5",
   "metadata": {},
   "outputs": [
    {
     "data": {
      "text/plain": [
       "array([[ 2,  4,  6,  8],\n",
       "       [10, 12, 14, 16],\n",
       "       [18, 20, 22, 24]])"
      ]
     },
     "execution_count": 61,
     "metadata": {},
     "output_type": "execute_result"
    }
   ],
   "source": [
    "np.arange(1,13).reshape(3,4) + np.arange(1,13).reshape(3,4)"
   ]
  },
  {
   "cell_type": "code",
   "execution_count": 62,
   "id": "2c00cf5a-7b22-4bdf-8718-6f46e6f8bc65",
   "metadata": {},
   "outputs": [
    {
     "data": {
      "text/plain": [
       "array([[ 6,  7,  8,  9],\n",
       "       [10, 11, 12, 13],\n",
       "       [14, 15, 16, 17]])"
      ]
     },
     "execution_count": 62,
     "metadata": {},
     "output_type": "execute_result"
    }
   ],
   "source": [
    "np.arange(1,13).reshape(3,4) + 5"
   ]
  },
  {
   "cell_type": "markdown",
   "id": "36d86b38-5d44-4449-9f43-2ae8e2ccdb74",
   "metadata": {},
   "source": [
    "## broad casting"
   ]
  },
  {
   "cell_type": "code",
   "execution_count": 64,
   "id": "528a6422-1dc6-4200-84c4-65b044dd6fc4",
   "metadata": {},
   "outputs": [
    {
     "data": {
      "text/plain": [
       "array([[2, 3, 4],\n",
       "       [3, 4, 5],\n",
       "       [4, 5, 6]])"
      ]
     },
     "execution_count": 64,
     "metadata": {},
     "output_type": "execute_result"
    }
   ],
   "source": [
    "np.arange(1,4).reshape(3,-1) + np.arange(1,4).reshape(-1,3)"
   ]
  },
  {
   "cell_type": "code",
   "execution_count": 65,
   "id": "d1d7f545-9c65-4799-8202-64fb3d66b252",
   "metadata": {},
   "outputs": [
    {
     "data": {
      "text/plain": [
       "array([[1],\n",
       "       [2],\n",
       "       [3]])"
      ]
     },
     "execution_count": 65,
     "metadata": {},
     "output_type": "execute_result"
    }
   ],
   "source": [
    "np.arange(1,4).reshape(3,-1)"
   ]
  },
  {
   "cell_type": "code",
   "execution_count": 66,
   "id": "e7d2155f-c180-4abe-88e6-ea6bf42a23f5",
   "metadata": {},
   "outputs": [
    {
     "data": {
      "text/plain": [
       "array([[1, 2, 3]])"
      ]
     },
     "execution_count": 66,
     "metadata": {},
     "output_type": "execute_result"
    }
   ],
   "source": [
    "np.arange(1,4).reshape(-1,3)"
   ]
  },
  {
   "cell_type": "code",
   "execution_count": 67,
   "id": "0c39885a-c4ed-4bd8-8b7c-b824ef370ae6",
   "metadata": {},
   "outputs": [],
   "source": [
    "arr = np.arange(1,13).reshape(3,4)"
   ]
  },
  {
   "cell_type": "code",
   "execution_count": 69,
   "id": "0bdc6e09-4617-433e-9fa7-40689ffb823b",
   "metadata": {},
   "outputs": [
    {
     "data": {
      "text/plain": [
       "8"
      ]
     },
     "execution_count": 69,
     "metadata": {},
     "output_type": "execute_result"
    }
   ],
   "source": [
    "arr.itemsize #각요소의 바이트 크기"
   ]
  },
  {
   "cell_type": "code",
   "execution_count": 70,
   "id": "376a6a44-63f5-4e06-bc76-ec8a0367992f",
   "metadata": {},
   "outputs": [
    {
     "data": {
      "text/plain": [
       "<memory at 0x7fcd700d56c0>"
      ]
     },
     "execution_count": 70,
     "metadata": {},
     "output_type": "execute_result"
    }
   ],
   "source": [
    "arr.data #버퍼가 어디있는지 알려줌"
   ]
  },
  {
   "cell_type": "markdown",
   "id": "f505dd0d-fb73-4470-9d8e-b86f4b90ff3f",
   "metadata": {},
   "source": [
    "## np.linspace\n",
    "* np.linspace(1,3,5)\n",
    "    * [1,3]범위에서 균일한 간격으로 5개의 숫자를 반환\n",
    "    * 3을 포함한다.\n",
    "    * 그래프를 그릴때, param값을 만들 때"
   ]
  },
  {
   "cell_type": "code",
   "execution_count": 72,
   "id": "6ac69209-f2f2-4e26-9dbc-069a9ca7e5d2",
   "metadata": {},
   "outputs": [
    {
     "data": {
      "text/plain": [
       "array([ 0.        ,  1.66666667,  3.33333333,  5.        ,  6.66666667,\n",
       "        8.33333333, 10.        ])"
      ]
     },
     "execution_count": 72,
     "metadata": {},
     "output_type": "execute_result"
    }
   ],
   "source": [
    "np.linspace(0,10,7)"
   ]
  },
  {
   "cell_type": "code",
   "execution_count": 73,
   "id": "1c6ebecf-5c9f-47aa-9f4a-b4cc424df09e",
   "metadata": {},
   "outputs": [
    {
     "data": {
      "text/plain": [
       "array([1.00000000e+00, 4.64158883e+01, 2.15443469e+03, 1.00000000e+05,\n",
       "       4.64158883e+06, 2.15443469e+08, 1.00000000e+10])"
      ]
     },
     "execution_count": 73,
     "metadata": {},
     "output_type": "execute_result"
    }
   ],
   "source": [
    "np.logspace(0,10,7)"
   ]
  },
  {
   "cell_type": "markdown",
   "id": "0d76ecf9-5f02-4e35-a04b-e2c0144af464",
   "metadata": {},
   "source": [
    "## np.empty\n",
    "* 초기화를 수행하지 않고 주어진 형태와 타입을 갖는 새로운 어레이를 반환\n",
    "* np.zeros와 달리  0으로 초기화하지 않아서 더 빠르다."
   ]
  },
  {
   "cell_type": "code",
   "execution_count": 74,
   "id": "078e89ae-1dba-44cf-8c30-844674a299d3",
   "metadata": {},
   "outputs": [
    {
     "data": {
      "text/plain": [
       "array([[0.00000000e+000, 2.78138476e-309],\n",
       "       [9.88131292e-324, 9.88131292e-324]])"
      ]
     },
     "execution_count": 74,
     "metadata": {},
     "output_type": "execute_result"
    }
   ],
   "source": [
    "np.empty([2,2])"
   ]
  },
  {
   "cell_type": "markdown",
   "id": "ad5c9a74-8663-4569-b280-e3a9da15bc73",
   "metadata": {},
   "source": [
    "## np.empty_like\n",
    "* 주어진 어레이와 같은 형태와 타입을 갖는 새로운 어레이를 반환\n",
    "* 초기화를 하지 않는다."
   ]
  },
  {
   "cell_type": "code",
   "execution_count": 75,
   "id": "d47b2614-548c-4b9f-a111-e8f6dd34764e",
   "metadata": {},
   "outputs": [],
   "source": [
    "arr = np.arange(1,13).reshape(3,4)"
   ]
  },
  {
   "cell_type": "code",
   "execution_count": 76,
   "id": "96395a24-84f6-419c-ad3d-40a91dcae6c3",
   "metadata": {},
   "outputs": [
    {
     "data": {
      "text/plain": [
       "array([[                  0,                  39,                   0,\n",
       "                          0],\n",
       "       [                  0, 7290884029659899243, 3258698685414990178,\n",
       "        3919314944442656357],\n",
       "       [3543550265827405111, 3834363411885864243, 8386112019188823394,\n",
       "            137658921677685]])"
      ]
     },
     "execution_count": 76,
     "metadata": {},
     "output_type": "execute_result"
    }
   ],
   "source": [
    "np.empty_like(arr)"
   ]
  },
  {
   "cell_type": "code",
   "execution_count": 77,
   "id": "c468105e-6208-4992-8cf7-34ad68cc8e9f",
   "metadata": {},
   "outputs": [
    {
     "data": {
      "text/plain": [
       "(3, 4)"
      ]
     },
     "execution_count": 77,
     "metadata": {},
     "output_type": "execute_result"
    }
   ],
   "source": [
    "np.empty_like(arr).shape"
   ]
  },
  {
   "cell_type": "markdown",
   "id": "ba60684b-0016-444d-8089-d5c5df6cebcc",
   "metadata": {},
   "source": [
    "## np.full /  np.full_like / np.ones / np.ones_like / np.zeros / np.zeros_like"
   ]
  },
  {
   "cell_type": "code",
   "execution_count": 78,
   "id": "b0c0f93d-ed9a-4d0f-ba79-00dd7feb3f48",
   "metadata": {},
   "outputs": [
    {
     "data": {
      "text/plain": [
       "array([[0.1, 0.1, 0.1],\n",
       "       [0.1, 0.1, 0.1]])"
      ]
     },
     "execution_count": 78,
     "metadata": {},
     "output_type": "execute_result"
    }
   ],
   "source": [
    "np.full([2,3],0.1)"
   ]
  },
  {
   "cell_type": "code",
   "execution_count": 80,
   "id": "a1c3f9da-3c55-48b0-b4c1-78ba66d7404a",
   "metadata": {},
   "outputs": [
    {
     "data": {
      "text/plain": [
       "array([[0.1, 0.1, 0.1],\n",
       "       [0.1, 0.1, 0.1]])"
      ]
     },
     "execution_count": 80,
     "metadata": {},
     "output_type": "execute_result"
    }
   ],
   "source": [
    "np.ones([2,3]) * 0.1"
   ]
  },
  {
   "cell_type": "code",
   "execution_count": 81,
   "id": "86d261bb-3b78-44a4-97c4-1213f5d94213",
   "metadata": {},
   "outputs": [
    {
     "data": {
      "text/plain": [
       "array([0.1, 0.1, 0.1, 0.1, 0.1, 0.1, 0.1, 0.1, 0.1, 0.1, 0.1, 0.1, 0.1,\n",
       "       0.1, 0.1, 0.1, 0.1, 0.1, 0.1, 0.1, 0.1, 0.1, 0.1, 0.1, 0.1, 0.1,\n",
       "       0.1, 0.1, 0.1, 0.1, 0.1, 0.1, 0.1, 0.1, 0.1, 0.1, 0.1, 0.1, 0.1,\n",
       "       0.1, 0.1, 0.1, 0.1, 0.1, 0.1, 0.1, 0.1, 0.1, 0.1, 0.1, 0.1, 0.1,\n",
       "       0.1, 0.1, 0.1, 0.1, 0.1, 0.1, 0.1, 0.1, 0.1, 0.1, 0.1, 0.1, 0.1,\n",
       "       0.1, 0.1, 0.1, 0.1, 0.1, 0.1, 0.1, 0.1, 0.1, 0.1, 0.1, 0.1, 0.1,\n",
       "       0.1, 0.1, 0.1, 0.1, 0.1, 0.1, 0.1, 0.1, 0.1, 0.1, 0.1, 0.1, 0.1,\n",
       "       0.1, 0.1, 0.1, 0.1, 0.1, 0.1, 0.1, 0.1, 0.1])"
      ]
     },
     "execution_count": 81,
     "metadata": {},
     "output_type": "execute_result"
    }
   ],
   "source": [
    "np.ones(100) * 0.1"
   ]
  },
  {
   "cell_type": "code",
   "execution_count": 84,
   "id": "0718102c-2a4b-4170-b0a4-76479e8b0e46",
   "metadata": {},
   "outputs": [
    {
     "data": {
      "text/plain": [
       "array([[0., 0., 0.],\n",
       "       [0., 0., 0.],\n",
       "       [0., 0., 0.]])"
      ]
     },
     "execution_count": 84,
     "metadata": {},
     "output_type": "execute_result"
    }
   ],
   "source": [
    "np.zeros([3,3])"
   ]
  },
  {
   "cell_type": "markdown",
   "id": "693081a7-dc48-4abe-86c4-d1c07519b0da",
   "metadata": {},
   "source": [
    "## np.identity / np.eyes\n",
    "* identity\n",
    "    * 주대각선의 원소가 1이고 나머지는 모두 0인 단위행렬을 만들어 준다.\n",
    "    * 항등원 방정식을 풀기 위해서\n",
    "    * 역원\n",
    "    * 1+x = 3\n",
    "    * x = 3-1 = 2\n",
    "* eye\n",
    "    * 원하는 column만 선택할 수 있다."
   ]
  },
  {
   "cell_type": "code",
   "execution_count": 86,
   "id": "a7a24ab8-e8c8-4624-958d-1fee81e2bafe",
   "metadata": {},
   "outputs": [
    {
     "data": {
      "text/plain": [
       "array([[1., 0., 0.],\n",
       "       [0., 1., 0.],\n",
       "       [0., 0., 1.]])"
      ]
     },
     "execution_count": 86,
     "metadata": {},
     "output_type": "execute_result"
    }
   ],
   "source": [
    "np.identity(3)"
   ]
  },
  {
   "cell_type": "code",
   "execution_count": 93,
   "id": "2d6357d2-5865-42c2-94d5-4a98b257f6b1",
   "metadata": {},
   "outputs": [
    {
     "data": {
      "text/plain": [
       "array([[8, 5, 1],\n",
       "       [4, 4, 9],\n",
       "       [9, 1, 6]])"
      ]
     },
     "execution_count": 93,
     "metadata": {},
     "output_type": "execute_result"
    }
   ],
   "source": [
    "x= np.random.randint(0,10,9).reshape(3,3) \n",
    "x"
   ]
  },
  {
   "cell_type": "code",
   "execution_count": 94,
   "id": "dc11dbb4-6e74-42fe-91ef-9b72fb996ded",
   "metadata": {},
   "outputs": [
    {
     "data": {
      "text/plain": [
       "array([[8., 5., 1.],\n",
       "       [4., 4., 9.],\n",
       "       [9., 1., 6.]])"
      ]
     },
     "execution_count": 94,
     "metadata": {},
     "output_type": "execute_result"
    }
   ],
   "source": [
    "np.dot(x, np.identity(3))"
   ]
  },
  {
   "cell_type": "code",
   "execution_count": 89,
   "id": "34245b13-b148-41d0-af39-2d3c4606cdc5",
   "metadata": {},
   "outputs": [
    {
     "data": {
      "text/plain": [
       "array([[1., 0.],\n",
       "       [0., 1.],\n",
       "       [0., 0.]])"
      ]
     },
     "execution_count": 89,
     "metadata": {},
     "output_type": "execute_result"
    }
   ],
   "source": [
    "np.eye(3,2)"
   ]
  },
  {
   "cell_type": "code",
   "execution_count": 95,
   "id": "86b2ab7d-de35-4d08-8e7c-919fa8ebce42",
   "metadata": {},
   "outputs": [
    {
     "data": {
      "text/plain": [
       "array([[8., 5.],\n",
       "       [4., 4.],\n",
       "       [9., 1.]])"
      ]
     },
     "execution_count": 95,
     "metadata": {},
     "output_type": "execute_result"
    }
   ],
   "source": [
    "np.dot(x,np.eye(3,2))"
   ]
  },
  {
   "cell_type": "code",
   "execution_count": 98,
   "id": "ecb41fed-0ef8-489c-aba8-f0bc1bff334e",
   "metadata": {},
   "outputs": [
    {
     "data": {
      "text/plain": [
       "array([[0., 0., 1.],\n",
       "       [0., 0., 0.],\n",
       "       [0., 0., 0.]])"
      ]
     },
     "execution_count": 98,
     "metadata": {},
     "output_type": "execute_result"
    }
   ],
   "source": [
    "np.eye(3,k=2)"
   ]
  },
  {
   "cell_type": "code",
   "execution_count": 99,
   "id": "d56b5502-92c0-4ace-89ec-808a3b78066e",
   "metadata": {},
   "outputs": [
    {
     "data": {
      "text/plain": [
       "array([[0., 1., 0.],\n",
       "       [0., 0., 1.],\n",
       "       [0., 0., 0.]])"
      ]
     },
     "execution_count": 99,
     "metadata": {},
     "output_type": "execute_result"
    }
   ],
   "source": [
    "np.eye(3,k=1)"
   ]
  },
  {
   "cell_type": "code",
   "execution_count": 100,
   "id": "e82133fd-5cca-467c-90e9-f319914ea603",
   "metadata": {},
   "outputs": [
    {
     "data": {
      "text/plain": [
       "array([[1., 0., 0.],\n",
       "       [0., 1., 0.],\n",
       "       [0., 0., 1.]])"
      ]
     },
     "execution_count": 100,
     "metadata": {},
     "output_type": "execute_result"
    }
   ],
   "source": [
    "np.eye(3,k=0)"
   ]
  },
  {
   "cell_type": "code",
   "execution_count": 96,
   "id": "3ffc9f26-47c6-4476-9fa3-39e8b9b48798",
   "metadata": {},
   "outputs": [
    {
     "data": {
      "text/plain": [
       "array([[0., 0., 8.],\n",
       "       [0., 0., 4.],\n",
       "       [0., 0., 9.]])"
      ]
     },
     "execution_count": 96,
     "metadata": {},
     "output_type": "execute_result"
    }
   ],
   "source": [
    "np.dot(x,np.eye(3,k=2))"
   ]
  },
  {
   "cell_type": "markdown",
   "id": "0889c160-0577-446d-bc53-48f8cc8fff3c",
   "metadata": {},
   "source": [
    "## random 모듈\n",
    "* 초기값을 주어줄때\n",
    "    * random.rand() 주어진 형태의 난수 어레이 생성\n",
    "        * 표준정규분포로부터 샘플링된 난수를 반환\n",
    "        * 종모양 normal distribution : x축 0: y축 : 0이 나온 빈도수\n",
    "        * weight 초기화할 때\n",
    "        * 1 - 1/표준편차**2\n",
    "        * 3시그마만큼 떨어졌을 때 8/9 -> 88%안에 속한다.\n",
    "    * random.randint() [최소값,최대값] 범위에서 임의의 정수를 생성\n",
    "    * np.random.randint(1,5,size=(2,3)) 원하는 형태의 어레이 생성\n",
    "    * np.random.choice() 1차원 어레이로부터 임의의 샘플을 뽑는다. -> 비복원 추출\n",
    "    * np.random.seed() 코드를 실행할 때마다 동일한 난수를 생성"
   ]
  },
  {
   "cell_type": "code",
   "execution_count": 101,
   "id": "92f9e27b-c8e5-445c-9737-4d81c551c45e",
   "metadata": {},
   "outputs": [
    {
     "data": {
      "text/plain": [
       "array([[4, 4, 2],\n",
       "       [2, 4, 1]])"
      ]
     },
     "execution_count": 101,
     "metadata": {},
     "output_type": "execute_result"
    }
   ],
   "source": [
    "np.random.randint(1,5,size=(2,3))"
   ]
  },
  {
   "cell_type": "code",
   "execution_count": 103,
   "id": "3fd41aa4-2452-4449-b385-5847639f7cbe",
   "metadata": {},
   "outputs": [
    {
     "data": {
      "text/plain": [
       "array([[0.9083062 , 0.72651499, 0.40028458],\n",
       "       [0.75827527, 0.97874547, 0.13448079]])"
      ]
     },
     "execution_count": 103,
     "metadata": {},
     "output_type": "execute_result"
    }
   ],
   "source": [
    "np.random.rand(2,3)"
   ]
  },
  {
   "cell_type": "code",
   "execution_count": 106,
   "id": "4c6b8491-9f42-40bf-b0bb-3c85889ec906",
   "metadata": {},
   "outputs": [
    {
     "data": {
      "text/plain": [
       "array([7, 2, 5, 3, 6, 7, 5, 4, 3, 3])"
      ]
     },
     "execution_count": 106,
     "metadata": {},
     "output_type": "execute_result"
    }
   ],
   "source": [
    "arr = np.random.randint(10,size=(10))\n",
    "arr"
   ]
  },
  {
   "cell_type": "code",
   "execution_count": 107,
   "id": "21441425-f368-4d2d-8a4d-690aa722c11c",
   "metadata": {},
   "outputs": [
    {
     "data": {
      "text/plain": [
       "(10,)"
      ]
     },
     "execution_count": 107,
     "metadata": {},
     "output_type": "execute_result"
    }
   ],
   "source": [
    "arr.shape"
   ]
  },
  {
   "cell_type": "code",
   "execution_count": 109,
   "id": "61cf39a7-25b0-43d7-bde3-aeaa0157a388",
   "metadata": {},
   "outputs": [
    {
     "data": {
      "text/plain": [
       "(10, 1, 1)"
      ]
     },
     "execution_count": 109,
     "metadata": {},
     "output_type": "execute_result"
    }
   ],
   "source": [
    "arr[:,np.newaxis,np.newaxis].shape"
   ]
  },
  {
   "cell_type": "code",
   "execution_count": 110,
   "id": "37d52f4b-307e-460f-8fde-2878db8a65c0",
   "metadata": {},
   "outputs": [
    {
     "data": {
      "text/plain": [
       "array([[7],\n",
       "       [2],\n",
       "       [5],\n",
       "       [3],\n",
       "       [6],\n",
       "       [7],\n",
       "       [5],\n",
       "       [4],\n",
       "       [3],\n",
       "       [3]])"
      ]
     },
     "execution_count": 110,
     "metadata": {},
     "output_type": "execute_result"
    }
   ],
   "source": [
    "arr.reshape(10,1) #이렇게하면 됨"
   ]
  },
  {
   "cell_type": "code",
   "execution_count": 111,
   "id": "ae2922a6-6d61-4cf1-8cf4-9936025d09f3",
   "metadata": {},
   "outputs": [
    {
     "data": {
      "text/plain": [
       "(10, 1, 1)"
      ]
     },
     "execution_count": 111,
     "metadata": {},
     "output_type": "execute_result"
    }
   ],
   "source": [
    "arr.reshape(-1,1,1).shape"
   ]
  },
  {
   "cell_type": "markdown",
   "id": "b47d32a0-7875-4ee7-80ef-8568e258ffd5",
   "metadata": {},
   "source": [
    "## numpy slicing / indexing"
   ]
  },
  {
   "cell_type": "code",
   "execution_count": 113,
   "id": "bae4b817-4fa2-4d64-9307-36dd10c7d2d7",
   "metadata": {},
   "outputs": [
    {
     "data": {
      "text/plain": [
       "[1, 5, 0, 4, 2, 8, 9, 6, 6, 1]"
      ]
     },
     "execution_count": 113,
     "metadata": {},
     "output_type": "execute_result"
    }
   ],
   "source": [
    "li = list(np.random.randint(10,size=(10)))\n",
    "li"
   ]
  },
  {
   "cell_type": "code",
   "execution_count": 114,
   "id": "7e932366-6015-4f74-b3e6-02b5e03342ed",
   "metadata": {},
   "outputs": [
    {
     "data": {
      "text/plain": [
       "[1, 5, 0]"
      ]
     },
     "execution_count": 114,
     "metadata": {},
     "output_type": "execute_result"
    }
   ],
   "source": [
    "li[:3]"
   ]
  },
  {
   "cell_type": "code",
   "execution_count": 115,
   "id": "a9c8d865-07c4-49a8-9ff5-7f6e0261af1e",
   "metadata": {},
   "outputs": [
    {
     "data": {
      "text/plain": [
       "[4, 2, 8]"
      ]
     },
     "execution_count": 115,
     "metadata": {},
     "output_type": "execute_result"
    }
   ],
   "source": [
    "li[3:6]"
   ]
  },
  {
   "cell_type": "markdown",
   "id": "2632b32b-5c32-47eb-9416-b59fe240fb10",
   "metadata": {},
   "source": [
    "### 띄엄띄엄 가져오는 fancy indexing은 list에서 지원하지 않는다."
   ]
  },
  {
   "cell_type": "code",
   "execution_count": 116,
   "id": "ba78bc89-9a33-47e3-9f39-92c6e6737237",
   "metadata": {},
   "outputs": [
    {
     "data": {
      "text/plain": [
       "5"
      ]
     },
     "execution_count": 116,
     "metadata": {},
     "output_type": "execute_result"
    }
   ],
   "source": [
    "li[1]"
   ]
  },
  {
   "cell_type": "code",
   "execution_count": 117,
   "id": "4d646704-68d1-4a06-8ab2-6547f7a937cd",
   "metadata": {},
   "outputs": [
    {
     "data": {
      "text/plain": [
       "[2, 8]"
      ]
     },
     "execution_count": 117,
     "metadata": {},
     "output_type": "execute_result"
    }
   ],
   "source": [
    "li[4:6]"
   ]
  },
  {
   "cell_type": "markdown",
   "id": "75be6ad5-68a6-4590-88fd-ff5873aafad8",
   "metadata": {},
   "source": [
    "### 위의 두개를 합쳐서 사용하는 방법 밖에 없다."
   ]
  },
  {
   "cell_type": "code",
   "execution_count": 118,
   "id": "5e1b7551-3c8c-4db3-95b6-39715f1d5e09",
   "metadata": {},
   "outputs": [
    {
     "data": {
      "text/plain": [
       "[5, 2, 8]"
      ]
     },
     "execution_count": 118,
     "metadata": {},
     "output_type": "execute_result"
    }
   ],
   "source": [
    "idx = [1,4,5]\n",
    "[li[x] for x in idx]"
   ]
  },
  {
   "cell_type": "markdown",
   "id": "2c802dda-5d97-4bd4-87c6-395be5ec3443",
   "metadata": {},
   "source": [
    "### 그러나 numpy는 fancy indexing을 지원한다."
   ]
  },
  {
   "cell_type": "code",
   "execution_count": 122,
   "id": "c9a31de8-389f-449b-8112-e6bc1c95c5a8",
   "metadata": {},
   "outputs": [
    {
     "data": {
      "text/plain": [
       "array([3, 1, 6, 7, 2, 8, 8, 1, 9, 4])"
      ]
     },
     "execution_count": 122,
     "metadata": {},
     "output_type": "execute_result"
    }
   ],
   "source": [
    "arr = np.random.randint(10,size=(10))\n",
    "arr"
   ]
  },
  {
   "cell_type": "code",
   "execution_count": 123,
   "id": "50e5e41f-4320-4100-8c8e-05b0e5f47d8f",
   "metadata": {},
   "outputs": [
    {
     "data": {
      "text/plain": [
       "array([1, 2, 8])"
      ]
     },
     "execution_count": 123,
     "metadata": {},
     "output_type": "execute_result"
    }
   ],
   "source": [
    "arr[[1,4,5]]"
   ]
  },
  {
   "cell_type": "code",
   "execution_count": 124,
   "id": "6a059fcc-3aff-4bd1-91f1-a892bad8a1a0",
   "metadata": {},
   "outputs": [
    {
     "data": {
      "text/plain": [
       "array([1, 2, 8])"
      ]
     },
     "execution_count": 124,
     "metadata": {},
     "output_type": "execute_result"
    }
   ],
   "source": [
    "arr[idx]"
   ]
  },
  {
   "cell_type": "markdown",
   "id": "50fda6b6-19b3-415b-96c7-3e3c6bb357ec",
   "metadata": {},
   "source": [
    "## argmax, argmin ,max, min"
   ]
  },
  {
   "cell_type": "code",
   "execution_count": 126,
   "id": "26928235-39b0-44a3-9c9c-59b46da3e9a0",
   "metadata": {},
   "outputs": [
    {
     "data": {
      "text/plain": [
       "8"
      ]
     },
     "execution_count": 126,
     "metadata": {},
     "output_type": "execute_result"
    }
   ],
   "source": [
    "np.argmax(arr)  #최댓값의 index를 return해준다."
   ]
  },
  {
   "cell_type": "code",
   "execution_count": 127,
   "id": "5d40874c-1be3-4277-b902-23135ecc5375",
   "metadata": {},
   "outputs": [
    {
     "data": {
      "text/plain": [
       "1"
      ]
     },
     "execution_count": 127,
     "metadata": {},
     "output_type": "execute_result"
    }
   ],
   "source": [
    "np.argmin(arr) #최솟값의 index를 return해준다."
   ]
  },
  {
   "cell_type": "code",
   "execution_count": 128,
   "id": "cabf7519-85f3-4134-a938-50ed125b2e51",
   "metadata": {},
   "outputs": [
    {
     "data": {
      "text/plain": [
       "9"
      ]
     },
     "execution_count": 128,
     "metadata": {},
     "output_type": "execute_result"
    }
   ],
   "source": [
    "np.max(arr) #최댓값을 return한다."
   ]
  },
  {
   "cell_type": "code",
   "execution_count": 129,
   "id": "564d6e13-fd84-4f13-ab6d-2b9c97fdea4d",
   "metadata": {},
   "outputs": [
    {
     "data": {
      "text/plain": [
       "1"
      ]
     },
     "execution_count": 129,
     "metadata": {},
     "output_type": "execute_result"
    }
   ],
   "source": [
    "np.min(arr)"
   ]
  },
  {
   "cell_type": "code",
   "execution_count": 131,
   "id": "00decd20-e156-4368-a2cb-3b7f61f857a1",
   "metadata": {},
   "outputs": [
    {
     "data": {
      "text/plain": [
       "array([3, 1, 6, 7, 2, 8, 8, 1, 9, 4])"
      ]
     },
     "execution_count": 131,
     "metadata": {},
     "output_type": "execute_result"
    }
   ],
   "source": [
    "arr"
   ]
  },
  {
   "cell_type": "code",
   "execution_count": 130,
   "id": "4e14d939-2ac6-4dae-9342-66d7bab842c4",
   "metadata": {},
   "outputs": [
    {
     "data": {
      "text/plain": [
       "array([6, 7, 8, 8, 9])"
      ]
     },
     "execution_count": 130,
     "metadata": {},
     "output_type": "execute_result"
    }
   ],
   "source": [
    "arr[arr>5]"
   ]
  },
  {
   "cell_type": "code",
   "execution_count": 132,
   "id": "e17ac954-8815-4c8e-a02f-0e1b6b949739",
   "metadata": {},
   "outputs": [
    {
     "data": {
      "text/plain": [
       "array([8, 8])"
      ]
     },
     "execution_count": 132,
     "metadata": {},
     "output_type": "execute_result"
    }
   ],
   "source": [
    "arr[arr==8]"
   ]
  },
  {
   "cell_type": "code",
   "execution_count": 133,
   "id": "f323eae1-9d73-470b-863e-8c9f12287834",
   "metadata": {},
   "outputs": [
    {
     "data": {
      "text/plain": [
       "array([False, False, False, False, False,  True,  True, False, False,\n",
       "       False])"
      ]
     },
     "execution_count": 133,
     "metadata": {},
     "output_type": "execute_result"
    }
   ],
   "source": [
    "arr ==  8 #마스크"
   ]
  },
  {
   "cell_type": "code",
   "execution_count": 134,
   "id": "57dfaa7b-1c2d-4a69-a1d0-85416262d5aa",
   "metadata": {},
   "outputs": [
    {
     "data": {
      "text/plain": [
       "array([6, 7, 8, 8, 9])"
      ]
     },
     "execution_count": 134,
     "metadata": {},
     "output_type": "execute_result"
    }
   ],
   "source": [
    "arr[arr > arr.mean()]"
   ]
  },
  {
   "cell_type": "code",
   "execution_count": 135,
   "id": "35bad35b-f64b-441b-90fc-7ac14b2f6b6a",
   "metadata": {},
   "outputs": [
    {
     "data": {
      "text/plain": [
       "4.9"
      ]
     },
     "execution_count": 135,
     "metadata": {},
     "output_type": "execute_result"
    }
   ],
   "source": [
    "np.mean(arr)"
   ]
  },
  {
   "cell_type": "code",
   "execution_count": 137,
   "id": "9c99fca0-036c-4bf6-993b-cca27deaa923",
   "metadata": {},
   "outputs": [
    {
     "data": {
      "text/plain": [
       "4.9"
      ]
     },
     "execution_count": 137,
     "metadata": {},
     "output_type": "execute_result"
    }
   ],
   "source": [
    "arr.mean()"
   ]
  },
  {
   "cell_type": "code",
   "execution_count": 138,
   "id": "3236d141-ab6d-4e92-a67d-d07b50a513eb",
   "metadata": {},
   "outputs": [],
   "source": [
    "arr = np.random.randint(10,size=12).reshape(4,3)"
   ]
  },
  {
   "cell_type": "code",
   "execution_count": 139,
   "id": "4f80b44a-e268-426b-82b6-2bcec5f18b26",
   "metadata": {},
   "outputs": [
    {
     "data": {
      "text/plain": [
       "array([[8, 1, 4],\n",
       "       [6, 4, 9],\n",
       "       [9, 0, 4],\n",
       "       [6, 1, 9]])"
      ]
     },
     "execution_count": 139,
     "metadata": {},
     "output_type": "execute_result"
    }
   ],
   "source": [
    "arr"
   ]
  },
  {
   "cell_type": "code",
   "execution_count": 142,
   "id": "8899bf19-ce75-4df1-bf32-7e98baabf709",
   "metadata": {},
   "outputs": [
    {
     "data": {
      "text/plain": [
       "array([[4, 9],\n",
       "       [0, 4]])"
      ]
     },
     "execution_count": 142,
     "metadata": {},
     "output_type": "execute_result"
    }
   ],
   "source": [
    "arr[[1,2],:][:,[1,2]]"
   ]
  },
  {
   "cell_type": "code",
   "execution_count": 143,
   "id": "995c3798-0e96-41bb-9f5d-d950d0e10966",
   "metadata": {},
   "outputs": [
    {
     "data": {
      "text/plain": [
       "array([[4, 9],\n",
       "       [0, 4]])"
      ]
     },
     "execution_count": 143,
     "metadata": {},
     "output_type": "execute_result"
    }
   ],
   "source": [
    "arr[1:3,1:3]"
   ]
  },
  {
   "cell_type": "code",
   "execution_count": 144,
   "id": "c8e8862c-fa5f-4af8-a754-fbcf06afd2f9",
   "metadata": {},
   "outputs": [
    {
     "data": {
      "text/plain": [
       "array([[8, 1, 4],\n",
       "       [6, 4, 9],\n",
       "       [9, 0, 4],\n",
       "       [6, 1, 9]])"
      ]
     },
     "execution_count": 144,
     "metadata": {},
     "output_type": "execute_result"
    }
   ],
   "source": [
    "arr"
   ]
  },
  {
   "cell_type": "code",
   "execution_count": 147,
   "id": "9a0c06b2-69d8-44be-9733-1b99d2a9b281",
   "metadata": {},
   "outputs": [
    {
     "data": {
      "text/plain": [
       "6"
      ]
     },
     "execution_count": 147,
     "metadata": {},
     "output_type": "execute_result"
    }
   ],
   "source": [
    "#3번째 열의 가장 큰 값의 1번째 열 값 가져오기\n",
    "arr[np.argmax(arr[:,2]),0]"
   ]
  },
  {
   "cell_type": "code",
   "execution_count": 148,
   "id": "04bc9e78-9276-4116-867a-e00db91ff16b",
   "metadata": {},
   "outputs": [
    {
     "data": {
      "text/plain": [
       "1"
      ]
     },
     "execution_count": 148,
     "metadata": {},
     "output_type": "execute_result"
    }
   ],
   "source": [
    "np.argmax(arr[:,2])"
   ]
  },
  {
   "cell_type": "markdown",
   "id": "1e6d3c6d-bf76-4c05-ba4e-5fd8b267274f",
   "metadata": {},
   "source": [
    "## 통계함수 - 한개의 값으로 return된다.\n",
    "* np.sum()\n",
    "* np.mean()\n",
    "* np.var\n",
    "* np.std()\n",
    "* cor가 붙은 함수는 쌍으로 나온다."
   ]
  },
  {
   "cell_type": "code",
   "execution_count": null,
   "id": "dcc5ac3c-3f07-4f17-aa71-709a3ce7b81f",
   "metadata": {},
   "outputs": [],
   "source": []
  }
 ],
 "metadata": {
  "kernelspec": {
   "display_name": "Six",
   "language": "python",
   "name": "six"
  },
  "language_info": {
   "codemirror_mode": {
    "name": "ipython",
    "version": 3
   },
   "file_extension": ".py",
   "mimetype": "text/x-python",
   "name": "python",
   "nbconvert_exporter": "python",
   "pygments_lexer": "ipython3",
   "version": "3.8.13"
  }
 },
 "nbformat": 4,
 "nbformat_minor": 5
}
