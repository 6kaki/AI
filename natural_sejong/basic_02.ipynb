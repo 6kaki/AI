{
 "cells": [
  {
   "cell_type": "markdown",
   "id": "9f6f5fb5-812d-4bb0-8671-fb1515471612",
   "metadata": {},
   "source": [
    "## for"
   ]
  },
  {
   "cell_type": "code",
   "execution_count": 1,
   "id": "54ec8660-bd8d-46f7-becb-13512ef93487",
   "metadata": {},
   "outputs": [
    {
     "name": "stdout",
     "output_type": "stream",
     "text": [
      "1\n",
      "2\n",
      "3\n"
     ]
    }
   ],
   "source": [
    "li =[1,2,3]\n",
    "\n",
    "for  i in  li:\n",
    "    print(i)"
   ]
  },
  {
   "cell_type": "markdown",
   "id": "d30c3755-7d8e-4091-a8ba-11aa899013ae",
   "metadata": {},
   "source": [
    "## dict\n",
    "* dic = {'key':'value'}\n",
    "* JSON 형식"
   ]
  },
  {
   "cell_type": "code",
   "execution_count": 2,
   "id": "0d313e08-7d19-4393-9e25-a672b10c4dca",
   "metadata": {},
   "outputs": [],
   "source": [
    "dic = {'one':1,'two':2,'three':3,'four':4}"
   ]
  },
  {
   "cell_type": "code",
   "execution_count": 3,
   "id": "a108c412-55cd-4e97-a780-1dbc1ffb0a7e",
   "metadata": {},
   "outputs": [
    {
     "data": {
      "text/plain": [
       "{'one': 1, 'two': 2, 'three': 3, 'four': 4}"
      ]
     },
     "execution_count": 3,
     "metadata": {},
     "output_type": "execute_result"
    }
   ],
   "source": [
    "dic"
   ]
  },
  {
   "cell_type": "code",
   "execution_count": 4,
   "id": "e35bc33d-4003-47ba-acb6-fad586d39f42",
   "metadata": {},
   "outputs": [
    {
     "data": {
      "text/plain": [
       "dict_items([('one', 1), ('two', 2), ('three', 3), ('four', 4)])"
      ]
     },
     "execution_count": 4,
     "metadata": {},
     "output_type": "execute_result"
    }
   ],
   "source": [
    "dic.items()"
   ]
  },
  {
   "cell_type": "code",
   "execution_count": 6,
   "id": "18c82f5b-86ea-45de-a999-61f63c7d6613",
   "metadata": {},
   "outputs": [
    {
     "data": {
      "text/plain": [
       "dict_keys"
      ]
     },
     "execution_count": 6,
     "metadata": {},
     "output_type": "execute_result"
    }
   ],
   "source": [
    "type(dic.keys())"
   ]
  },
  {
   "cell_type": "code",
   "execution_count": 8,
   "id": "273642ee-417d-444d-8d33-37a9fcfdd4cb",
   "metadata": {},
   "outputs": [
    {
     "data": {
      "text/plain": [
       "dict_keys(['one', 'two', 'three', 'four'])"
      ]
     },
     "execution_count": 8,
     "metadata": {},
     "output_type": "execute_result"
    }
   ],
   "source": [
    "dic.keys()\n",
    "#list"
   ]
  },
  {
   "cell_type": "code",
   "execution_count": 9,
   "id": "03de951b-ae9d-4e4f-9b7b-32ebeee16d6d",
   "metadata": {},
   "outputs": [
    {
     "data": {
      "text/plain": [
       "dict_values([1, 2, 3, 4])"
      ]
     },
     "execution_count": 9,
     "metadata": {},
     "output_type": "execute_result"
    }
   ],
   "source": [
    "dic.values()"
   ]
  },
  {
   "cell_type": "code",
   "execution_count": 10,
   "id": "4baa8413-b18f-4c56-926c-8b9c3bf273d8",
   "metadata": {},
   "outputs": [],
   "source": [
    "key = list(dic.keys())\n",
    "value = list(dic.values())"
   ]
  },
  {
   "cell_type": "code",
   "execution_count": 11,
   "id": "e127c0d1-501b-476f-ae94-4a604b7c5a86",
   "metadata": {},
   "outputs": [
    {
     "data": {
      "text/plain": [
       "['one', 'two', 'three', 'four']"
      ]
     },
     "execution_count": 11,
     "metadata": {},
     "output_type": "execute_result"
    }
   ],
   "source": [
    "key"
   ]
  },
  {
   "cell_type": "code",
   "execution_count": 12,
   "id": "054ef0d6-40b8-4bbc-a851-2efba3ade5f0",
   "metadata": {},
   "outputs": [
    {
     "data": {
      "text/plain": [
       "[1, 2, 3, 4]"
      ]
     },
     "execution_count": 12,
     "metadata": {},
     "output_type": "execute_result"
    }
   ],
   "source": [
    "value"
   ]
  },
  {
   "cell_type": "code",
   "execution_count": 15,
   "id": "1b8bbba7-d738-47a5-90ac-746924368866",
   "metadata": {},
   "outputs": [
    {
     "data": {
      "text/plain": [
       "{'one': 1, 'two': 2, 'three': 3, 'four': 4}"
      ]
     },
     "execution_count": 15,
     "metadata": {},
     "output_type": "execute_result"
    }
   ],
   "source": [
    "# for문을 이용해서 dict 생성\n",
    "dic2={}\n",
    "\n",
    "for i in range(len(key)):\n",
    "    dic2[key[i]] =value[i]\n",
    "    \n",
    "dic2"
   ]
  },
  {
   "cell_type": "markdown",
   "id": "adc1f3e0-57c2-444d-b9c7-d9ebdf857be1",
   "metadata": {},
   "source": [
    "### 내부의 숫자가 몇번 등장하는지"
   ]
  },
  {
   "cell_type": "code",
   "execution_count": 19,
   "id": "3228009f-2619-415c-8426-c4f50548e8fd",
   "metadata": {},
   "outputs": [
    {
     "data": {
      "text/plain": [
       "{1: 2, 2: 3, 3: 2, 4: 1}"
      ]
     },
     "execution_count": 19,
     "metadata": {},
     "output_type": "execute_result"
    }
   ],
   "source": [
    "number = [1,1,2,2,2,3,3,4]\n",
    "counter={}\n",
    "\n",
    "for i in number:\n",
    "    if i in counter.keys():\n",
    "        counter[i]+=1\n",
    "    else:\n",
    "        counter[i]=1\n",
    "        \n",
    "counter"
   ]
  },
  {
   "cell_type": "code",
   "execution_count": 21,
   "id": "4682a05a-4ce5-4cf1-8fb1-e93387269c56",
   "metadata": {},
   "outputs": [
    {
     "data": {
      "text/plain": [
       "{1: 2, 2: 3, 3: 2, 4: 1}"
      ]
     },
     "execution_count": 21,
     "metadata": {},
     "output_type": "execute_result"
    }
   ],
   "source": [
    "count3={}\n",
    "for i in number:\n",
    "    if count3.get(i): #오류를 발생하지 않는 .get()을 사용할 수 있다.\n",
    "        count3[i] += 1\n",
    "    else:\n",
    "        count3[i] = 1\n",
    "        \n",
    "count3"
   ]
  },
  {
   "cell_type": "code",
   "execution_count": 22,
   "id": "822eef04-a58b-4419-a51f-acf203c4fa91",
   "metadata": {},
   "outputs": [],
   "source": [
    "#python은  / 사용하면 무조건 float으로 변환"
   ]
  },
  {
   "cell_type": "markdown",
   "id": "6ee2ab04-f03a-40f1-9d7f-2e8c133c689b",
   "metadata": {},
   "source": [
    "## fstring, format"
   ]
  },
  {
   "cell_type": "code",
   "execution_count": 30,
   "id": "0d442abb-86ef-4c8e-96fb-4db2bafd8190",
   "metadata": {},
   "outputs": [
    {
     "name": "stdout",
     "output_type": "stream",
     "text": [
      "1번째 숫자는 273입니다.\n",
      "2번째 숫자는 32입니다.\n",
      "3번째 숫자는 103입니다.\n",
      "4번째 숫자는 57입니다.\n",
      "5번째 숫자는 52입니다.\n"
     ]
    }
   ],
   "source": [
    "array=[273,32,103,57,52]\n",
    "\n",
    "for i in range(len(array)):\n",
    "    print(f'{i+1}번째 숫자는 {array[i]}입니다.')"
   ]
  },
  {
   "cell_type": "code",
   "execution_count": 29,
   "id": "4b00ae13-0f55-4c60-813b-fe0c919f3de2",
   "metadata": {},
   "outputs": [
    {
     "name": "stdout",
     "output_type": "stream",
     "text": [
      "      1.29\n"
     ]
    }
   ],
   "source": [
    "a = 1.29372\n",
    "print(f'{a:10.2f}')"
   ]
  },
  {
   "cell_type": "code",
   "execution_count": 31,
   "id": "96ab086a-ae63-4909-9d9e-13d5ab894cb3",
   "metadata": {},
   "outputs": [
    {
     "name": "stdout",
     "output_type": "stream",
     "text": [
      "0번째 숫자는 273입니다.\n",
      "1번째 숫자는 32입니다.\n",
      "2번째 숫자는 103입니다.\n",
      "3번째 숫자는 57입니다.\n",
      "4번째 숫자는 52입니다.\n"
     ]
    }
   ],
   "source": [
    "array=[273,32,103,57,52]\n",
    "\n",
    "for i in range(len(array)):\n",
    "    print('{}번째 숫자는 {}입니다.'.format(i,array[i]))"
   ]
  },
  {
   "cell_type": "markdown",
   "id": "ef9e29c0-a7e9-45e4-bc55-a5eac9ab9564",
   "metadata": {},
   "source": [
    "## while\n",
    "* 내가 몇번을 반복해야하는지 모를 때"
   ]
  },
  {
   "cell_type": "markdown",
   "id": "d11ed906-37bd-48d2-8ce1-e552b518152c",
   "metadata": {},
   "source": [
    "## enumerate\n",
    "* index를 함께 "
   ]
  },
  {
   "cell_type": "code",
   "execution_count": 33,
   "id": "f91b8d9a-f08d-4a94-8c55-afdb8b6fbaae",
   "metadata": {},
   "outputs": [
    {
     "name": "stdout",
     "output_type": "stream",
     "text": [
      "0 273\n",
      "1 32\n",
      "2 103\n",
      "3 57\n",
      "4 52\n"
     ]
    }
   ],
   "source": [
    "for i,v in enumerate(array):\n",
    "    print(i,v)"
   ]
  },
  {
   "cell_type": "markdown",
   "id": "893b201f-2923-425f-99cb-b822dc9b0068",
   "metadata": {},
   "source": [
    "## 함수\n",
    "* class의 method"
   ]
  },
  {
   "cell_type": "code",
   "execution_count": 35,
   "id": "330ef508-e01e-4f4a-ae81-7564bca4025e",
   "metadata": {},
   "outputs": [
    {
     "name": "stdout",
     "output_type": "stream",
     "text": [
      "안녕하세요\n",
      "안녕하세요\n",
      "안녕하세요\n",
      "\n"
     ]
    }
   ],
   "source": [
    "def print_3():\n",
    "    print('안녕하세요\\n'*3)\n",
    "    \n",
    "print_3()"
   ]
  },
  {
   "cell_type": "code",
   "execution_count": 37,
   "id": "64ce7214-2b33-4730-88b7-e2415b09fb7e",
   "metadata": {},
   "outputs": [
    {
     "name": "stdout",
     "output_type": "stream",
     "text": [
      "안녕하세요\n",
      "안녕하세요\n",
      "\n"
     ]
    }
   ],
   "source": [
    "def print_num(i):\n",
    "    print('안녕하세요\\n'*i)\n",
    "    \n",
    "print_num(2)"
   ]
  },
  {
   "cell_type": "code",
   "execution_count": 40,
   "id": "9aecb7aa-23ac-4281-8f91-d5eb801825fe",
   "metadata": {},
   "outputs": [
    {
     "name": "stdout",
     "output_type": "stream",
     "text": [
      "잘가세요\n",
      "잘가세요\n",
      "잘가세요\n",
      "\n"
     ]
    }
   ],
   "source": [
    "def anything(greeting,i):\n",
    "    print((greeting+'\\n')*i)\n",
    "    \n",
    "anything('잘가세요',3)"
   ]
  },
  {
   "cell_type": "code",
   "execution_count": 41,
   "id": "b1dab94f-19c2-4cf4-9249-9d1ada540f4b",
   "metadata": {},
   "outputs": [
    {
     "name": "stdout",
     "output_type": "stream",
     "text": [
      "잘가세요\n",
      "잘가세요\n",
      "잘가세요\n",
      "잘가세요\n",
      "잘가세요\n",
      "잘가세요\n"
     ]
    }
   ],
   "source": [
    "def anything2(greeting,i):\n",
    "    for i in range(i):\n",
    "        print(greeting)\n",
    "    \n",
    "anything2('잘가세요',6)"
   ]
  },
  {
   "cell_type": "code",
   "execution_count": 43,
   "id": "5017ccb7-1957-4e46-a057-649360504a41",
   "metadata": {},
   "outputs": [
    {
     "name": "stdout",
     "output_type": "stream",
     "text": [
      "잘가세요\n",
      "잘가세요\n",
      "잘가세요\n"
     ]
    }
   ],
   "source": [
    "def anything2(greeting='good afternoon',i=3):\n",
    "    for i in range(i):\n",
    "        print(greeting)\n",
    "    \n",
    "anything2('잘가세요')"
   ]
  },
  {
   "cell_type": "code",
   "execution_count": 45,
   "id": "c29a0d5d-186f-47be-97c7-54e023482aef",
   "metadata": {},
   "outputs": [
    {
     "name": "stdout",
     "output_type": "stream",
     "text": [
      "good afternoon\n",
      "good afternoon\n",
      "good afternoon\n"
     ]
    }
   ],
   "source": [
    "anything2()"
   ]
  },
  {
   "cell_type": "code",
   "execution_count": 46,
   "id": "ad6c0184-9fa9-4424-bd74-b0bb024fa606",
   "metadata": {},
   "outputs": [
    {
     "name": "stdout",
     "output_type": "stream",
     "text": [
      "hello\n",
      "hello\n",
      "hello\n",
      "hello\n",
      "hello\n",
      "hello\n"
     ]
    }
   ],
   "source": [
    "anything2('hello',6)"
   ]
  },
  {
   "cell_type": "code",
   "execution_count": 52,
   "id": "bb3c538c-cd8a-493e-a031-d59d480c4908",
   "metadata": {},
   "outputs": [],
   "source": [
    "def make_odd(li):\n",
    "    odd_list=[]\n",
    "    for i in li:\n",
    "        if i%2!=0:\n",
    "            odd_list.append(i)\n",
    "            \n",
    "    return odd_list"
   ]
  },
  {
   "cell_type": "code",
   "execution_count": 53,
   "id": "6bf36651-284a-426d-a08f-d8101361d106",
   "metadata": {},
   "outputs": [
    {
     "name": "stdout",
     "output_type": "stream",
     "text": [
      "[1, 3, 5, 7, 9, 11, 13, 15, 17, 19, 21, 23, 25, 27, 29, 31, 33, 35, 37, 39, 41, 43, 45, 47, 49, 51, 53, 55, 57, 59, 61, 63, 65, 67, 69, 71, 73, 75, 77, 79, 81, 83, 85, 87, 89, 91, 93, 95, 97, 99, 101, 103, 105, 107]\n"
     ]
    }
   ],
   "source": [
    "x=range(108)\n",
    "\n",
    "odd_list=make_odd(x)\n",
    "print(odd_list)"
   ]
  },
  {
   "cell_type": "code",
   "execution_count": 55,
   "id": "6f8a66fe-f06e-42f6-80dd-1750508e1f69",
   "metadata": {},
   "outputs": [
    {
     "name": "stdout",
     "output_type": "stream",
     "text": [
      "[1, 3, 5, 7, 9, 11, 13, 15, 17, 19, 21, 23, 25, 27, 29, 31, 33, 35, 37, 39, 41, 43, 45, 47, 49, 51, 53, 55, 57, 59, 61, 63, 65, 67, 69, 71, 73, 75, 77, 79, 81, 83, 85, 87, 89, 91, 93, 95, 97, 99, 101, 103, 105, 107]\n"
     ]
    }
   ],
   "source": [
    "odd_list2=[y for y in x if y%2!=0]\n",
    "print(odd_list2)"
   ]
  },
  {
   "cell_type": "code",
   "execution_count": 56,
   "id": "e5c9fb4d-f97c-4127-b112-8b28f154e2c0",
   "metadata": {},
   "outputs": [
    {
     "name": "stdout",
     "output_type": "stream",
     "text": [
      "2916\n",
      "2916\n"
     ]
    }
   ],
   "source": [
    "print(sum(odd_list))\n",
    "print(sum(odd_list2))"
   ]
  },
  {
   "cell_type": "code",
   "execution_count": 62,
   "id": "e1b9008e-582f-4f79-bb96-7d732a9bbc1f",
   "metadata": {},
   "outputs": [],
   "source": [
    "y = range(10)\n",
    "odd_list = make_odd(y)"
   ]
  },
  {
   "cell_type": "code",
   "execution_count": 65,
   "id": "7cb6a2fd-4a30-4f5f-9382-eadcd093e2d6",
   "metadata": {},
   "outputs": [
    {
     "name": "stdout",
     "output_type": "stream",
     "text": [
      "25.0\n"
     ]
    }
   ],
   "source": [
    "result=0\n",
    "for i in range(len(y)):\n",
    "    if i == int(len(y)/2):\n",
    "        break\n",
    "    sums = odd_list[i] + odd_list[-1-i]\n",
    "    a=sums/2\n",
    "    result+=a\n",
    "    \n",
    "print(result)"
   ]
  },
  {
   "cell_type": "code",
   "execution_count": 66,
   "id": "67a4ebd5-ebe1-4180-a529-bef4dcbcd767",
   "metadata": {},
   "outputs": [],
   "source": [
    "def xx(a,b):\n",
    "    return a*b"
   ]
  },
  {
   "cell_type": "code",
   "execution_count": 67,
   "id": "5c3c7a00-e9d5-4ed7-8b28-6c4c7f50447e",
   "metadata": {},
   "outputs": [
    {
     "data": {
      "text/plain": [
       "6"
      ]
     },
     "execution_count": 67,
     "metadata": {},
     "output_type": "execute_result"
    }
   ],
   "source": [
    "xx(3,2)"
   ]
  },
  {
   "cell_type": "code",
   "execution_count": 68,
   "id": "3c48141e-3166-4ae5-9b1b-cff8172dcefe",
   "metadata": {},
   "outputs": [
    {
     "data": {
      "text/plain": [
       "15"
      ]
     },
     "execution_count": 68,
     "metadata": {},
     "output_type": "execute_result"
    }
   ],
   "source": [
    "param = {\n",
    "    'a':3,\n",
    "    'b':5\n",
    "}\n",
    "xx(**param)"
   ]
  },
  {
   "cell_type": "markdown",
   "id": "21304f23-3458-4af3-924e-7ce6638d45e5",
   "metadata": {},
   "source": [
    "## 재귀함수 factorial"
   ]
  },
  {
   "cell_type": "code",
   "execution_count": 70,
   "id": "67ac8c03-87ab-44fe-9d33-a557e2845523",
   "metadata": {},
   "outputs": [
    {
     "data": {
      "text/plain": [
       "120"
      ]
     },
     "execution_count": 70,
     "metadata": {},
     "output_type": "execute_result"
    }
   ],
   "source": [
    "def facto(x):\n",
    "    if x == 1:\n",
    "        return 1 #recursive function은 종료조건을 넣어줘야한다.\n",
    "    else:\n",
    "        return x*facto(x-1)\n",
    "    \n",
    "facto(5)"
   ]
  },
  {
   "cell_type": "code",
   "execution_count": 72,
   "id": "a9d2cef9-2196-4415-8954-6b825a22a366",
   "metadata": {},
   "outputs": [
    {
     "data": {
      "text/plain": [
       "120"
      ]
     },
     "execution_count": 72,
     "metadata": {},
     "output_type": "execute_result"
    }
   ],
   "source": [
    "def facto_for(x):\n",
    "    result=1\n",
    "    for i in range(1,x+1):\n",
    "        result*=i\n",
    "    return result\n",
    "\n",
    "facto_for(5)"
   ]
  },
  {
   "cell_type": "markdown",
   "id": "f08da780-449d-41ef-aad2-3917f109167e",
   "metadata": {},
   "source": [
    "## tuple\n",
    "* 슬라이싱과 indexing은 가능하지만 변수의 수정은 안된다."
   ]
  },
  {
   "cell_type": "code",
   "execution_count": 75,
   "id": "ec35f954-70b2-4978-ac53-ccb7858a955c",
   "metadata": {},
   "outputs": [
    {
     "data": {
      "text/plain": [
       "20"
      ]
     },
     "execution_count": 75,
     "metadata": {},
     "output_type": "execute_result"
    }
   ],
   "source": [
    "tu = (10,20,30)\n",
    "tu[0]\n",
    "tu[1]"
   ]
  },
  {
   "cell_type": "code",
   "execution_count": 76,
   "id": "2f978de4-a3e7-443d-8f74-a234bb20aeb7",
   "metadata": {},
   "outputs": [
    {
     "data": {
      "text/plain": [
       "{'one': 1, 'two': 2, 'three': 3, 'four': 4}"
      ]
     },
     "execution_count": 76,
     "metadata": {},
     "output_type": "execute_result"
    }
   ],
   "source": [
    "dic"
   ]
  },
  {
   "cell_type": "code",
   "execution_count": 81,
   "id": "234e3249-a3d2-4431-8881-99828e46b681",
   "metadata": {},
   "outputs": [
    {
     "data": {
      "text/plain": [
       "[('one', 1), ('two', 2), ('three', 3), ('four', 4)]"
      ]
     },
     "execution_count": 81,
     "metadata": {},
     "output_type": "execute_result"
    }
   ],
   "source": [
    "list(dic.items())"
   ]
  },
  {
   "cell_type": "code",
   "execution_count": 80,
   "id": "85b078fc-bf63-4189-9e39-f80ac0cde7c8",
   "metadata": {},
   "outputs": [
    {
     "data": {
      "text/plain": [
       "tuple"
      ]
     },
     "execution_count": 80,
     "metadata": {},
     "output_type": "execute_result"
    }
   ],
   "source": [
    "type(list(dic.items())[0])"
   ]
  },
  {
   "cell_type": "code",
   "execution_count": 85,
   "id": "242b0c8e-a9c6-4ca2-b709-5f6d7037440b",
   "metadata": {},
   "outputs": [
    {
     "name": "stdout",
     "output_type": "stream",
     "text": [
      "k:one\tv:1\n",
      "k:two\tv:2\n",
      "k:three\tv:3\n",
      "k:four\tv:4\n",
      "\n",
      "k:one\n",
      "k:two\n",
      "k:three\n",
      "k:four\n"
     ]
    }
   ],
   "source": [
    "for k,v in dic.items():\n",
    "    print(f'k:{k}\\tv:{v}')\n",
    "\n",
    "print()\n",
    "    \n",
    "#하나만 쓰고 싶을 때\n",
    "for k,_ in dic.items():\n",
    "    print(f'k:{k}')"
   ]
  },
  {
   "cell_type": "markdown",
   "id": "68e6150e-0a7a-4e20-b929-6a8d83c12cf1",
   "metadata": {},
   "source": [
    "## lambda\n",
    "* list(map(함수, 리스트))\n",
    "* filter"
   ]
  },
  {
   "cell_type": "code",
   "execution_count": 91,
   "id": "4d9f644c-58d8-4560-81d5-16cbcf8dc09e",
   "metadata": {},
   "outputs": [
    {
     "data": {
      "text/plain": [
       "[1, 4, 9, 16, 25]"
      ]
     },
     "execution_count": 91,
     "metadata": {},
     "output_type": "execute_result"
    }
   ],
   "source": [
    "pow1 = [x**2 for x in range(1,6)]\n",
    "pow1"
   ]
  },
  {
   "cell_type": "code",
   "execution_count": 92,
   "id": "7e42e748-24db-43f3-b86b-8124b9e3dd43",
   "metadata": {},
   "outputs": [
    {
     "data": {
      "text/plain": [
       "[1, 4, 9, 16, 25]"
      ]
     },
     "execution_count": 92,
     "metadata": {},
     "output_type": "execute_result"
    }
   ],
   "source": [
    "x = range(1,6)\n",
    "pow2 =  list(map(lambda x:x**2,x))\n",
    "pow2"
   ]
  },
  {
   "cell_type": "markdown",
   "id": "226db5fd-34a4-4f82-95a8-ffc362e6cd03",
   "metadata": {},
   "source": [
    "## 파일처리"
   ]
  },
  {
   "cell_type": "code",
   "execution_count": null,
   "id": "68a39209-0462-4fb9-8540-8d28f06865b4",
   "metadata": {},
   "outputs": [],
   "source": [
    "with open('info.txt','w') as f:\n",
    "    \n",
    "    f.close() #with에서는 자동으로 호출된다."
   ]
  },
  {
   "cell_type": "markdown",
   "id": "785a2f24-6598-4997-862f-66a7c140e677",
   "metadata": {},
   "source": [
    "## generator\n",
    "* 이터레이터를 직접 만들 때 사용한느 코드\n",
    "* yield 키워드를 사용하면 해당 함수는 제너레이터 함수가 된다.\n",
    "* 크롤링할때 자주 사용된다.\n",
    "* next()"
   ]
  },
  {
   "cell_type": "code",
   "execution_count": 1,
   "id": "e4acdb11-a0fd-4287-be85-73f2e16f104e",
   "metadata": {},
   "outputs": [],
   "source": [
    "def test():\n",
    "    print('함수가 호출되었습니다.')\n",
    "    yield 'test'"
   ]
  },
  {
   "cell_type": "markdown",
   "id": "4db593c8-d656-4883-9f61-55ce04b865b9",
   "metadata": {},
   "source": [
    "## join\n",
    "* 구분자를 기준으로 이어붙여준다."
   ]
  },
  {
   "cell_type": "code",
   "execution_count": 6,
   "id": "20d56df0-8b15-41a6-a513-3f62e534be24",
   "metadata": {},
   "outputs": [
    {
     "data": {
      "text/plain": [
       "'dofs-difjos-iij-i-i'"
      ]
     },
     "execution_count": 6,
     "metadata": {},
     "output_type": "execute_result"
    }
   ],
   "source": [
    "li='dofs difjos iij i i'\n",
    "'-'.join(li.split())"
   ]
  },
  {
   "cell_type": "code",
   "execution_count": 7,
   "id": "4e691d7e-ee4b-4ee5-9081-932ee1d45531",
   "metadata": {},
   "outputs": [
    {
     "data": {
      "text/plain": [
       "['abc', 'def', 'zxy']"
      ]
     },
     "execution_count": 7,
     "metadata": {},
     "output_type": "execute_result"
    }
   ],
   "source": [
    "String = 'abc def zxy'\n",
    "String.split() #구분자 default는 스페이스바"
   ]
  },
  {
   "cell_type": "code",
   "execution_count": 8,
   "id": "6e5444fb-91b9-4d24-abb0-10d5f1d2f419",
   "metadata": {},
   "outputs": [
    {
     "data": {
      "text/plain": [
       "'abc ## def ## zxy'"
      ]
     },
     "execution_count": 8,
     "metadata": {},
     "output_type": "execute_result"
    }
   ],
   "source": [
    "' ## '.join(String.split())"
   ]
  },
  {
   "cell_type": "markdown",
   "id": "a1a0cfa4-0143-407e-946a-b29e17a4b735",
   "metadata": {},
   "source": [
    "## filter\n",
    "* list(filter(조건이되는 함수, 값))\n",
    "* True 값만 "
   ]
  },
  {
   "cell_type": "code",
   "execution_count": 17,
   "id": "cb3ee75d-b805-4372-977c-d101cd57a8a7",
   "metadata": {},
   "outputs": [
    {
     "name": "stdout",
     "output_type": "stream",
     "text": [
      "[1, 9, 25, 49, 81, 121, 169, 225, 289, 361, 441, 529, 625, 729, 841, 961, 1089, 1225, 1369, 1521, 1681, 1849, 2025, 2209, 2401, 2601, 2809, 3025, 3249, 3481, 3721, 3969]\n"
     ]
    }
   ],
   "source": [
    "#홀수만 출력\n",
    "x = range(1,64)\n",
    "y = list(map(lambda x:x**2,list(filter(lambda x:x%2==1,x))))\n",
    "print(y)"
   ]
  },
  {
   "cell_type": "code",
   "execution_count": 16,
   "id": "8c822bee-7e1d-4e91-968d-194879fe418a",
   "metadata": {},
   "outputs": [
    {
     "name": "stdout",
     "output_type": "stream",
     "text": [
      "[1, 9, 25, 49, 81, 121, 169, 225, 289, 361, 441, 529, 625, 729, 841, 961, 1089, 1225, 1369, 1521, 1681, 1849, 2025, 2209, 2401, 2601, 2809, 3025, 3249, 3481, 3721, 3969]\n"
     ]
    }
   ],
   "source": [
    "w = [z**2 for z in x if z%2==1]\n",
    "print(w)"
   ]
  },
  {
   "cell_type": "code",
   "execution_count": 23,
   "id": "e94665e1-9100-418d-87a3-781e80bc49a4",
   "metadata": {},
   "outputs": [
    {
     "name": "stdout",
     "output_type": "stream",
     "text": [
      "[1, 2, 3, 4, 5, 6, 7]\n"
     ]
    }
   ],
   "source": [
    "x = range(1,64)\n",
    "y = list(filter(lambda x:(x**2)<50,x))\n",
    "print(y)"
   ]
  },
  {
   "cell_type": "code",
   "execution_count": 22,
   "id": "15a849ce-4c42-4462-ab1b-dd1c054e1a5f",
   "metadata": {},
   "outputs": [
    {
     "name": "stdout",
     "output_type": "stream",
     "text": [
      "[4, 5, 6]\n"
     ]
    }
   ],
   "source": [
    "x = range(1,64)\n",
    "y = list(filter(lambda x:(x>3)&(x<7),x))\n",
    "print(y)"
   ]
  },
  {
   "cell_type": "markdown",
   "id": "653fc7b1-be5b-4911-a204-55b0c45eea0f",
   "metadata": {},
   "source": [
    "## try except\n",
    "* 오류에 대해서 예외처리\n",
    "* else\n",
    "* finally - switch에 default같은거"
   ]
  },
  {
   "cell_type": "code",
   "execution_count": 26,
   "id": "f8cd3996-cfbf-433b-b134-68113173882e",
   "metadata": {},
   "outputs": [
    {
     "name": "stdin",
     "output_type": "stream",
     "text": [
      "반지름을 입력하세요 :  6\n"
     ]
    },
    {
     "name": "stdout",
     "output_type": "stream",
     "text": [
      "입력한 반지름은 :6cm\n",
      "원의 넓이는:  113.04cm\n"
     ]
    }
   ],
   "source": [
    "val = input('반지름을 입력하세요 : ')\n",
    "print(f'입력한 반지름은 :{val}cm')\n",
    "try:\n",
    "    area =  3.14*val**2   #input값으로 받은 것은 string str이기 때문에 int로 변환해주어야한다.\n",
    "    \n",
    "except:\n",
    "    val = float(val)\n",
    "    area = 3.14*val**2\n",
    "    \n",
    "print(f'원의 넓이는:  {area}cm')"
   ]
  },
  {
   "cell_type": "markdown",
   "id": "dae71356-a29d-4429-82bd-dd9a3e41be80",
   "metadata": {},
   "source": [
    "## module\n",
    "* os\n",
    "    * \n",
    "* urllib\n",
    "    * "
   ]
  },
  {
   "cell_type": "code",
   "execution_count": 27,
   "id": "e3b80ecb-485d-401b-8fd5-47375e85355e",
   "metadata": {},
   "outputs": [],
   "source": [
    "import numpy as np\n"
   ]
  },
  {
   "cell_type": "code",
   "execution_count": 29,
   "id": "07596151-9c64-4977-a9a5-7f666cc32680",
   "metadata": {},
   "outputs": [
    {
     "data": {
      "text/plain": [
       "array([5])"
      ]
     },
     "execution_count": 29,
     "metadata": {},
     "output_type": "execute_result"
    }
   ],
   "source": [
    "np.abs([-5])"
   ]
  },
  {
   "cell_type": "code",
   "execution_count": 30,
   "id": "6cdd42f4-7786-49f1-b684-22d5e16860b8",
   "metadata": {},
   "outputs": [],
   "source": [
    "from numpy import abs"
   ]
  },
  {
   "cell_type": "code",
   "execution_count": 31,
   "id": "9f4ddb49-ff80-405b-9eda-8591ef701e29",
   "metadata": {},
   "outputs": [
    {
     "data": {
      "text/plain": [
       "array([5])"
      ]
     },
     "execution_count": 31,
     "metadata": {},
     "output_type": "execute_result"
    }
   ],
   "source": [
    "abs([-5])"
   ]
  },
  {
   "cell_type": "code",
   "execution_count": 32,
   "id": "b67f7e38-8bc2-4dc8-9c14-eb9c75627dc5",
   "metadata": {},
   "outputs": [
    {
     "name": "stdout",
     "output_type": "stream",
     "text": [
      "3.141592653589793\n"
     ]
    }
   ],
   "source": [
    "import math as m\n",
    "print(m.pi)"
   ]
  },
  {
   "cell_type": "code",
   "execution_count": 33,
   "id": "c950a278-131d-44d2-b3f6-c4c831631eb5",
   "metadata": {},
   "outputs": [
    {
     "name": "stdout",
     "output_type": "stream",
     "text": [
      "2.718281828459045\n"
     ]
    }
   ],
   "source": [
    "print(m.e)"
   ]
  },
  {
   "cell_type": "code",
   "execution_count": 34,
   "id": "13c809e3-365e-4e6a-9b56-5657b293a812",
   "metadata": {},
   "outputs": [
    {
     "name": "stdout",
     "output_type": "stream",
     "text": [
      "8.539734222673566\n"
     ]
    }
   ],
   "source": [
    "print(m.pi * m.e)"
   ]
  },
  {
   "cell_type": "code",
   "execution_count": 1,
   "id": "b8d7d83e-2940-47c2-a562-11e967e2deef",
   "metadata": {},
   "outputs": [],
   "source": [
    "import os"
   ]
  },
  {
   "cell_type": "code",
   "execution_count": 2,
   "id": "520a4b18-052f-4ada-ac4a-a71caca2e8a7",
   "metadata": {},
   "outputs": [
    {
     "data": {
      "text/plain": [
       "'/Users/yughyeonjun/Six/git/AI/natural_sejong'"
      ]
     },
     "execution_count": 2,
     "metadata": {},
     "output_type": "execute_result"
    }
   ],
   "source": [
    "os.getcwd()"
   ]
  },
  {
   "cell_type": "code",
   "execution_count": 3,
   "id": "ae999ee0-bea4-4684-9653-f49064e6d68a",
   "metadata": {},
   "outputs": [
    {
     "name": "stdout",
     "output_type": "stream",
     "text": [
      "hi\n"
     ]
    }
   ],
   "source": [
    "print('hi')"
   ]
  },
  {
   "cell_type": "markdown",
   "id": "91a0bc58-b68a-4ee0-85b2-0437851c64e4",
   "metadata": {},
   "source": [
    "## Class\n",
    "* 객체\n",
    "* 메소드\n",
    "    * 함수"
   ]
  },
  {
   "cell_type": "code",
   "execution_count": null,
   "id": "a4357b99-3bb7-4fe0-8f0f-ec78bb8580e7",
   "metadata": {},
   "outputs": [],
   "source": [
    "class 클래스이름:\n",
    "    def __init__(self): #생성자\n",
    "        self.x = x"
   ]
  },
  {
   "cell_type": "code",
   "execution_count": 4,
   "id": "deb0ecac-0edb-4114-9f46-1e749fd56b73",
   "metadata": {},
   "outputs": [],
   "source": [
    "class Person():\n",
    "    pass"
   ]
  },
  {
   "cell_type": "code",
   "execution_count": 6,
   "id": "c12e54f0-f51e-4c26-8348-5a3fadf6ff6e",
   "metadata": {},
   "outputs": [],
   "source": [
    "person = Person() #객체생성"
   ]
  },
  {
   "cell_type": "markdown",
   "id": "369efe9d-54f8-4173-bd63-3259b8849949",
   "metadata": {},
   "source": [
    "### 생성자"
   ]
  },
  {
   "cell_type": "code",
   "execution_count": 7,
   "id": "6d14771c-b2b7-4271-980b-74866ae53b60",
   "metadata": {},
   "outputs": [],
   "source": [
    "class Person():\n",
    "    def __init__(self,name):\n",
    "        self.name = name\n",
    "        \n",
    "    def __str__(self):\n",
    "        return f'{self.name}'"
   ]
  },
  {
   "cell_type": "code",
   "execution_count": 10,
   "id": "8735a752-4fa2-4318-b85b-b4af530503a1",
   "metadata": {},
   "outputs": [
    {
     "name": "stdout",
     "output_type": "stream",
     "text": [
      "six\n"
     ]
    }
   ],
   "source": [
    "person = Person('six')\n",
    "print(person)"
   ]
  },
  {
   "cell_type": "code",
   "execution_count": 45,
   "id": "716ca6e2-622d-4b0c-b29c-f2c5c757ad46",
   "metadata": {},
   "outputs": [],
   "source": [
    "class Student():\n",
    "    def __init__(self,name,score):\n",
    "        self.name = name\n",
    "        self.score = score\n",
    "        \n",
    "    def __str__(self):\n",
    "        return f'{self.name}의 점수는 {self.average()}입니다.'\n",
    "    \n",
    "    def average(self):\n",
    "        sum = 0\n",
    "        for i in self.score:\n",
    "            sum+=i\n",
    "        self.avg = sum/len(self.score)\n",
    "        return self.avg\n",
    "    \n",
    "    def total(self):\n",
    "        self.max = max(self.score)\n",
    "        self.min = min(self.score)\n",
    "        return f'최고 성적 : {self.max}, 최소 성적 : {self.min}'\n",
    "    "
   ]
  },
  {
   "cell_type": "code",
   "execution_count": 46,
   "id": "0ae7bda8-f90b-425f-bcab-bb48d4db3e7f",
   "metadata": {},
   "outputs": [
    {
     "name": "stdout",
     "output_type": "stream",
     "text": [
      "six\n",
      "[97, 100, 87]\n"
     ]
    }
   ],
   "source": [
    "student = Student('six',[97,100,87])\n",
    "print(student.name)\n",
    "print(student.score)"
   ]
  },
  {
   "cell_type": "code",
   "execution_count": 49,
   "id": "222fca93-703e-4f6f-ad42-63726a8e1633",
   "metadata": {},
   "outputs": [
    {
     "name": "stdout",
     "output_type": "stream",
     "text": [
      "six의 점수는 94.66666666666667입니다.\n"
     ]
    }
   ],
   "source": [
    "print(student)"
   ]
  },
  {
   "cell_type": "code",
   "execution_count": 48,
   "id": "21d689c6-b752-4395-9587-80c5cbba9aab",
   "metadata": {},
   "outputs": [
    {
     "name": "stdout",
     "output_type": "stream",
     "text": [
      "94.66666666666667\n"
     ]
    }
   ],
   "source": [
    "print(student.average())"
   ]
  },
  {
   "cell_type": "code",
   "execution_count": 50,
   "id": "37ee73ae-34d4-4701-857f-ef9ffe901fa7",
   "metadata": {},
   "outputs": [
    {
     "data": {
      "text/plain": [
       "['__class__',\n",
       " '__delattr__',\n",
       " '__dict__',\n",
       " '__dir__',\n",
       " '__doc__',\n",
       " '__eq__',\n",
       " '__format__',\n",
       " '__ge__',\n",
       " '__getattribute__',\n",
       " '__gt__',\n",
       " '__hash__',\n",
       " '__init__',\n",
       " '__init_subclass__',\n",
       " '__le__',\n",
       " '__lt__',\n",
       " '__module__',\n",
       " '__ne__',\n",
       " '__new__',\n",
       " '__reduce__',\n",
       " '__reduce_ex__',\n",
       " '__repr__',\n",
       " '__setattr__',\n",
       " '__sizeof__',\n",
       " '__str__',\n",
       " '__subclasshook__',\n",
       " '__weakref__',\n",
       " 'average',\n",
       " 'total']"
      ]
     },
     "execution_count": 50,
     "metadata": {},
     "output_type": "execute_result"
    }
   ],
   "source": [
    "dir(Student)"
   ]
  },
  {
   "cell_type": "code",
   "execution_count": 51,
   "id": "f8d0f2ff-3ce5-4b42-9632-d104245505a8",
   "metadata": {},
   "outputs": [
    {
     "name": "stdout",
     "output_type": "stream",
     "text": [
      "최고 성적 : 100, 최소 성적 : 87\n"
     ]
    }
   ],
   "source": [
    "print(student.total())"
   ]
  },
  {
   "cell_type": "code",
   "execution_count": null,
   "id": "71bb7430-7bec-42a9-b8ee-7747ec925e54",
   "metadata": {},
   "outputs": [],
   "source": []
  }
 ],
 "metadata": {
  "kernelspec": {
   "display_name": "Six",
   "language": "python",
   "name": "six"
  },
  "language_info": {
   "codemirror_mode": {
    "name": "ipython",
    "version": 3
   },
   "file_extension": ".py",
   "mimetype": "text/x-python",
   "name": "python",
   "nbconvert_exporter": "python",
   "pygments_lexer": "ipython3",
   "version": "3.8.13"
  }
 },
 "nbformat": 4,
 "nbformat_minor": 5
}
