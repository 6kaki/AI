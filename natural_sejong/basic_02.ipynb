{
 "cells": [
  {
   "cell_type": "markdown",
   "id": "9f6f5fb5-812d-4bb0-8671-fb1515471612",
   "metadata": {},
   "source": [
    "## for"
   ]
  },
  {
   "cell_type": "code",
   "execution_count": 1,
   "id": "54ec8660-bd8d-46f7-becb-13512ef93487",
   "metadata": {},
   "outputs": [
    {
     "name": "stdout",
     "output_type": "stream",
     "text": [
      "1\n",
      "2\n",
      "3\n"
     ]
    }
   ],
   "source": [
    "li =[1,2,3]\n",
    "\n",
    "for  i in  li:\n",
    "    print(i)"
   ]
  },
  {
   "cell_type": "markdown",
   "id": "d30c3755-7d8e-4091-a8ba-11aa899013ae",
   "metadata": {},
   "source": [
    "## dict\n",
    "* dic = {'key':'value'}\n",
    "* JSON 형식"
   ]
  },
  {
   "cell_type": "code",
   "execution_count": 2,
   "id": "0d313e08-7d19-4393-9e25-a672b10c4dca",
   "metadata": {},
   "outputs": [],
   "source": [
    "dic = {'one':1,'two':2,'three':3,'four':4}"
   ]
  },
  {
   "cell_type": "code",
   "execution_count": 3,
   "id": "a108c412-55cd-4e97-a780-1dbc1ffb0a7e",
   "metadata": {},
   "outputs": [
    {
     "data": {
      "text/plain": [
       "{'one': 1, 'two': 2, 'three': 3, 'four': 4}"
      ]
     },
     "execution_count": 3,
     "metadata": {},
     "output_type": "execute_result"
    }
   ],
   "source": [
    "dic"
   ]
  },
  {
   "cell_type": "code",
   "execution_count": 4,
   "id": "e35bc33d-4003-47ba-acb6-fad586d39f42",
   "metadata": {},
   "outputs": [
    {
     "data": {
      "text/plain": [
       "dict_items([('one', 1), ('two', 2), ('three', 3), ('four', 4)])"
      ]
     },
     "execution_count": 4,
     "metadata": {},
     "output_type": "execute_result"
    }
   ],
   "source": [
    "dic.items()"
   ]
  },
  {
   "cell_type": "code",
   "execution_count": 6,
   "id": "18c82f5b-86ea-45de-a999-61f63c7d6613",
   "metadata": {},
   "outputs": [
    {
     "data": {
      "text/plain": [
       "dict_keys"
      ]
     },
     "execution_count": 6,
     "metadata": {},
     "output_type": "execute_result"
    }
   ],
   "source": [
    "type(dic.keys())"
   ]
  },
  {
   "cell_type": "code",
   "execution_count": 8,
   "id": "273642ee-417d-444d-8d33-37a9fcfdd4cb",
   "metadata": {},
   "outputs": [
    {
     "data": {
      "text/plain": [
       "dict_keys(['one', 'two', 'three', 'four'])"
      ]
     },
     "execution_count": 8,
     "metadata": {},
     "output_type": "execute_result"
    }
   ],
   "source": [
    "dic.keys()\n",
    "#list"
   ]
  },
  {
   "cell_type": "code",
   "execution_count": 9,
   "id": "03de951b-ae9d-4e4f-9b7b-32ebeee16d6d",
   "metadata": {},
   "outputs": [
    {
     "data": {
      "text/plain": [
       "dict_values([1, 2, 3, 4])"
      ]
     },
     "execution_count": 9,
     "metadata": {},
     "output_type": "execute_result"
    }
   ],
   "source": [
    "dic.values()"
   ]
  },
  {
   "cell_type": "code",
   "execution_count": 10,
   "id": "4baa8413-b18f-4c56-926c-8b9c3bf273d8",
   "metadata": {},
   "outputs": [],
   "source": [
    "key = list(dic.keys())\n",
    "value = list(dic.values())"
   ]
  },
  {
   "cell_type": "code",
   "execution_count": 11,
   "id": "e127c0d1-501b-476f-ae94-4a604b7c5a86",
   "metadata": {},
   "outputs": [
    {
     "data": {
      "text/plain": [
       "['one', 'two', 'three', 'four']"
      ]
     },
     "execution_count": 11,
     "metadata": {},
     "output_type": "execute_result"
    }
   ],
   "source": [
    "key"
   ]
  },
  {
   "cell_type": "code",
   "execution_count": 12,
   "id": "054ef0d6-40b8-4bbc-a851-2efba3ade5f0",
   "metadata": {},
   "outputs": [
    {
     "data": {
      "text/plain": [
       "[1, 2, 3, 4]"
      ]
     },
     "execution_count": 12,
     "metadata": {},
     "output_type": "execute_result"
    }
   ],
   "source": [
    "value"
   ]
  },
  {
   "cell_type": "code",
   "execution_count": 15,
   "id": "1b8bbba7-d738-47a5-90ac-746924368866",
   "metadata": {},
   "outputs": [
    {
     "data": {
      "text/plain": [
       "{'one': 1, 'two': 2, 'three': 3, 'four': 4}"
      ]
     },
     "execution_count": 15,
     "metadata": {},
     "output_type": "execute_result"
    }
   ],
   "source": [
    "# for문을 이용해서 dict 생성\n",
    "dic2={}\n",
    "\n",
    "for i in range(len(key)):\n",
    "    dic2[key[i]] =value[i]\n",
    "    \n",
    "dic2"
   ]
  },
  {
   "cell_type": "markdown",
   "id": "adc1f3e0-57c2-444d-b9c7-d9ebdf857be1",
   "metadata": {},
   "source": [
    "### 내부의 숫자가 몇번 등장하는지"
   ]
  },
  {
   "cell_type": "code",
   "execution_count": 19,
   "id": "3228009f-2619-415c-8426-c4f50548e8fd",
   "metadata": {},
   "outputs": [
    {
     "data": {
      "text/plain": [
       "{1: 2, 2: 3, 3: 2, 4: 1}"
      ]
     },
     "execution_count": 19,
     "metadata": {},
     "output_type": "execute_result"
    }
   ],
   "source": [
    "number = [1,1,2,2,2,3,3,4]\n",
    "counter={}\n",
    "\n",
    "for i in number:\n",
    "    if i in counter.keys():\n",
    "        counter[i]+=1\n",
    "    else:\n",
    "        counter[i]=1\n",
    "        \n",
    "counter"
   ]
  },
  {
   "cell_type": "code",
   "execution_count": 21,
   "id": "4682a05a-4ce5-4cf1-8fb1-e93387269c56",
   "metadata": {},
   "outputs": [
    {
     "data": {
      "text/plain": [
       "{1: 2, 2: 3, 3: 2, 4: 1}"
      ]
     },
     "execution_count": 21,
     "metadata": {},
     "output_type": "execute_result"
    }
   ],
   "source": [
    "count3={}\n",
    "for i in number:\n",
    "    if count3.get(i): #오류를 발생하지 않는 .get()을 사용할 수 있다.\n",
    "        count3[i] += 1\n",
    "    else:\n",
    "        count3[i] = 1\n",
    "        \n",
    "count3"
   ]
  },
  {
   "cell_type": "code",
   "execution_count": 22,
   "id": "822eef04-a58b-4419-a51f-acf203c4fa91",
   "metadata": {},
   "outputs": [],
   "source": [
    "#python은  / 사용하면 무조건 float으로 변환"
   ]
  },
  {
   "cell_type": "markdown",
   "id": "6ee2ab04-f03a-40f1-9d7f-2e8c133c689b",
   "metadata": {},
   "source": [
    "## fstring, format"
   ]
  },
  {
   "cell_type": "code",
   "execution_count": 30,
   "id": "0d442abb-86ef-4c8e-96fb-4db2bafd8190",
   "metadata": {},
   "outputs": [
    {
     "name": "stdout",
     "output_type": "stream",
     "text": [
      "1번째 숫자는 273입니다.\n",
      "2번째 숫자는 32입니다.\n",
      "3번째 숫자는 103입니다.\n",
      "4번째 숫자는 57입니다.\n",
      "5번째 숫자는 52입니다.\n"
     ]
    }
   ],
   "source": [
    "array=[273,32,103,57,52]\n",
    "\n",
    "for i in range(len(array)):\n",
    "    print(f'{i+1}번째 숫자는 {array[i]}입니다.')"
   ]
  },
  {
   "cell_type": "code",
   "execution_count": 29,
   "id": "4b00ae13-0f55-4c60-813b-fe0c919f3de2",
   "metadata": {},
   "outputs": [
    {
     "name": "stdout",
     "output_type": "stream",
     "text": [
      "      1.29\n"
     ]
    }
   ],
   "source": [
    "a = 1.29372\n",
    "print(f'{a:10.2f}')"
   ]
  },
  {
   "cell_type": "code",
   "execution_count": 31,
   "id": "96ab086a-ae63-4909-9d9e-13d5ab894cb3",
   "metadata": {},
   "outputs": [
    {
     "name": "stdout",
     "output_type": "stream",
     "text": [
      "0번째 숫자는 273입니다.\n",
      "1번째 숫자는 32입니다.\n",
      "2번째 숫자는 103입니다.\n",
      "3번째 숫자는 57입니다.\n",
      "4번째 숫자는 52입니다.\n"
     ]
    }
   ],
   "source": [
    "array=[273,32,103,57,52]\n",
    "\n",
    "for i in range(len(array)):\n",
    "    print('{}번째 숫자는 {}입니다.'.format(i,array[i]))"
   ]
  },
  {
   "cell_type": "markdown",
   "id": "ef9e29c0-a7e9-45e4-bc55-a5eac9ab9564",
   "metadata": {},
   "source": [
    "## while\n",
    "* 내가 몇번을 반복해야하는지 모를 때"
   ]
  },
  {
   "cell_type": "markdown",
   "id": "d11ed906-37bd-48d2-8ce1-e552b518152c",
   "metadata": {},
   "source": [
    "## enumerate\n",
    "* index를 함께 "
   ]
  },
  {
   "cell_type": "code",
   "execution_count": 33,
   "id": "f91b8d9a-f08d-4a94-8c55-afdb8b6fbaae",
   "metadata": {},
   "outputs": [
    {
     "name": "stdout",
     "output_type": "stream",
     "text": [
      "0 273\n",
      "1 32\n",
      "2 103\n",
      "3 57\n",
      "4 52\n"
     ]
    }
   ],
   "source": [
    "for i,v in enumerate(array):\n",
    "    print(i,v)"
   ]
  },
  {
   "cell_type": "markdown",
   "id": "893b201f-2923-425f-99cb-b822dc9b0068",
   "metadata": {},
   "source": [
    "## 함수\n",
    "* class의 method"
   ]
  },
  {
   "cell_type": "code",
   "execution_count": 35,
   "id": "330ef508-e01e-4f4a-ae81-7564bca4025e",
   "metadata": {},
   "outputs": [
    {
     "name": "stdout",
     "output_type": "stream",
     "text": [
      "안녕하세요\n",
      "안녕하세요\n",
      "안녕하세요\n",
      "\n"
     ]
    }
   ],
   "source": [
    "def print_3():\n",
    "    print('안녕하세요\\n'*3)\n",
    "    \n",
    "print_3()"
   ]
  },
  {
   "cell_type": "code",
   "execution_count": 37,
   "id": "64ce7214-2b33-4730-88b7-e2415b09fb7e",
   "metadata": {},
   "outputs": [
    {
     "name": "stdout",
     "output_type": "stream",
     "text": [
      "안녕하세요\n",
      "안녕하세요\n",
      "\n"
     ]
    }
   ],
   "source": [
    "def print_num(i):\n",
    "    print('안녕하세요\\n'*i)\n",
    "    \n",
    "print_num(2)"
   ]
  },
  {
   "cell_type": "code",
   "execution_count": 40,
   "id": "9aecb7aa-23ac-4281-8f91-d5eb801825fe",
   "metadata": {},
   "outputs": [
    {
     "name": "stdout",
     "output_type": "stream",
     "text": [
      "잘가세요\n",
      "잘가세요\n",
      "잘가세요\n",
      "\n"
     ]
    }
   ],
   "source": [
    "def anything(greeting,i):\n",
    "    print((greeting+'\\n')*i)\n",
    "    \n",
    "anything('잘가세요',3)"
   ]
  },
  {
   "cell_type": "code",
   "execution_count": 41,
   "id": "b1dab94f-19c2-4cf4-9249-9d1ada540f4b",
   "metadata": {},
   "outputs": [
    {
     "name": "stdout",
     "output_type": "stream",
     "text": [
      "잘가세요\n",
      "잘가세요\n",
      "잘가세요\n",
      "잘가세요\n",
      "잘가세요\n",
      "잘가세요\n"
     ]
    }
   ],
   "source": [
    "def anything2(greeting,i):\n",
    "    for i in range(i):\n",
    "        print(greeting)\n",
    "    \n",
    "anything2('잘가세요',6)"
   ]
  },
  {
   "cell_type": "code",
   "execution_count": 43,
   "id": "5017ccb7-1957-4e46-a057-649360504a41",
   "metadata": {},
   "outputs": [
    {
     "name": "stdout",
     "output_type": "stream",
     "text": [
      "잘가세요\n",
      "잘가세요\n",
      "잘가세요\n"
     ]
    }
   ],
   "source": [
    "def anything2(greeting='good afternoon',i=3):\n",
    "    for i in range(i):\n",
    "        print(greeting)\n",
    "    \n",
    "anything2('잘가세요')"
   ]
  },
  {
   "cell_type": "code",
   "execution_count": 45,
   "id": "c29a0d5d-186f-47be-97c7-54e023482aef",
   "metadata": {},
   "outputs": [
    {
     "name": "stdout",
     "output_type": "stream",
     "text": [
      "good afternoon\n",
      "good afternoon\n",
      "good afternoon\n"
     ]
    }
   ],
   "source": [
    "anything2()"
   ]
  },
  {
   "cell_type": "code",
   "execution_count": 46,
   "id": "ad6c0184-9fa9-4424-bd74-b0bb024fa606",
   "metadata": {},
   "outputs": [
    {
     "name": "stdout",
     "output_type": "stream",
     "text": [
      "hello\n",
      "hello\n",
      "hello\n",
      "hello\n",
      "hello\n",
      "hello\n"
     ]
    }
   ],
   "source": [
    "anything2('hello',6)"
   ]
  },
  {
   "cell_type": "code",
   "execution_count": 52,
   "id": "bb3c538c-cd8a-493e-a031-d59d480c4908",
   "metadata": {},
   "outputs": [],
   "source": [
    "def make_odd(li):\n",
    "    odd_list=[]\n",
    "    for i in li:\n",
    "        if i%2!=0:\n",
    "            odd_list.append(i)\n",
    "            \n",
    "    return odd_list"
   ]
  },
  {
   "cell_type": "code",
   "execution_count": 53,
   "id": "6bf36651-284a-426d-a08f-d8101361d106",
   "metadata": {},
   "outputs": [
    {
     "name": "stdout",
     "output_type": "stream",
     "text": [
      "[1, 3, 5, 7, 9, 11, 13, 15, 17, 19, 21, 23, 25, 27, 29, 31, 33, 35, 37, 39, 41, 43, 45, 47, 49, 51, 53, 55, 57, 59, 61, 63, 65, 67, 69, 71, 73, 75, 77, 79, 81, 83, 85, 87, 89, 91, 93, 95, 97, 99, 101, 103, 105, 107]\n"
     ]
    }
   ],
   "source": [
    "x=range(108)\n",
    "\n",
    "odd_list=make_odd(x)\n",
    "print(odd_list)"
   ]
  },
  {
   "cell_type": "code",
   "execution_count": 55,
   "id": "6f8a66fe-f06e-42f6-80dd-1750508e1f69",
   "metadata": {},
   "outputs": [
    {
     "name": "stdout",
     "output_type": "stream",
     "text": [
      "[1, 3, 5, 7, 9, 11, 13, 15, 17, 19, 21, 23, 25, 27, 29, 31, 33, 35, 37, 39, 41, 43, 45, 47, 49, 51, 53, 55, 57, 59, 61, 63, 65, 67, 69, 71, 73, 75, 77, 79, 81, 83, 85, 87, 89, 91, 93, 95, 97, 99, 101, 103, 105, 107]\n"
     ]
    }
   ],
   "source": [
    "odd_list2=[y for y in x if y%2!=0]\n",
    "print(odd_list2)"
   ]
  },
  {
   "cell_type": "code",
   "execution_count": 56,
   "id": "e5c9fb4d-f97c-4127-b112-8b28f154e2c0",
   "metadata": {},
   "outputs": [
    {
     "name": "stdout",
     "output_type": "stream",
     "text": [
      "2916\n",
      "2916\n"
     ]
    }
   ],
   "source": [
    "print(sum(odd_list))\n",
    "print(sum(odd_list2))"
   ]
  },
  {
   "cell_type": "code",
   "execution_count": 62,
   "id": "e1b9008e-582f-4f79-bb96-7d732a9bbc1f",
   "metadata": {},
   "outputs": [],
   "source": [
    "y = range(10)\n",
    "odd_list = make_odd(y)"
   ]
  },
  {
   "cell_type": "code",
   "execution_count": 65,
   "id": "7cb6a2fd-4a30-4f5f-9382-eadcd093e2d6",
   "metadata": {},
   "outputs": [
    {
     "name": "stdout",
     "output_type": "stream",
     "text": [
      "25.0\n"
     ]
    }
   ],
   "source": [
    "result=0\n",
    "for i in range(len(y)):\n",
    "    if i == int(len(y)/2):\n",
    "        break\n",
    "    sums = odd_list[i] + odd_list[-1-i]\n",
    "    a=sums/2\n",
    "    result+=a\n",
    "    \n",
    "print(result)"
   ]
  },
  {
   "cell_type": "code",
   "execution_count": 66,
   "id": "67a4ebd5-ebe1-4180-a529-bef4dcbcd767",
   "metadata": {},
   "outputs": [],
   "source": [
    "def xx(a,b):\n",
    "    return a*b"
   ]
  },
  {
   "cell_type": "code",
   "execution_count": 67,
   "id": "5c3c7a00-e9d5-4ed7-8b28-6c4c7f50447e",
   "metadata": {},
   "outputs": [
    {
     "data": {
      "text/plain": [
       "6"
      ]
     },
     "execution_count": 67,
     "metadata": {},
     "output_type": "execute_result"
    }
   ],
   "source": [
    "xx(3,2)"
   ]
  },
  {
   "cell_type": "code",
   "execution_count": 68,
   "id": "3c48141e-3166-4ae5-9b1b-cff8172dcefe",
   "metadata": {},
   "outputs": [
    {
     "data": {
      "text/plain": [
       "15"
      ]
     },
     "execution_count": 68,
     "metadata": {},
     "output_type": "execute_result"
    }
   ],
   "source": [
    "param = {\n",
    "    'a':3,\n",
    "    'b':5\n",
    "}\n",
    "xx(**param)"
   ]
  },
  {
   "cell_type": "markdown",
   "id": "21304f23-3458-4af3-924e-7ce6638d45e5",
   "metadata": {},
   "source": [
    "## 재귀함수 factorial"
   ]
  },
  {
   "cell_type": "code",
   "execution_count": 70,
   "id": "67ac8c03-87ab-44fe-9d33-a557e2845523",
   "metadata": {},
   "outputs": [
    {
     "data": {
      "text/plain": [
       "120"
      ]
     },
     "execution_count": 70,
     "metadata": {},
     "output_type": "execute_result"
    }
   ],
   "source": [
    "def facto(x):\n",
    "    if x == 1:\n",
    "        return 1 #recursive function은 종료조건을 넣어줘야한다.\n",
    "    else:\n",
    "        return x*facto(x-1)\n",
    "    \n",
    "facto(5)"
   ]
  },
  {
   "cell_type": "code",
   "execution_count": 72,
   "id": "a9d2cef9-2196-4415-8954-6b825a22a366",
   "metadata": {},
   "outputs": [
    {
     "data": {
      "text/plain": [
       "120"
      ]
     },
     "execution_count": 72,
     "metadata": {},
     "output_type": "execute_result"
    }
   ],
   "source": [
    "def facto_for(x):\n",
    "    result=1\n",
    "    for i in range(1,x+1):\n",
    "        result*=i\n",
    "    return result\n",
    "\n",
    "facto_for(5)"
   ]
  },
  {
   "cell_type": "markdown",
   "id": "f08da780-449d-41ef-aad2-3917f109167e",
   "metadata": {},
   "source": [
    "## tuple\n",
    "* 슬라이싱과 indexing은 가능하지만 변수의 수정은 안된다."
   ]
  },
  {
   "cell_type": "code",
   "execution_count": 75,
   "id": "ec35f954-70b2-4978-ac53-ccb7858a955c",
   "metadata": {},
   "outputs": [
    {
     "data": {
      "text/plain": [
       "20"
      ]
     },
     "execution_count": 75,
     "metadata": {},
     "output_type": "execute_result"
    }
   ],
   "source": [
    "tu = (10,20,30)\n",
    "tu[0]\n",
    "tu[1]"
   ]
  },
  {
   "cell_type": "code",
   "execution_count": 76,
   "id": "2f978de4-a3e7-443d-8f74-a234bb20aeb7",
   "metadata": {},
   "outputs": [
    {
     "data": {
      "text/plain": [
       "{'one': 1, 'two': 2, 'three': 3, 'four': 4}"
      ]
     },
     "execution_count": 76,
     "metadata": {},
     "output_type": "execute_result"
    }
   ],
   "source": [
    "dic"
   ]
  },
  {
   "cell_type": "code",
   "execution_count": 81,
   "id": "234e3249-a3d2-4431-8881-99828e46b681",
   "metadata": {},
   "outputs": [
    {
     "data": {
      "text/plain": [
       "[('one', 1), ('two', 2), ('three', 3), ('four', 4)]"
      ]
     },
     "execution_count": 81,
     "metadata": {},
     "output_type": "execute_result"
    }
   ],
   "source": [
    "list(dic.items())"
   ]
  },
  {
   "cell_type": "code",
   "execution_count": 80,
   "id": "85b078fc-bf63-4189-9e39-f80ac0cde7c8",
   "metadata": {},
   "outputs": [
    {
     "data": {
      "text/plain": [
       "tuple"
      ]
     },
     "execution_count": 80,
     "metadata": {},
     "output_type": "execute_result"
    }
   ],
   "source": [
    "type(list(dic.items())[0])"
   ]
  },
  {
   "cell_type": "code",
   "execution_count": 85,
   "id": "242b0c8e-a9c6-4ca2-b709-5f6d7037440b",
   "metadata": {},
   "outputs": [
    {
     "name": "stdout",
     "output_type": "stream",
     "text": [
      "k:one\tv:1\n",
      "k:two\tv:2\n",
      "k:three\tv:3\n",
      "k:four\tv:4\n",
      "\n",
      "k:one\n",
      "k:two\n",
      "k:three\n",
      "k:four\n"
     ]
    }
   ],
   "source": [
    "for k,v in dic.items():\n",
    "    print(f'k:{k}\\tv:{v}')\n",
    "\n",
    "print()\n",
    "    \n",
    "#하나만 쓰고 싶을 때\n",
    "for k,_ in dic.items():\n",
    "    print(f'k:{k}')"
   ]
  },
  {
   "cell_type": "markdown",
   "id": "68e6150e-0a7a-4e20-b929-6a8d83c12cf1",
   "metadata": {},
   "source": [
    "## lambda\n",
    "* list(map(함수, 리스트))\n",
    "* filter"
   ]
  },
  {
   "cell_type": "code",
   "execution_count": 91,
   "id": "4d9f644c-58d8-4560-81d5-16cbcf8dc09e",
   "metadata": {},
   "outputs": [
    {
     "data": {
      "text/plain": [
       "[1, 4, 9, 16, 25]"
      ]
     },
     "execution_count": 91,
     "metadata": {},
     "output_type": "execute_result"
    }
   ],
   "source": [
    "pow1 = [x**2 for x in range(1,6)]\n",
    "pow1"
   ]
  },
  {
   "cell_type": "code",
   "execution_count": 92,
   "id": "7e42e748-24db-43f3-b86b-8124b9e3dd43",
   "metadata": {},
   "outputs": [
    {
     "data": {
      "text/plain": [
       "[1, 4, 9, 16, 25]"
      ]
     },
     "execution_count": 92,
     "metadata": {},
     "output_type": "execute_result"
    }
   ],
   "source": [
    "x = range(1,6)\n",
    "pow2 =  list(map(lambda x:x**2,x))\n",
    "pow2"
   ]
  },
  {
   "cell_type": "code",
   "execution_count": null,
   "id": "8780b0cf-5dea-4182-a041-98865d266c54",
   "metadata": {},
   "outputs": [],
   "source": []
  }
 ],
 "metadata": {
  "kernelspec": {
   "display_name": "Python 3",
   "language": "python",
   "name": "python3"
  },
  "language_info": {
   "codemirror_mode": {
    "name": "ipython",
    "version": 3
   },
   "file_extension": ".py",
   "mimetype": "text/x-python",
   "name": "python",
   "nbconvert_exporter": "python",
   "pygments_lexer": "ipython3",
   "version": "3.8.8"
  }
 },
 "nbformat": 4,
 "nbformat_minor": 5
}
