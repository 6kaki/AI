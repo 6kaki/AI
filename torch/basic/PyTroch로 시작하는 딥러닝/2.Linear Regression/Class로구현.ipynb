{
 "cells": [
  {
   "cell_type": "markdown",
   "metadata": {},
   "source": [
    "## Class로 Pytoch 모델 구현하기\n",
    "- Class를 사용하여 구현"
   ]
  },
  {
   "cell_type": "markdown",
   "metadata": {},
   "source": [
    "- model = nn.Linear(1,1)\n",
    "- forward함수는 객체를 데이터와 함께 호출하면 자동으로 실행된다. model(data) -> forward 자동실행"
   ]
  },
  {
   "cell_type": "code",
   "execution_count": 1,
   "metadata": {},
   "outputs": [],
   "source": [
    "import torch\n",
    "import torch.nn as nn\n",
    "import torch.nn.functional as F\n",
    "import torch.optim as optim"
   ]
  },
  {
   "cell_type": "code",
   "execution_count": 2,
   "metadata": {},
   "outputs": [],
   "source": [
    "class LinearRegressionModel(nn.Module): # torch.nn.Module을 상속받는 클래스\n",
    "\n",
    "    def __init__(self):\n",
    "        super().__init__() ## nn.Module의 속성들을 가지고 초기화가 된다.\n",
    "        self.linear = nn.Linear(1,1) #단순 선형 회귀이므로 input_dim = 1, output_dim = 1\n",
    "\n",
    "    def forward(self,x):\n",
    "        return self.linear(x)\n",
    "\n",
    "model = LinearRegressionModel()\n"
   ]
  },
  {
   "cell_type": "code",
   "execution_count": 3,
   "metadata": {},
   "outputs": [],
   "source": [
    "x_train = torch.FloatTensor([[1], [2], [3]])\n",
    "y_train = torch.FloatTensor([[2], [4], [6]])"
   ]
  },
  {
   "cell_type": "code",
   "execution_count": 4,
   "metadata": {},
   "outputs": [
    {
     "name": "stdout",
     "output_type": "stream",
     "text": [
      "epoch : 0/1000 cost : 15.309730529785156\n",
      "epoch : 100/1000 cost : 0.1402735710144043\n",
      "epoch : 200/1000 cost : 0.08668044209480286\n",
      "epoch : 300/1000 cost : 0.053563207387924194\n",
      "epoch : 400/1000 cost : 0.03309882804751396\n",
      "epoch : 500/1000 cost : 0.020453056320548058\n",
      "epoch : 600/1000 cost : 0.01263875886797905\n",
      "epoch : 700/1000 cost : 0.007809975650161505\n",
      "epoch : 800/1000 cost : 0.004826095420867205\n",
      "epoch : 900/1000 cost : 0.002982228295877576\n",
      "epoch : 1000/1000 cost : 0.001842833706177771\n"
     ]
    }
   ],
   "source": [
    "optimizer = optim.SGD(model.parameters(),lr=0.01)\n",
    "\n",
    "nb_epochs = 1000\n",
    "for epoch in range(nb_epochs+1):\n",
    "\n",
    "    h = model(x_train)\n",
    "\n",
    "    cost = F.mse_loss(h,y_train)\n",
    "\n",
    "    optimizer.zero_grad()\n",
    "    cost.backward()\n",
    "    optimizer.step()\n",
    "\n",
    "    if epoch % 100 == 0:\n",
    "        print(f'epoch : {epoch}/{nb_epochs} cost : {cost.item()}')"
   ]
  },
  {
   "cell_type": "markdown",
   "metadata": {},
   "source": [
    "___"
   ]
  },
  {
   "cell_type": "markdown",
   "metadata": {},
   "source": [
    "## 다중 선형회귀 클래스로 구현"
   ]
  },
  {
   "cell_type": "code",
   "execution_count": 7,
   "metadata": {},
   "outputs": [],
   "source": [
    "# 데이터\n",
    "X_train = torch.FloatTensor([[73, 80, 75],\n",
    "                             [93, 88, 93],\n",
    "                             [89, 91, 90],\n",
    "                             [96, 98, 100],\n",
    "                             [73, 66, 70]])\n",
    "y_train = torch.FloatTensor([[152], [185], [180], [196], [142]])"
   ]
  },
  {
   "cell_type": "code",
   "execution_count": 9,
   "metadata": {},
   "outputs": [],
   "source": [
    "class MultiVariableLinearRegression(nn.Module):\n",
    "\n",
    "    def __init__(self):\n",
    "        super().__init__()\n",
    "        self.linear = nn.Linear(3,1)\n",
    "\n",
    "    def forward(self,x):\n",
    "        return self.linear(x)"
   ]
  },
  {
   "cell_type": "code",
   "execution_count": 10,
   "metadata": {},
   "outputs": [
    {
     "name": "stdout",
     "output_type": "stream",
     "text": [
      "epoch : 0/2000 cost : 45012.3046875\n",
      "epoch : 100/2000 cost : 3.7323012351989746\n",
      "epoch : 200/2000 cost : 3.5751426219940186\n",
      "epoch : 300/2000 cost : 3.4260947704315186\n",
      "epoch : 400/2000 cost : 3.284719467163086\n",
      "epoch : 500/2000 cost : 3.150712251663208\n",
      "epoch : 600/2000 cost : 3.0235886573791504\n",
      "epoch : 700/2000 cost : 2.903038501739502\n",
      "epoch : 800/2000 cost : 2.7887046337127686\n",
      "epoch : 900/2000 cost : 2.6802802085876465\n",
      "epoch : 1000/2000 cost : 2.5774013996124268\n",
      "epoch : 1100/2000 cost : 2.479816198348999\n",
      "epoch : 1200/2000 cost : 2.3872299194335938\n",
      "epoch : 1300/2000 cost : 2.2993946075439453\n",
      "epoch : 1400/2000 cost : 2.216035842895508\n",
      "epoch : 1500/2000 cost : 2.1369643211364746\n",
      "epoch : 1600/2000 cost : 2.061894416809082\n",
      "epoch : 1700/2000 cost : 1.9906489849090576\n",
      "epoch : 1800/2000 cost : 1.9230254888534546\n",
      "epoch : 1900/2000 cost : 1.8588374853134155\n",
      "epoch : 2000/2000 cost : 1.7978827953338623\n"
     ]
    }
   ],
   "source": [
    "model = MultiVariableLinearRegression()\n",
    "\n",
    "optimizer = optim.SGD(model.parameters(),lr=1e-5)\n",
    "\n",
    "nb_epochs = 2000\n",
    "for epoch in range(nb_epochs+1):\n",
    "\n",
    "    h = model(X_train)\n",
    "\n",
    "    cost = F.mse_loss(h,y_train)\n",
    "\n",
    "    optimizer.zero_grad()\n",
    "    cost.backward()\n",
    "    optimizer.step()\n",
    "\n",
    "    if epoch % 100 == 0:\n",
    "        print(f'epoch : {epoch}/{nb_epochs} cost : {cost.item()}')"
   ]
  }
 ],
 "metadata": {
  "kernelspec": {
   "display_name": "Python 3.7.13 ('torch')",
   "language": "python",
   "name": "python3"
  },
  "language_info": {
   "codemirror_mode": {
    "name": "ipython",
    "version": 3
   },
   "file_extension": ".py",
   "mimetype": "text/x-python",
   "name": "python",
   "nbconvert_exporter": "python",
   "pygments_lexer": "ipython3",
   "version": "3.7.13"
  },
  "orig_nbformat": 4,
  "vscode": {
   "interpreter": {
    "hash": "b866d5dea38e114c83204e7240f408665cd08d33742eb3a897bd8549c7548270"
   }
  }
 },
 "nbformat": 4,
 "nbformat_minor": 2
}
