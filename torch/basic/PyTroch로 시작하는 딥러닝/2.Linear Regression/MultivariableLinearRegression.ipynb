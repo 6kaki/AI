{
 "cells": [
  {
   "cell_type": "markdown",
   "metadata": {},
   "source": [
    "## Multivariable Linear Regression\n",
    "- 다수의 x로부터 y를 예측하는 다중선형회귀"
   ]
  },
  {
   "cell_type": "code",
   "execution_count": 1,
   "metadata": {},
   "outputs": [
    {
     "data": {
      "text/plain": [
       "<torch._C.Generator at 0x1d1be2939b0>"
      ]
     },
     "execution_count": 1,
     "metadata": {},
     "output_type": "execute_result"
    }
   ],
   "source": [
    "# H(x) = w1x1 + w2x2 + w3x3 + b\n",
    "\n",
    "import torch\n",
    "import torch.nn as nn\n",
    "import torch.nn.functional as F\n",
    "import torch.optim as optim\n",
    "\n",
    "torch.manual_seed(1)"
   ]
  },
  {
   "cell_type": "code",
   "execution_count": 2,
   "metadata": {},
   "outputs": [],
   "source": [
    "x1_train = torch.FloatTensor([[73],[93],[89],[96],[73]])\n",
    "x2_train = torch.FloatTensor([[80],[88],[91],[98],[66]])\n",
    "x3_train = torch.FloatTensor([[75],[93],[90],[100],[70]])\n",
    "y_train = torch.FloatTensor([[152],[185],[180],[196],[142]])"
   ]
  },
  {
   "cell_type": "code",
   "execution_count": 3,
   "metadata": {},
   "outputs": [],
   "source": [
    "#가중치와 편향 초기화\n",
    "w1 = torch.zeros(1,requires_grad=True)\n",
    "w2 = torch.zeros(1,requires_grad=True)\n",
    "w3 = torch.zeros(1,requires_grad=True)\n",
    "b = torch.zeros(1,requires_grad=True)"
   ]
  },
  {
   "cell_type": "code",
   "execution_count": 5,
   "metadata": {},
   "outputs": [
    {
     "name": "stdout",
     "output_type": "stream",
     "text": [
      "epoch : 0/1000 cost : 6.328963279724121\n",
      "epoch : 100/1000 cost : 5.936648368835449\n",
      "epoch : 200/1000 cost : 5.5709123611450195\n",
      "epoch : 300/1000 cost : 5.22980260848999\n",
      "epoch : 400/1000 cost : 4.9117207527160645\n",
      "epoch : 500/1000 cost : 4.615113258361816\n",
      "epoch : 600/1000 cost : 4.338532447814941\n",
      "epoch : 700/1000 cost : 4.0806145668029785\n",
      "epoch : 800/1000 cost : 3.840094804763794\n",
      "epoch : 900/1000 cost : 3.615809679031372\n",
      "epoch : 1000/1000 cost : 3.4066569805145264\n"
     ]
    }
   ],
   "source": [
    "#optimizer\n",
    "\n",
    "optimizer = optim.SGD([w1,w2,w2,b],lr=1e-5)\n",
    "\n",
    "nb_epochs = 1000\n",
    "for epoch in range(nb_epochs+1):\n",
    "\n",
    "    #H(x)계산\n",
    "    h = x1_train*w1 + x2_train*w2 + x3_train*w3 + b\n",
    "\n",
    "    #cost\n",
    "    cost = torch.mean((h - y_train)**2)\n",
    "\n",
    "    #backward\n",
    "    optimizer.zero_grad()\n",
    "    cost.backward()\n",
    "    optimizer.step()\n",
    "\n",
    "    if epoch % 100 ==0:\n",
    "        print(f'epoch : {epoch}/{nb_epochs} cost : {cost.item()}')"
   ]
  },
  {
   "cell_type": "markdown",
   "metadata": {},
   "source": [
    "## 행렬로 연산하기\n",
    "- H(X) = XW + B"
   ]
  },
  {
   "cell_type": "code",
   "execution_count": 6,
   "metadata": {},
   "outputs": [
    {
     "name": "stdout",
     "output_type": "stream",
     "text": [
      "torch.Size([5, 3])\n",
      "torch.Size([5, 1])\n"
     ]
    }
   ],
   "source": [
    "x_train = torch.FloatTensor([\n",
    "    [73,80,75],\n",
    "    [93,88,93],\n",
    "    [89,91,80],\n",
    "    [96,98,100],\n",
    "    [73,66,70]\n",
    "])\n",
    "\n",
    "y_train = torch.FloatTensor([[152],[185],[180],[196],[142]])\n",
    "\n",
    "print(x_train.shape)\n",
    "print(y_train.shape)"
   ]
  },
  {
   "cell_type": "code",
   "execution_count": 7,
   "metadata": {},
   "outputs": [],
   "source": [
    "W = torch.zeros((3,1),requires_grad=True)\n",
    "b = torch.zeros(1,requires_grad=True)"
   ]
  },
  {
   "cell_type": "code",
   "execution_count": 9,
   "metadata": {},
   "outputs": [
    {
     "name": "stdout",
     "output_type": "stream",
     "text": [
      "epoch : 0/1000 cost : 29661.80078125\n",
      "epoch : 100/1000 cost : 5.754567623138428\n",
      "epoch : 200/1000 cost : 5.512375354766846\n",
      "epoch : 300/1000 cost : 5.281662940979004\n",
      "epoch : 400/1000 cost : 5.061868190765381\n",
      "epoch : 500/1000 cost : 4.8523969650268555\n",
      "epoch : 600/1000 cost : 4.652731418609619\n",
      "epoch : 700/1000 cost : 4.462275505065918\n",
      "epoch : 800/1000 cost : 4.280612945556641\n",
      "epoch : 900/1000 cost : 4.107294082641602\n",
      "epoch : 1000/1000 cost : 3.9418270587921143\n"
     ]
    }
   ],
   "source": [
    "optimizer = optim.SGD([W,b],lr=1e-5)\n",
    "\n",
    "nb_epochs = 1000\n",
    "\n",
    "for epoch in range(nb_epochs+1):\n",
    "\n",
    "    h = x_train.matmul(W) + b\n",
    "\n",
    "    cost = torch.mean((h - y_train)**2)\n",
    "\n",
    "    optimizer.zero_grad()\n",
    "    cost.backward()\n",
    "    optimizer.step()\n",
    "\n",
    "    if epoch % 100 == 0:\n",
    "        print(f'epoch : {epoch}/{nb_epochs} cost : {cost.item()}')"
   ]
  },
  {
   "cell_type": "code",
   "execution_count": null,
   "metadata": {},
   "outputs": [],
   "source": []
  }
 ],
 "metadata": {
  "kernelspec": {
   "display_name": "Python 3.7.13 ('torch')",
   "language": "python",
   "name": "python3"
  },
  "language_info": {
   "codemirror_mode": {
    "name": "ipython",
    "version": 3
   },
   "file_extension": ".py",
   "mimetype": "text/x-python",
   "name": "python",
   "nbconvert_exporter": "python",
   "pygments_lexer": "ipython3",
   "version": "3.7.13"
  },
  "orig_nbformat": 4,
  "vscode": {
   "interpreter": {
    "hash": "b866d5dea38e114c83204e7240f408665cd08d33742eb3a897bd8549c7548270"
   }
  }
 },
 "nbformat": 4,
 "nbformat_minor": 2
}
