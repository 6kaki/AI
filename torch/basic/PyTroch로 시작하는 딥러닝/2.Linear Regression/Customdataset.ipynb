{
 "cells": [
  {
   "cell_type": "markdown",
   "metadata": {},
   "source": [
    "## Custom Dataset\n",
    "- torch.utils.data.Dataset을 상속받아 직접 커스텀 데이터셋을 만들 수 있다."
   ]
  },
  {
   "cell_type": "code",
   "execution_count": null,
   "metadata": {},
   "outputs": [],
   "source": [
    "# 기본적인 구조\n",
    "\n",
    "class CustomDataset(torch.utils.data.Dataset):\n",
    "    def __init__(self):\n",
    "        #데이터셋의 전처리를 해주는 부분\n",
    "\n",
    "    def __len__(self):\n",
    "        #데이터셋의 길이. 즉, 총 샘플의 수를 적어주는 부분\n",
    "        # len(dataset)했을 때 \n",
    "\n",
    "    def __getitem__(self,idx):\n",
    "        # 데이터셋에서 특정 1개의 샘플을 가져오는 함수\n",
    "        # dataset[i]했을 때"
   ]
  },
  {
   "cell_type": "code",
   "execution_count": 1,
   "metadata": {},
   "outputs": [],
   "source": [
    "import torch\n",
    "import torch.nn as nn\n",
    "import torch.nn.functional as F\n",
    "import torch.optim as optim"
   ]
  },
  {
   "cell_type": "code",
   "execution_count": 2,
   "metadata": {},
   "outputs": [],
   "source": [
    "from torch.utils.data import Dataset\n",
    "from torch.utils.data import DataLoader"
   ]
  },
  {
   "cell_type": "code",
   "execution_count": 3,
   "metadata": {},
   "outputs": [],
   "source": [
    "class CustomDataset(Dataset):\n",
    "    def __init__(self):\n",
    "        self.x_data = [[73, 80, 75],\n",
    "                   [93, 88, 93],\n",
    "                   [89, 91, 90],\n",
    "                   [96, 98, 100],\n",
    "                   [73, 66, 70]]\n",
    "        self.y_data = [[152], [185], [180], [196], [142]]\n",
    "\n",
    "    def __len__(self):\n",
    "        return len(self.x_data)\n",
    "\n",
    "    def __getitem__(self,idx):\n",
    "        x = torch.FloatTensor(self.x_data[idx])\n",
    "        y = torch.FloatTensor(self.y_data[idx])\n",
    "        return x,y"
   ]
  },
  {
   "cell_type": "code",
   "execution_count": 4,
   "metadata": {},
   "outputs": [],
   "source": [
    "dataset = CustomDataset()\n",
    "dataloader = DataLoader(dataset,batch_size=2,shuffle=True)"
   ]
  },
  {
   "cell_type": "code",
   "execution_count": 9,
   "metadata": {},
   "outputs": [],
   "source": [
    "model = nn.Linear(3,1)\n",
    "optimizer = optim.SGD(model.parameters(),lr=1e-5)"
   ]
  },
  {
   "cell_type": "code",
   "execution_count": 10,
   "metadata": {},
   "outputs": [
    {
     "name": "stdout",
     "output_type": "stream",
     "text": [
      "epoch : 0/2000 cost : 4958.80517578125\n",
      "epoch : 100/2000 cost : 0.4573817551136017\n",
      "epoch : 200/2000 cost : 0.7157042026519775\n",
      "epoch : 300/2000 cost : 0.063357412815094\n",
      "epoch : 400/2000 cost : 0.21892620623111725\n",
      "epoch : 500/2000 cost : 0.22481974959373474\n",
      "epoch : 600/2000 cost : 0.5200510025024414\n",
      "epoch : 700/2000 cost : 0.6041684150695801\n",
      "epoch : 800/2000 cost : 0.37361013889312744\n",
      "epoch : 900/2000 cost : 0.4913424849510193\n",
      "epoch : 1000/2000 cost : 0.6651246547698975\n",
      "epoch : 1100/2000 cost : 0.7076204419136047\n",
      "epoch : 1200/2000 cost : 0.16129165887832642\n",
      "epoch : 1300/2000 cost : 0.34789764881134033\n",
      "epoch : 1400/2000 cost : 0.44077637791633606\n",
      "epoch : 1500/2000 cost : 0.2950802445411682\n",
      "epoch : 1600/2000 cost : 0.3048914968967438\n",
      "epoch : 1700/2000 cost : 0.09988130629062653\n",
      "epoch : 1800/2000 cost : 0.39045336842536926\n",
      "epoch : 1900/2000 cost : 0.308135449886322\n",
      "epoch : 2000/2000 cost : 0.39908167719841003\n"
     ]
    }
   ],
   "source": [
    "nb_epochs = 2000\n",
    "for epoch in range(nb_epochs+1):\n",
    "    for batch_idx,samples in enumerate(dataloader):\n",
    "        x_train,y_train = samples\n",
    "\n",
    "        h = model(x_train)\n",
    "\n",
    "        cost = F.mse_loss(h,y_train)\n",
    "\n",
    "        optimizer.zero_grad()\n",
    "        cost.backward()\n",
    "        optimizer.step()\n",
    "\n",
    "    if epoch % 100 == 0:\n",
    "        print(f'epoch : {epoch}/{nb_epochs} cost : {cost.item()}')"
   ]
  },
  {
   "cell_type": "code",
   "execution_count": null,
   "metadata": {},
   "outputs": [],
   "source": []
  }
 ],
 "metadata": {
  "kernelspec": {
   "display_name": "Python 3.7.13 ('torch')",
   "language": "python",
   "name": "python3"
  },
  "language_info": {
   "codemirror_mode": {
    "name": "ipython",
    "version": 3
   },
   "file_extension": ".py",
   "mimetype": "text/x-python",
   "name": "python",
   "nbconvert_exporter": "python",
   "pygments_lexer": "ipython3",
   "version": "3.7.13"
  },
  "orig_nbformat": 4,
  "vscode": {
   "interpreter": {
    "hash": "b866d5dea38e114c83204e7240f408665cd08d33742eb3a897bd8549c7548270"
   }
  }
 },
 "nbformat": 4,
 "nbformat_minor": 2
}
