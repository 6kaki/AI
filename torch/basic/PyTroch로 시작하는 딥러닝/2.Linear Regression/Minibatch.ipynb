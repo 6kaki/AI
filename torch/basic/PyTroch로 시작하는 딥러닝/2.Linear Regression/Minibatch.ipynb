{
 "cells": [
  {
   "cell_type": "markdown",
   "metadata": {},
   "source": [
    "## Data Load\n",
    "- Dataset\n",
    "- DataLoader\n",
    "- shuffle, mini-batch, 병렬처리까지 간단하게 수행할 수 있도록 \n",
    "- 기본적으로 dataset을 정의하고 dataloader에 전달"
   ]
  },
  {
   "cell_type": "code",
   "execution_count": 1,
   "metadata": {},
   "outputs": [],
   "source": [
    "import torch\n",
    "import torch.nn as nn\n",
    "import torch.nn.functional as F\n",
    "import torch.optim as optim"
   ]
  },
  {
   "cell_type": "markdown",
   "metadata": {},
   "source": [
    "### TensorDataset : 텐서를 입력으로 받아 텐서 형태로 데이터를 정의"
   ]
  },
  {
   "cell_type": "code",
   "execution_count": 3,
   "metadata": {},
   "outputs": [],
   "source": [
    "from torch.utils.data import TensorDataset\n",
    "from torch.utils.data import DataLoader"
   ]
  },
  {
   "cell_type": "code",
   "execution_count": 4,
   "metadata": {},
   "outputs": [],
   "source": [
    "x_train  =  torch.FloatTensor([[73,  80,  75], \n",
    "                               [93,  88,  93], \n",
    "                               [89,  91,  90], \n",
    "                               [96,  98,  100],   \n",
    "                               [73,  66,  70]])  \n",
    "y_train  =  torch.FloatTensor([[152],  [185],  [180],  [196],  [142]])"
   ]
  },
  {
   "cell_type": "code",
   "execution_count": 5,
   "metadata": {},
   "outputs": [],
   "source": [
    "# dataset을 정의\n",
    "dataset = TensorDataset(x_train,y_train)"
   ]
  },
  {
   "cell_type": "code",
   "execution_count": 6,
   "metadata": {},
   "outputs": [],
   "source": [
    "# dataloader (데이터셋, 미니배치크기, shuffle)\n",
    "\n",
    "dataloader = DataLoader(dataset,batch_size=2,shuffle=True)"
   ]
  },
  {
   "cell_type": "code",
   "execution_count": 7,
   "metadata": {},
   "outputs": [],
   "source": [
    "model = nn.Linear(3,1)\n",
    "\n",
    "optimizer = optim.SGD(model.parameters(),lr=1e-5)"
   ]
  },
  {
   "cell_type": "code",
   "execution_count": 12,
   "metadata": {},
   "outputs": [
    {
     "name": "stdout",
     "output_type": "stream",
     "text": [
      "epoch : 0/20 cost : 0.7493436336517334\n",
      "epoch : 1/20 cost : 0.005304237827658653\n",
      "epoch : 2/20 cost : 0.03245781362056732\n",
      "epoch : 3/20 cost : 0.028059929609298706\n",
      "epoch : 4/20 cost : 0.17040055990219116\n",
      "epoch : 5/20 cost : 0.7532055377960205\n",
      "epoch : 6/20 cost : 0.5012750625610352\n",
      "epoch : 7/20 cost : 0.4183959364891052\n",
      "epoch : 8/20 cost : 0.0023382159415632486\n",
      "epoch : 9/20 cost : 0.02220616489648819\n",
      "epoch : 10/20 cost : 0.01049549225717783\n",
      "epoch : 11/20 cost : 0.13592705130577087\n",
      "epoch : 12/20 cost : 0.10652749240398407\n",
      "epoch : 13/20 cost : 0.4051193594932556\n",
      "epoch : 14/20 cost : 0.3693692684173584\n",
      "epoch : 15/20 cost : 0.16493989527225494\n",
      "epoch : 16/20 cost : 0.15354305505752563\n",
      "epoch : 17/20 cost : 0.1516832411289215\n",
      "epoch : 18/20 cost : 0.08294955641031265\n",
      "epoch : 19/20 cost : 0.07722455263137817\n",
      "epoch : 20/20 cost : 0.10790647566318512\n"
     ]
    }
   ],
   "source": [
    "nb_epochs = 20\n",
    "for epoch in range(nb_epochs+1):\n",
    "    for batch_idx,samples in enumerate(dataloader):\n",
    "        # print(batch_idx)\n",
    "        # print(samples)\n",
    "        x_train,y_train = samples\n",
    "\n",
    "        prediction = model(x_train)\n",
    "\n",
    "        cost = F.mse_loss(prediction,y_train)\n",
    "\n",
    "        optimizer.zero_grad()\n",
    "        cost.backward()\n",
    "        optimizer.step()\n",
    "\n",
    "    print(f'epoch : {epoch}/{nb_epochs} cost : {cost.item()}')"
   ]
  },
  {
   "cell_type": "code",
   "execution_count": null,
   "metadata": {},
   "outputs": [],
   "source": []
  }
 ],
 "metadata": {
  "kernelspec": {
   "display_name": "Python 3.7.13 ('torch')",
   "language": "python",
   "name": "python3"
  },
  "language_info": {
   "codemirror_mode": {
    "name": "ipython",
    "version": 3
   },
   "file_extension": ".py",
   "mimetype": "text/x-python",
   "name": "python",
   "nbconvert_exporter": "python",
   "pygments_lexer": "ipython3",
   "version": "3.7.13"
  },
  "orig_nbformat": 4,
  "vscode": {
   "interpreter": {
    "hash": "b866d5dea38e114c83204e7240f408665cd08d33742eb3a897bd8549c7548270"
   }
  }
 },
 "nbformat": 4,
 "nbformat_minor": 2
}
