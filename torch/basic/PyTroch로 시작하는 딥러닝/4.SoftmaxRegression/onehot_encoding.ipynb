{
 "cells": [
  {
   "cell_type": "markdown",
   "metadata": {},
   "source": [
    "### 범주형 데이터를 처리할 때 레이블을 표현하는 방법\n",
    "- 인덱스에 해당하는 원소에서는 1, 나머지는 0으로 표현\n",
    "- 고양이 강아지 냉장고\n",
    "- 고양이 = [1,0,0]\n",
    "- 강아지 = [0,1,0]\n",
    "- 냉장고 = [0,0,1]\n",
    "- one-hot vector"
   ]
  },
  {
   "cell_type": "markdown",
   "metadata": {},
   "source": []
  }
 ],
 "metadata": {
  "kernelspec": {
   "display_name": "Python 3.7.13 ('torch')",
   "language": "python",
   "name": "python3"
  },
  "language_info": {
   "name": "python",
   "version": "3.7.13"
  },
  "orig_nbformat": 4,
  "vscode": {
   "interpreter": {
    "hash": "b866d5dea38e114c83204e7240f408665cd08d33742eb3a897bd8549c7548270"
   }
  }
 },
 "nbformat": 4,
 "nbformat_minor": 2
}
