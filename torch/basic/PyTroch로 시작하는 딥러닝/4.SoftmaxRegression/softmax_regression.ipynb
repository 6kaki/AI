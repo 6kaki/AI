{
 "cells": [
  {
   "cell_type": "code",
   "execution_count": 1,
   "metadata": {},
   "outputs": [
    {
     "data": {
      "text/plain": [
       "<torch._C.Generator at 0x177beb9ec10>"
      ]
     },
     "execution_count": 1,
     "metadata": {},
     "output_type": "execute_result"
    }
   ],
   "source": [
    "import torch\n",
    "import torch.nn as nn\n",
    "import torch.nn.functional as F\n",
    "import torch.optim as optim\n",
    "\n",
    "torch.manual_seed(1)"
   ]
  },
  {
   "cell_type": "code",
   "execution_count": 2,
   "metadata": {},
   "outputs": [
    {
     "name": "stdout",
     "output_type": "stream",
     "text": [
      "torch.Size([8, 4])\n",
      "torch.Size([8])\n"
     ]
    }
   ],
   "source": [
    "x_train = [[1, 2, 1, 1],\n",
    "           [2, 1, 3, 2],\n",
    "           [3, 1, 3, 4],\n",
    "           [4, 1, 5, 5],\n",
    "           [1, 7, 5, 5],\n",
    "           [1, 2, 5, 6],\n",
    "           [1, 6, 6, 6],\n",
    "           [1, 7, 7, 7]]\n",
    "y_train = [2, 2, 2, 1, 1, 1, 0, 0]\n",
    "x_train = torch.FloatTensor(x_train)\n",
    "y_train = torch.LongTensor(y_train)\n",
    "\n",
    "print(x_train.shape)\n",
    "print(y_train.shape)"
   ]
  },
  {
   "cell_type": "code",
   "execution_count": 3,
   "metadata": {},
   "outputs": [
    {
     "name": "stdout",
     "output_type": "stream",
     "text": [
      "tensor([[0., 0., 1.],\n",
      "        [0., 0., 1.],\n",
      "        [0., 0., 1.],\n",
      "        [0., 1., 0.],\n",
      "        [0., 1., 0.],\n",
      "        [0., 1., 0.],\n",
      "        [1., 0., 0.],\n",
      "        [1., 0., 0.]])\n"
     ]
    }
   ],
   "source": [
    "y_one_hot = torch.zeros(8,3) # 최종 클래스의 개수는 3개\n",
    "y_one_hot.scatter_(1,y_train.unsqueeze(1),1)\n",
    "\n",
    "print(y_one_hot)"
   ]
  },
  {
   "cell_type": "code",
   "execution_count": 4,
   "metadata": {},
   "outputs": [],
   "source": [
    "W = torch.zeros((4,3),requires_grad=True)\n",
    "b = torch.zeros(1,requires_grad=True)\n",
    "\n",
    "optimizer = optim.SGD([W,b],lr=0.1)"
   ]
  },
  {
   "cell_type": "code",
   "execution_count": 6,
   "metadata": {},
   "outputs": [
    {
     "name": "stdout",
     "output_type": "stream",
     "text": [
      "epoch : 0/1000 cost : 1.0986123085021973\n",
      "epoch : 100/1000 cost : 0.7610501646995544\n",
      "epoch : 200/1000 cost : 0.6899909377098083\n",
      "epoch : 300/1000 cost : 0.6432289481163025\n",
      "epoch : 400/1000 cost : 0.6041172742843628\n",
      "epoch : 500/1000 cost : 0.5682551860809326\n",
      "epoch : 600/1000 cost : 0.5339217185974121\n",
      "epoch : 700/1000 cost : 0.5002908706665039\n",
      "epoch : 800/1000 cost : 0.46690839529037476\n",
      "epoch : 900/1000 cost : 0.4335065484046936\n",
      "epoch : 1000/1000 cost : 0.3999623656272888\n"
     ]
    }
   ],
   "source": [
    "nb_epochs = 1000\n",
    "for epoch in range(nb_epochs+1):\n",
    "\n",
    "    h = F.softmax(x_train.matmul(W) + b,dim=1)\n",
    "\n",
    "    cost = (-y_one_hot*torch.log(h)).sum(dim=1).mean()\n",
    "\n",
    "    optimizer.zero_grad()\n",
    "    cost.backward()\n",
    "    optimizer.step()\n",
    "\n",
    "    if epoch % 100 == 0:\n",
    "        print(f'epoch : {epoch}/{nb_epochs} cost : {cost.item()}')"
   ]
  },
  {
   "cell_type": "markdown",
   "metadata": {},
   "source": [
    "____"
   ]
  },
  {
   "cell_type": "markdown",
   "metadata": {},
   "source": [
    "- High level"
   ]
  },
  {
   "cell_type": "code",
   "execution_count": 8,
   "metadata": {},
   "outputs": [
    {
     "name": "stdout",
     "output_type": "stream",
     "text": [
      "epoch : 0/1000 cost : 1.0986123085021973\n",
      "epoch : 100/1000 cost : 0.7610502243041992\n",
      "epoch : 200/1000 cost : 0.6899909377098083\n",
      "epoch : 300/1000 cost : 0.6432289481163025\n",
      "epoch : 400/1000 cost : 0.6041172742843628\n",
      "epoch : 500/1000 cost : 0.5682555437088013\n",
      "epoch : 600/1000 cost : 0.5339218378067017\n",
      "epoch : 700/1000 cost : 0.5002910494804382\n",
      "epoch : 800/1000 cost : 0.4669080674648285\n",
      "epoch : 900/1000 cost : 0.4335065484046936\n",
      "epoch : 1000/1000 cost : 0.39996203780174255\n"
     ]
    }
   ],
   "source": [
    "W = torch.zeros((4,3),requires_grad=True)\n",
    "b = torch.zeros(1,requires_grad=True)\n",
    "\n",
    "optimizer = optim.SGD([W,b],lr=0.1)\n",
    "\n",
    "nb_epochs=1000\n",
    "for epoch in range(nb_epochs+1):\n",
    "\n",
    "    z = x_train.matmul(W) + b\n",
    "    cost = F.cross_entropy(z,y_train)\n",
    "\n",
    "    optimizer.zero_grad()\n",
    "    cost.backward()\n",
    "    optimizer.step()\n",
    "\n",
    "    if epoch % 100 == 0:\n",
    "        print(f'epoch : {epoch}/{nb_epochs} cost : {cost.item()}')"
   ]
  },
  {
   "cell_type": "markdown",
   "metadata": {},
   "source": [
    "---"
   ]
  },
  {
   "cell_type": "markdown",
   "metadata": {},
   "source": [
    "- nn.Module"
   ]
  },
  {
   "cell_type": "code",
   "execution_count": 10,
   "metadata": {},
   "outputs": [
    {
     "name": "stdout",
     "output_type": "stream",
     "text": [
      "epoch : 0/1000 cost : 2.637636423110962\n",
      "epoch : 100/1000 cost : 0.6479031443595886\n",
      "epoch : 200/1000 cost : 0.5646426677703857\n",
      "epoch : 300/1000 cost : 0.51104336977005\n",
      "epoch : 400/1000 cost : 0.4672490656375885\n",
      "epoch : 500/1000 cost : 0.42828047275543213\n",
      "epoch : 600/1000 cost : 0.391924113035202\n",
      "epoch : 700/1000 cost : 0.35674208402633667\n",
      "epoch : 800/1000 cost : 0.32157692313194275\n",
      "epoch : 900/1000 cost : 0.2856171131134033\n",
      "epoch : 1000/1000 cost : 0.25081753730773926\n"
     ]
    }
   ],
   "source": [
    "model = nn.Linear(4,3)\n",
    "\n",
    "optimizer = optim.SGD(model.parameters(),lr=0.1)\n",
    "\n",
    "nb_epochs = 1000\n",
    "for epoch in range(nb_epochs+1):\n",
    "\n",
    "    z = model(x_train)\n",
    "    cost = F.cross_entropy(z,y_train)\n",
    "\n",
    "    optimizer.zero_grad()\n",
    "    cost.backward()\n",
    "    optimizer.step()\n",
    "\n",
    "    if epoch%100 == 0:\n",
    "        print(f'epoch : {epoch}/{nb_epochs} cost : {cost.item()}')"
   ]
  },
  {
   "cell_type": "markdown",
   "metadata": {},
   "source": [
    "---"
   ]
  },
  {
   "cell_type": "markdown",
   "metadata": {},
   "source": [
    "- class"
   ]
  },
  {
   "cell_type": "code",
   "execution_count": 15,
   "metadata": {},
   "outputs": [],
   "source": [
    "class SoftmaxClassificaion(nn.Module):\n",
    "\n",
    "    def __init__(self):\n",
    "        super().__init__()\n",
    "        self.linear = nn.Linear(4,3)\n",
    "\n",
    "    def forward(self,x):\n",
    "        return self.linear(x)"
   ]
  },
  {
   "cell_type": "code",
   "execution_count": 16,
   "metadata": {},
   "outputs": [
    {
     "name": "stdout",
     "output_type": "stream",
     "text": [
      "epoch: 0/1000 cost : 1.366217017173767\n",
      "epoch: 100/1000 cost : 0.7227259874343872\n",
      "epoch: 200/1000 cost : 0.6375643014907837\n",
      "epoch: 300/1000 cost : 0.578575849533081\n",
      "epoch: 400/1000 cost : 0.5273628830909729\n",
      "epoch: 500/1000 cost : 0.4793153703212738\n",
      "epoch: 600/1000 cost : 0.43270036578178406\n",
      "epoch: 700/1000 cost : 0.38669323921203613\n",
      "epoch: 800/1000 cost : 0.34093034267425537\n",
      "epoch: 900/1000 cost : 0.29575634002685547\n",
      "epoch: 1000/1000 cost : 0.2553500235080719\n"
     ]
    }
   ],
   "source": [
    "model = SoftmaxClassificaion()\n",
    "\n",
    "optimizer = optim.SGD(model.parameters(),lr=0.1)\n",
    "\n",
    "nb_epochs = 1000\n",
    "for epoch in range(nb_epochs+1):\n",
    "\n",
    "    z = model(x_train)\n",
    "    cost = F.cross_entropy(z,y_train)\n",
    "\n",
    "    optimizer.zero_grad()\n",
    "    cost.backward()\n",
    "    optimizer.step()\n",
    "\n",
    "    if epoch % 100 == 0:\n",
    "        print(f'epoch: {epoch}/{nb_epochs} cost : {cost.item()}')"
   ]
  },
  {
   "cell_type": "code",
   "execution_count": null,
   "metadata": {},
   "outputs": [],
   "source": []
  }
 ],
 "metadata": {
  "kernelspec": {
   "display_name": "Python 3.7.13 ('torch')",
   "language": "python",
   "name": "python3"
  },
  "language_info": {
   "codemirror_mode": {
    "name": "ipython",
    "version": 3
   },
   "file_extension": ".py",
   "mimetype": "text/x-python",
   "name": "python",
   "nbconvert_exporter": "python",
   "pygments_lexer": "ipython3",
   "version": "3.7.13"
  },
  "orig_nbformat": 4,
  "vscode": {
   "interpreter": {
    "hash": "b866d5dea38e114c83204e7240f408665cd08d33742eb3a897bd8549c7548270"
   }
  }
 },
 "nbformat": 4,
 "nbformat_minor": 2
}
