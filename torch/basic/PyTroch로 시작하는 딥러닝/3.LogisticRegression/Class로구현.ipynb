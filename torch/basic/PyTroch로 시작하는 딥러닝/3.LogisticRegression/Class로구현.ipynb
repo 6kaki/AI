{
 "cells": [
  {
   "cell_type": "code",
   "execution_count": 1,
   "metadata": {},
   "outputs": [
    {
     "data": {
      "text/plain": [
       "<torch._C.Generator at 0x1a379b71bd0>"
      ]
     },
     "execution_count": 1,
     "metadata": {},
     "output_type": "execute_result"
    }
   ],
   "source": [
    "import torch\n",
    "import torch.nn as nn\n",
    "import torch.nn.functional as F\n",
    "import torch.optim as optim\n",
    "\n",
    "torch.manual_seed(1)"
   ]
  },
  {
   "cell_type": "code",
   "execution_count": null,
   "metadata": {},
   "outputs": [],
   "source": [
    "model = nn.Sequential(\n",
    "    nn.Linear(2,1),\n",
    "    nn.Sigmoid()\n",
    ")"
   ]
  },
  {
   "cell_type": "code",
   "execution_count": 2,
   "metadata": {},
   "outputs": [],
   "source": [
    "class BinaryClassifier(nn.Module):\n",
    "    def __init__(self):\n",
    "        super().__init__()\n",
    "        self.linear = nn.Linear(2,1)\n",
    "        self.sigmoid = nn.Sigmoid()\n",
    "    \n",
    "    def forward(self,x):\n",
    "        return self.sigmoid(self.linear(x))"
   ]
  },
  {
   "cell_type": "code",
   "execution_count": 3,
   "metadata": {},
   "outputs": [],
   "source": [
    "x_data = [[1, 2], [2, 3], [3, 1], [4, 3], [5, 3], [6, 2]]\n",
    "y_data = [[0], [0], [0], [1], [1], [1]]\n",
    "x_train = torch.FloatTensor(x_data)\n",
    "y_train = torch.FloatTensor(y_data)"
   ]
  },
  {
   "cell_type": "code",
   "execution_count": 4,
   "metadata": {},
   "outputs": [
    {
     "name": "stdout",
     "output_type": "stream",
     "text": [
      "epoch : 0/1000 cost : 0.5397130846977234 Accuracy : 83.33333333333334\n",
      "epoch : 20/1000 cost : 0.4418751299381256 Accuracy : 66.66666666666666\n",
      "epoch : 40/1000 cost : 0.31635811924934387 Accuracy : 83.33333333333334\n",
      "epoch : 60/1000 cost : 0.22049756348133087 Accuracy : 100.0\n",
      "epoch : 80/1000 cost : 0.15729932487010956 Accuracy : 100.0\n",
      "epoch : 100/1000 cost : 0.1342718005180359 Accuracy : 100.0\n",
      "epoch : 120/1000 cost : 0.11829736083745956 Accuracy : 100.0\n",
      "epoch : 140/1000 cost : 0.10577861219644547 Accuracy : 100.0\n",
      "epoch : 160/1000 cost : 0.09570372104644775 Accuracy : 100.0\n",
      "epoch : 180/1000 cost : 0.08741956949234009 Accuracy : 100.0\n",
      "epoch : 200/1000 cost : 0.08048564940690994 Accuracy : 100.0\n",
      "epoch : 220/1000 cost : 0.07459486275911331 Accuracy : 100.0\n",
      "epoch : 240/1000 cost : 0.06952643394470215 Accuracy : 100.0\n",
      "epoch : 260/1000 cost : 0.06511792540550232 Accuracy : 100.0\n",
      "epoch : 280/1000 cost : 0.061247099190950394 Accuracy : 100.0\n",
      "epoch : 300/1000 cost : 0.057820286601781845 Accuracy : 100.0\n",
      "epoch : 320/1000 cost : 0.05476440116763115 Accuracy : 100.0\n",
      "epoch : 340/1000 cost : 0.052021730691194534 Accuracy : 100.0\n",
      "epoch : 360/1000 cost : 0.04954591393470764 Accuracy : 100.0\n",
      "epoch : 380/1000 cost : 0.04729941114783287 Accuracy : 100.0\n",
      "epoch : 400/1000 cost : 0.04525136575102806 Accuracy : 100.0\n",
      "epoch : 420/1000 cost : 0.04337645694613457 Accuracy : 100.0\n",
      "epoch : 440/1000 cost : 0.04165329411625862 Accuracy : 100.0\n",
      "epoch : 460/1000 cost : 0.04006398841738701 Accuracy : 100.0\n",
      "epoch : 480/1000 cost : 0.038593363016843796 Accuracy : 100.0\n",
      "epoch : 500/1000 cost : 0.03722849860787392 Accuracy : 100.0\n",
      "epoch : 520/1000 cost : 0.03595824912190437 Accuracy : 100.0\n",
      "epoch : 540/1000 cost : 0.03477299585938454 Accuracy : 100.0\n",
      "epoch : 560/1000 cost : 0.033664435148239136 Accuracy : 100.0\n",
      "epoch : 580/1000 cost : 0.03262527659535408 Accuracy : 100.0\n",
      "epoch : 600/1000 cost : 0.0316491536796093 Accuracy : 100.0\n",
      "epoch : 620/1000 cost : 0.03073042631149292 Accuracy : 100.0\n",
      "epoch : 640/1000 cost : 0.029864152893424034 Accuracy : 100.0\n",
      "epoch : 660/1000 cost : 0.029045909643173218 Accuracy : 100.0\n",
      "epoch : 680/1000 cost : 0.028271814808249474 Accuracy : 100.0\n",
      "epoch : 700/1000 cost : 0.027538292109966278 Accuracy : 100.0\n",
      "epoch : 720/1000 cost : 0.026842281222343445 Accuracy : 100.0\n",
      "epoch : 740/1000 cost : 0.026180937886238098 Accuracy : 100.0\n",
      "epoch : 760/1000 cost : 0.025551674887537956 Accuracy : 100.0\n",
      "epoch : 780/1000 cost : 0.02495221048593521 Accuracy : 100.0\n",
      "epoch : 800/1000 cost : 0.02438056655228138 Accuracy : 100.0\n",
      "epoch : 820/1000 cost : 0.023834681138396263 Accuracy : 100.0\n",
      "epoch : 840/1000 cost : 0.023312924429774284 Accuracy : 100.0\n",
      "epoch : 860/1000 cost : 0.02281368523836136 Accuracy : 100.0\n",
      "epoch : 880/1000 cost : 0.022335542365908623 Accuracy : 100.0\n",
      "epoch : 900/1000 cost : 0.02187722735106945 Accuracy : 100.0\n",
      "epoch : 920/1000 cost : 0.021437445655465126 Accuracy : 100.0\n",
      "epoch : 940/1000 cost : 0.02101510763168335 Accuracy : 100.0\n",
      "epoch : 960/1000 cost : 0.020609235391020775 Accuracy : 100.0\n",
      "epoch : 980/1000 cost : 0.02021881751716137 Accuracy : 100.0\n",
      "epoch : 1000/1000 cost : 0.019843051210045815 Accuracy : 100.0\n"
     ]
    }
   ],
   "source": [
    "model = BinaryClassifier()\n",
    "\n",
    "optimizer = optim.SGD(model.parameters(),lr=1)\n",
    "\n",
    "nb_epochs = 1000\n",
    "for epoch in range(nb_epochs+1):\n",
    "    h = model(x_train)\n",
    "    cost = F.binary_cross_entropy(h,y_train)\n",
    "\n",
    "    optimizer.zero_grad()\n",
    "    cost.backward()\n",
    "    optimizer.step()\n",
    "\n",
    "    if epoch % 20 == 0:\n",
    "        prediction = h >= torch.FloatTensor([0.5])\n",
    "\n",
    "        correct = prediction.float() == y_train\n",
    "\n",
    "        accuracy = correct.sum().item() / len(correct)\n",
    "\n",
    "        print(f'epoch : {epoch}/{nb_epochs} cost : {cost.item()} Accuracy : {accuracy*100}')"
   ]
  },
  {
   "cell_type": "code",
   "execution_count": null,
   "metadata": {},
   "outputs": [],
   "source": []
  }
 ],
 "metadata": {
  "kernelspec": {
   "display_name": "Python 3.7.13 ('torch')",
   "language": "python",
   "name": "python3"
  },
  "language_info": {
   "codemirror_mode": {
    "name": "ipython",
    "version": 3
   },
   "file_extension": ".py",
   "mimetype": "text/x-python",
   "name": "python",
   "nbconvert_exporter": "python",
   "pygments_lexer": "ipython3",
   "version": "3.7.13"
  },
  "orig_nbformat": 4,
  "vscode": {
   "interpreter": {
    "hash": "b866d5dea38e114c83204e7240f408665cd08d33742eb3a897bd8549c7548270"
   }
  }
 },
 "nbformat": 4,
 "nbformat_minor": 2
}
