{
 "cells": [
  {
   "cell_type": "code",
   "execution_count": 1,
   "metadata": {},
   "outputs": [
    {
     "data": {
      "text/plain": [
       "<torch._C.Generator at 0x222adbb2bd0>"
      ]
     },
     "execution_count": 1,
     "metadata": {},
     "output_type": "execute_result"
    }
   ],
   "source": [
    "import torch\n",
    "import torch.nn as nn\n",
    "import torch.nn.functional as F\n",
    "import torch.optim as optim\n",
    "\n",
    "torch.manual_seed(1)"
   ]
  },
  {
   "cell_type": "code",
   "execution_count": 2,
   "metadata": {},
   "outputs": [
    {
     "name": "stdout",
     "output_type": "stream",
     "text": [
      "torch.Size([6, 2])\n",
      "torch.Size([6, 1])\n"
     ]
    }
   ],
   "source": [
    "x_data = [[1, 2], [2, 3], [3, 1], [4, 3], [5, 3], [6, 2]]\n",
    "y_data = [[0], [0], [0], [1], [1], [1]]\n",
    "x_train = torch.FloatTensor(x_data)\n",
    "y_train = torch.FloatTensor(y_data)\n",
    "\n",
    "print(x_train.shape)\n",
    "print(y_train.shape)"
   ]
  },
  {
   "cell_type": "markdown",
   "metadata": {},
   "source": [
    "#### nn.Sequential()은 nn.Module 층을 차례로 쌓을 수 있도록해준다."
   ]
  },
  {
   "cell_type": "code",
   "execution_count": 3,
   "metadata": {},
   "outputs": [],
   "source": [
    "model = nn.Sequential(\n",
    "    nn.Linear(2,1),\n",
    "    nn.Sigmoid()\n",
    ")"
   ]
  },
  {
   "cell_type": "code",
   "execution_count": 4,
   "metadata": {},
   "outputs": [
    {
     "name": "stdout",
     "output_type": "stream",
     "text": [
      "epoch : 0/1000 cost : 0.5397130846977234 \n",
      " accuracy : 83.33333333333334\n",
      "epoch : 20/1000 cost : 0.4418751299381256 \n",
      " accuracy : 66.66666666666666\n",
      "epoch : 40/1000 cost : 0.31635811924934387 \n",
      " accuracy : 83.33333333333334\n",
      "epoch : 60/1000 cost : 0.22049756348133087 \n",
      " accuracy : 100.0\n",
      "epoch : 80/1000 cost : 0.15729932487010956 \n",
      " accuracy : 100.0\n",
      "epoch : 100/1000 cost : 0.1342718005180359 \n",
      " accuracy : 100.0\n",
      "epoch : 120/1000 cost : 0.11829736083745956 \n",
      " accuracy : 100.0\n",
      "epoch : 140/1000 cost : 0.10577861219644547 \n",
      " accuracy : 100.0\n",
      "epoch : 160/1000 cost : 0.09570372104644775 \n",
      " accuracy : 100.0\n",
      "epoch : 180/1000 cost : 0.08741956949234009 \n",
      " accuracy : 100.0\n",
      "epoch : 200/1000 cost : 0.08048564940690994 \n",
      " accuracy : 100.0\n",
      "epoch : 220/1000 cost : 0.07459486275911331 \n",
      " accuracy : 100.0\n",
      "epoch : 240/1000 cost : 0.06952643394470215 \n",
      " accuracy : 100.0\n",
      "epoch : 260/1000 cost : 0.06511792540550232 \n",
      " accuracy : 100.0\n",
      "epoch : 280/1000 cost : 0.061247099190950394 \n",
      " accuracy : 100.0\n",
      "epoch : 300/1000 cost : 0.057820286601781845 \n",
      " accuracy : 100.0\n",
      "epoch : 320/1000 cost : 0.05476440116763115 \n",
      " accuracy : 100.0\n",
      "epoch : 340/1000 cost : 0.052021730691194534 \n",
      " accuracy : 100.0\n",
      "epoch : 360/1000 cost : 0.04954591393470764 \n",
      " accuracy : 100.0\n",
      "epoch : 380/1000 cost : 0.04729941114783287 \n",
      " accuracy : 100.0\n",
      "epoch : 400/1000 cost : 0.04525136575102806 \n",
      " accuracy : 100.0\n",
      "epoch : 420/1000 cost : 0.04337645694613457 \n",
      " accuracy : 100.0\n",
      "epoch : 440/1000 cost : 0.04165329411625862 \n",
      " accuracy : 100.0\n",
      "epoch : 460/1000 cost : 0.04006398841738701 \n",
      " accuracy : 100.0\n",
      "epoch : 480/1000 cost : 0.038593363016843796 \n",
      " accuracy : 100.0\n",
      "epoch : 500/1000 cost : 0.03722849860787392 \n",
      " accuracy : 100.0\n",
      "epoch : 520/1000 cost : 0.03595824912190437 \n",
      " accuracy : 100.0\n",
      "epoch : 540/1000 cost : 0.03477299585938454 \n",
      " accuracy : 100.0\n",
      "epoch : 560/1000 cost : 0.033664435148239136 \n",
      " accuracy : 100.0\n",
      "epoch : 580/1000 cost : 0.03262527659535408 \n",
      " accuracy : 100.0\n",
      "epoch : 600/1000 cost : 0.0316491536796093 \n",
      " accuracy : 100.0\n",
      "epoch : 620/1000 cost : 0.03073042631149292 \n",
      " accuracy : 100.0\n",
      "epoch : 640/1000 cost : 0.029864152893424034 \n",
      " accuracy : 100.0\n",
      "epoch : 660/1000 cost : 0.029045909643173218 \n",
      " accuracy : 100.0\n",
      "epoch : 680/1000 cost : 0.028271814808249474 \n",
      " accuracy : 100.0\n",
      "epoch : 700/1000 cost : 0.027538292109966278 \n",
      " accuracy : 100.0\n",
      "epoch : 720/1000 cost : 0.026842281222343445 \n",
      " accuracy : 100.0\n",
      "epoch : 740/1000 cost : 0.026180937886238098 \n",
      " accuracy : 100.0\n",
      "epoch : 760/1000 cost : 0.025551674887537956 \n",
      " accuracy : 100.0\n",
      "epoch : 780/1000 cost : 0.02495221048593521 \n",
      " accuracy : 100.0\n",
      "epoch : 800/1000 cost : 0.02438056655228138 \n",
      " accuracy : 100.0\n",
      "epoch : 820/1000 cost : 0.023834681138396263 \n",
      " accuracy : 100.0\n",
      "epoch : 840/1000 cost : 0.023312924429774284 \n",
      " accuracy : 100.0\n",
      "epoch : 860/1000 cost : 0.02281368523836136 \n",
      " accuracy : 100.0\n",
      "epoch : 880/1000 cost : 0.022335542365908623 \n",
      " accuracy : 100.0\n",
      "epoch : 900/1000 cost : 0.02187722735106945 \n",
      " accuracy : 100.0\n",
      "epoch : 920/1000 cost : 0.021437445655465126 \n",
      " accuracy : 100.0\n",
      "epoch : 940/1000 cost : 0.02101510763168335 \n",
      " accuracy : 100.0\n",
      "epoch : 960/1000 cost : 0.020609235391020775 \n",
      " accuracy : 100.0\n",
      "epoch : 980/1000 cost : 0.02021881751716137 \n",
      " accuracy : 100.0\n",
      "epoch : 1000/1000 cost : 0.019843051210045815 \n",
      " accuracy : 100.0\n"
     ]
    }
   ],
   "source": [
    "optimizer = optim.SGD(model.parameters(),lr=1)\n",
    "\n",
    "nb_epochs = 1000\n",
    "for epoch in range(nb_epochs+1):\n",
    "\n",
    "    h = model(x_train)\n",
    "\n",
    "    cost = F.binary_cross_entropy(h,y_train)\n",
    "\n",
    "    optimizer.zero_grad()\n",
    "    cost.backward()\n",
    "    optimizer.step()\n",
    "\n",
    "    if epoch % 20 == 0:\n",
    "        prediction = h >= torch.FloatTensor([0.5]) #예측값이 0.5를 넘으면 True로\n",
    "\n",
    "        correct_prediction = prediction.float() == y_train #y_train과 일치하는 경우만 True\n",
    "\n",
    "        accuracy = correct_prediction.sum().item() / len(correct_prediction)\n",
    "\n",
    "        print(f'epoch : {epoch}/{nb_epochs} cost : {cost.item()} \\n accuracy : {accuracy * 100}')\n"
   ]
  },
  {
   "cell_type": "code",
   "execution_count": 7,
   "metadata": {},
   "outputs": [
    {
     "data": {
      "text/plain": [
       "2.0"
      ]
     },
     "execution_count": 7,
     "metadata": {},
     "output_type": "execute_result"
    }
   ],
   "source": [
    "a = torch.FloatTensor([True,False,True])\n",
    "a.sum().item()"
   ]
  },
  {
   "cell_type": "code",
   "execution_count": null,
   "metadata": {},
   "outputs": [],
   "source": []
  }
 ],
 "metadata": {
  "kernelspec": {
   "display_name": "Python 3.7.13 ('torch')",
   "language": "python",
   "name": "python3"
  },
  "language_info": {
   "codemirror_mode": {
    "name": "ipython",
    "version": 3
   },
   "file_extension": ".py",
   "mimetype": "text/x-python",
   "name": "python",
   "nbconvert_exporter": "python",
   "pygments_lexer": "ipython3",
   "version": "3.7.13"
  },
  "orig_nbformat": 4,
  "vscode": {
   "interpreter": {
    "hash": "b866d5dea38e114c83204e7240f408665cd08d33742eb3a897bd8549c7548270"
   }
  }
 },
 "nbformat": 4,
 "nbformat_minor": 2
}
