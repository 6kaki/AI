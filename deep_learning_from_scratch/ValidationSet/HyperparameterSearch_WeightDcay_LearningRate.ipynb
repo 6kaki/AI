{
 "cells": [
  {
   "cell_type": "code",
   "execution_count": null,
   "id": "0e141569-b148-4688-af76-d29dabbcc514",
   "metadata": {},
   "outputs": [],
   "source": [
    "weight_decay = 10 ** np.random.uniform(-8,-4)\n",
    "lr = 10 ** np.random.uniform(-6,-2)"
   ]
  }
 ],
 "metadata": {
  "kernelspec": {
   "display_name": "Six",
   "language": "python",
   "name": "six"
  },
  "language_info": {
   "codemirror_mode": {
    "name": "ipython",
    "version": 3
   },
   "file_extension": ".py",
   "mimetype": "text/x-python",
   "name": "python",
   "nbconvert_exporter": "python",
   "pygments_lexer": "ipython3",
   "version": "3.8.13"
  }
 },
 "nbformat": 4,
 "nbformat_minor": 5
}
