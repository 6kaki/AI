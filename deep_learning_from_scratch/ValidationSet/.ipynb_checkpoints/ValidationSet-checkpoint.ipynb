{
 "cells": [
  {
   "cell_type": "code",
   "execution_count": 1,
   "id": "9052cbca-735b-4d47-ba00-77bd3bcc322b",
   "metadata": {},
   "outputs": [],
   "source": [
    "def shuffle_dataset(x,t):\n",
    "    permutation = np.random.permutation(x.shape[0])\n",
    "    x = x[permutation,:] if x.ndim == 2 else x[permutation,:,:,:]\n",
    "    t = t[permutation]\n",
    "    return x,t"
   ]
  },
  {
   "cell_type": "code",
   "execution_count": 2,
   "id": "73c9e61a-6261-4f34-80c2-df4bfddcf2dd",
   "metadata": {},
   "outputs": [
    {
     "ename": "NameError",
     "evalue": "name 'load_mnist' is not defined",
     "output_type": "error",
     "traceback": [
      "\u001b[0;31m---------------------------------------------------------------------------\u001b[0m",
      "\u001b[0;31mNameError\u001b[0m                                 Traceback (most recent call last)",
      "Input \u001b[0;32mIn [2]\u001b[0m, in \u001b[0;36m<cell line: 1>\u001b[0;34m()\u001b[0m\n\u001b[0;32m----> 1\u001b[0m (x_trin, t_train),(x_test, t_test) \u001b[38;5;241m=\u001b[39m \u001b[43mload_mnist\u001b[49m()\n\u001b[1;32m      3\u001b[0m x_train, t_train \u001b[38;5;241m=\u001b[39m shuffle_dataset(x_train,t_train)\n\u001b[1;32m      4\u001b[0m \u001b[38;5;66;03m#  훈련 데이터 섞기\u001b[39;00m\n\u001b[1;32m      5\u001b[0m \n\u001b[1;32m      6\u001b[0m \u001b[38;5;66;03m# 20%를 validation set으로 분할\u001b[39;00m\n",
      "\u001b[0;31mNameError\u001b[0m: name 'load_mnist' is not defined"
     ]
    }
   ],
   "source": [
    "(x_trin, t_train),(x_test, t_test) = load_mnist()\n",
    "\n",
    "x_train, t_train = shuffle_dataset(x_train,t_train)\n",
    "#  훈련 데이터 섞기\n",
    "\n",
    "# 20%를 validation set으로 분할\n",
    "validation_rate = 0.20\n",
    "validation_num = int(x_train.shape[0] * validation_rate)\n",
    "\n",
    "x_val = x_train[:validation_num]\n",
    "t_val = t_train[:validation_num]\n",
    "x_train = x_train[validation_num:]\n",
    "t_train = t_train[validation_num:]"
   ]
  },
  {
   "cell_type": "code",
   "execution_count": null,
   "id": "002d6f41-0ccf-4e93-ac28-3e1746986836",
   "metadata": {},
   "outputs": [],
   "source": []
  }
 ],
 "metadata": {
  "kernelspec": {
   "display_name": "Six",
   "language": "python",
   "name": "six"
  },
  "language_info": {
   "codemirror_mode": {
    "name": "ipython",
    "version": 3
   },
   "file_extension": ".py",
   "mimetype": "text/x-python",
   "name": "python",
   "nbconvert_exporter": "python",
   "pygments_lexer": "ipython3",
   "version": "3.8.13"
  }
 },
 "nbformat": 4,
 "nbformat_minor": 5
}
