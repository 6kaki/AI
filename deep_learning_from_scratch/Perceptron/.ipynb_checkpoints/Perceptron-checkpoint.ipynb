{
 "cells": [
  {
   "cell_type": "markdown",
   "id": "5055c565-6ddf-4826-b933-ec504911c580",
   "metadata": {},
   "source": [
    "## 퍼셉트론\n",
    "* 딥러닝의 기원이 되는 알고리즘\n",
    "* 다수의 신호를 입력받아 -> 하나의 신호(흐름)를 출력\n",
    "    * 1: 흐른다.\n",
    "    * 0: 안흐른다.\n",
    "* 2개의 신호를 받은 perceptron\n",
    "* inputdl node로 갈 때는 weight가 곱해진다.\n",
    "    * w1x1, w2x2\n",
    "* node에서 보내온 신호의 총합이 정해진 한계(임계값 theta)를 넘을 때만 1을 출력 -> active\n",
    "\n",
    "* y = (w1x2 * w2x2) > theta = 1\n",
    "*     (w1x2 * w2x2) <= theta = 0\n",
    "* weight가 클수록 해당 input이 중요하다는 뜻"
   ]
  },
  {
   "cell_type": "markdown",
   "id": "c939e6e6-ab02-4f94-bdb7-32a5c1988714",
   "metadata": {},
   "source": [
    "## 학습\n",
    "* 적절한 매개변수 값을 정하는 작업"
   ]
  },
  {
   "cell_type": "code",
   "execution_count": 1,
   "id": "e2f68840-e8ae-4c33-b658-5b934a6895cd",
   "metadata": {},
   "outputs": [],
   "source": [
    "import numpy as np"
   ]
  },
  {
   "cell_type": "markdown",
   "id": "77fbc439-3151-4a66-ae76-f347841aa7da",
   "metadata": {},
   "source": [
    "### AND"
   ]
  },
  {
   "cell_type": "code",
   "execution_count": 2,
   "id": "0ea552bd-ef4d-4aec-b86f-9a3b9153e731",
   "metadata": {},
   "outputs": [],
   "source": [
    "def AND(x1,x2):\n",
    "    x = np.array([x1,x2])\n",
    "    w = np.array([3,4])\n",
    "    b = -6\n",
    "    tmp = np.sum(x*w) + b\n",
    "    \n",
    "    if tmp > 0:\n",
    "        return 1\n",
    "    else:\n",
    "        return 0"
   ]
  },
  {
   "cell_type": "code",
   "execution_count": 5,
   "id": "9128816c-3c17-4efd-bb58-844c4b541467",
   "metadata": {},
   "outputs": [
    {
     "name": "stdout",
     "output_type": "stream",
     "text": [
      "0\n",
      "0\n",
      "0\n",
      "1\n"
     ]
    }
   ],
   "source": [
    "print(AND(0,0))\n",
    "print(AND(0,1))\n",
    "print(AND(1,0))\n",
    "print(AND(1,1))"
   ]
  },
  {
   "cell_type": "markdown",
   "id": "378cd68a-ec52-4605-8598-196ad12b2aa8",
   "metadata": {},
   "source": [
    "### OR"
   ]
  },
  {
   "cell_type": "code",
   "execution_count": 3,
   "id": "8c9b98ae-6141-441e-8182-bc59159f936f",
   "metadata": {},
   "outputs": [],
   "source": [
    "def OR(x1,x2):\n",
    "    x = np.array([x1,x2])\n",
    "    w = np.array([5,5])\n",
    "    b = -3\n",
    "    tmp = np.sum(x*w) + b\n",
    "    \n",
    "    if tmp > 0:\n",
    "        return 1\n",
    "    else:\n",
    "        return 0"
   ]
  },
  {
   "cell_type": "code",
   "execution_count": 6,
   "id": "f9e8b997-15a7-44e0-a7cd-736117ed8ad4",
   "metadata": {},
   "outputs": [
    {
     "name": "stdout",
     "output_type": "stream",
     "text": [
      "0\n",
      "1\n",
      "1\n",
      "1\n"
     ]
    }
   ],
   "source": [
    "print(OR(0,0))\n",
    "print(OR(0,1))\n",
    "print(OR(1,0))\n",
    "print(OR(1,1))"
   ]
  },
  {
   "cell_type": "markdown",
   "id": "66a527c7-fa99-4469-b4d2-e25cd6f7b7ba",
   "metadata": {},
   "source": [
    "### NAND"
   ]
  },
  {
   "cell_type": "code",
   "execution_count": 14,
   "id": "e7164f00-3992-4ebf-9d2e-ca2b45dcc309",
   "metadata": {},
   "outputs": [],
   "source": [
    "def NAND(x1,x2):\n",
    "    x = np.array([x1,x2])\n",
    "    w = np.array([-3,-4])\n",
    "    b = 6\n",
    "    tmp = np.sum(w*x) + b\n",
    "    \n",
    "    if tmp > 0:\n",
    "        return 1\n",
    "    else:\n",
    "        return 0"
   ]
  },
  {
   "cell_type": "code",
   "execution_count": 15,
   "id": "f5fc22e5-e98a-4d8c-b187-5532c7eef125",
   "metadata": {},
   "outputs": [
    {
     "name": "stdout",
     "output_type": "stream",
     "text": [
      "1\n",
      "1\n",
      "1\n",
      "0\n"
     ]
    }
   ],
   "source": [
    "print(NAND(0,0))\n",
    "print(NAND(0,1))\n",
    "print(NAND(1,0))\n",
    "print(NAND(1,1))"
   ]
  },
  {
   "cell_type": "markdown",
   "id": "216b464c-1fa5-41b6-80fe-373c5977523e",
   "metadata": {},
   "source": [
    "### bias\n",
    "* 뉴런(node)이 얼마나 쉽게 활성화되는지 조정"
   ]
  },
  {
   "cell_type": "markdown",
   "id": "ec3d4baf-353d-4792-985d-d464ea7b4b31",
   "metadata": {},
   "source": [
    "## Perceptron의 한계\n",
    "* XOR을 표현하지 못한다.\n",
    "* 0 0  1\n",
    "* 0 1  0\n",
    "* 1 0  0\n",
    "* 1 1   1"
   ]
  },
  {
   "cell_type": "markdown",
   "id": "d636c5cb-211c-4ace-88f3-f7e5c4458041",
   "metadata": {},
   "source": [
    "## linear와 non-linear\n",
    "* 직선이 아니라면 XOR를 표현할 수 있다.\n",
    "* Perceptron은 직선\n",
    "* -> multi-layer perceptron"
   ]
  },
  {
   "cell_type": "markdown",
   "id": "044ba77f-a616-47f1-af36-e5cb7cf1dbc2",
   "metadata": {},
   "source": [
    "### XOR는 NAND와 OR, AND로 생성할 수 있다."
   ]
  },
  {
   "cell_type": "code",
   "execution_count": 16,
   "id": "7a7efbe3-394b-48b6-9169-551f7cf0a573",
   "metadata": {},
   "outputs": [],
   "source": [
    "def XOR(x1,x2):\n",
    "    a = NAND(x1,x2)\n",
    "    b = OR(x1,x2)\n",
    "    y = AND(a,b)\n",
    "    \n",
    "    return y"
   ]
  },
  {
   "cell_type": "code",
   "execution_count": 17,
   "id": "205ce291-0271-4bd6-b7f3-03767b21e917",
   "metadata": {},
   "outputs": [
    {
     "name": "stdout",
     "output_type": "stream",
     "text": [
      "0\n",
      "1\n",
      "1\n",
      "0\n"
     ]
    }
   ],
   "source": [
    "print(XOR(0,0))\n",
    "print(XOR(0,1))\n",
    "print(XOR(1,0))\n",
    "print(XOR(1,1))"
   ]
  },
  {
   "cell_type": "markdown",
   "id": "da5c805a-4281-4645-8613-70287c37447d",
   "metadata": {},
   "source": [
    "## 2층 perceptron"
   ]
  },
  {
   "cell_type": "code",
   "execution_count": null,
   "id": "7b3423bd-cd75-41c0-8c99-7343dd8b43d8",
   "metadata": {},
   "outputs": [],
   "source": []
  }
 ],
 "metadata": {
  "kernelspec": {
   "display_name": "Python 3",
   "language": "python",
   "name": "python3"
  },
  "language_info": {
   "codemirror_mode": {
    "name": "ipython",
    "version": 3
   },
   "file_extension": ".py",
   "mimetype": "text/x-python",
   "name": "python",
   "nbconvert_exporter": "python",
   "pygments_lexer": "ipython3",
   "version": "3.8.8"
  }
 },
 "nbformat": 4,
 "nbformat_minor": 5
}
