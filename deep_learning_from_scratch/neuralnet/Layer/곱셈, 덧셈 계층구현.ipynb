{
 "cells": [
  {
   "cell_type": "markdown",
   "id": "ada60041-28ef-476f-b815-70fb99695efe",
   "metadata": {},
   "source": [
    "## 곱셈계층"
   ]
  },
  {
   "cell_type": "code",
   "execution_count": 1,
   "id": "85ffa6ad-e61d-4e23-8c20-a776e721e241",
   "metadata": {},
   "outputs": [],
   "source": [
    "class MulLayer:\n",
    "    def __init__(self):\n",
    "        self.x = None\n",
    "        self.y = None\n",
    "        \n",
    "    def forward(self,x,y):\n",
    "        self.x = x\n",
    "        self.y = y\n",
    "        out = x * y\n",
    "        return out\n",
    "    \n",
    "    def backward(self,dout):\n",
    "        dx = dout * self.y\n",
    "        dy = dout * self.x\n",
    "        return dx, dy\n",
    "    "
   ]
  },
  {
   "cell_type": "markdown",
   "id": "c6699994-5235-40b2-a786-c3648051de2c",
   "metadata": {},
   "source": [
    "## 덧셈 계층"
   ]
  },
  {
   "cell_type": "code",
   "execution_count": 2,
   "id": "257ab27e-e4c4-4842-9035-2d2a12a2d224",
   "metadata": {},
   "outputs": [],
   "source": [
    "class AddLayer:\n",
    "    def __init__(self):\n",
    "        pass\n",
    "    \n",
    "    def forward(self,x,y):\n",
    "        out = x + y\n",
    "        return out\n",
    "    \n",
    "    def backward(self,dout):\n",
    "        dx = dout * 1\n",
    "        dy = dout * 1\n",
    "        return dx, dy\n",
    "    "
   ]
  },
  {
   "cell_type": "markdown",
   "id": "1922d0b3-fc4c-4d4e-95e2-b37da8f86e5b",
   "metadata": {},
   "source": [
    "## 사과 오랜지 계산 그래프 구현\n"
   ]
  },
  {
   "cell_type": "code",
   "execution_count": 4,
   "id": "c84e64d0-5389-4408-8a8f-0bc9c865547f",
   "metadata": {},
   "outputs": [
    {
     "name": "stdout",
     "output_type": "stream",
     "text": [
      "715.0000000000001\n",
      "2.2 110.00000000000001\n",
      "3.3000000000000003 165.0\n",
      "650\n"
     ]
    }
   ],
   "source": [
    "apple = 100\n",
    "apple_num = 2\n",
    "orange = 150\n",
    "orange_num = 3\n",
    "tax = 1.1\n",
    "\n",
    "#계층 생성\n",
    "mul_apple_num = MulLayer()\n",
    "mul_orange_num = MulLayer()\n",
    "add_apple_orange = AddLayer()\n",
    "mul_tax = MulLayer()\n",
    "\n",
    "#forward\n",
    "apple_price = mul_apple_num.forward(apple,apple_num)\n",
    "orange_price = mul_orange_num.forward(orange, orange_num)\n",
    "all_price = add_apple_orange.forward(apple_price, orange_price)\n",
    "price = mul_tax.forward(all_price,tax)\n",
    "\n",
    "#backward\n",
    "dprice=1\n",
    "dall_price, dtax = mul_tax.backward(dprice)\n",
    "dapple_price,dorange_price = add_apple_orange.backward(dall_price)\n",
    "\n",
    "dapple, dapple_num = mul_apple_num.backward(dapple_price)\n",
    "dorange, dorange_num = mul_orange_num.backward(dorange_price)\n",
    "\n",
    "print(price)\n",
    "print(dapple, dapple_num)\n",
    "print(dorange, dorange_num)\n",
    "print(dtax)"
   ]
  },
  {
   "cell_type": "code",
   "execution_count": null,
   "id": "427dde55-a756-4ab7-ad38-4116f56d4561",
   "metadata": {},
   "outputs": [],
   "source": []
  }
 ],
 "metadata": {
  "kernelspec": {
   "display_name": "Six",
   "language": "python",
   "name": "six"
  },
  "language_info": {
   "codemirror_mode": {
    "name": "ipython",
    "version": 3
   },
   "file_extension": ".py",
   "mimetype": "text/x-python",
   "name": "python",
   "nbconvert_exporter": "python",
   "pygments_lexer": "ipython3",
   "version": "3.8.13"
  }
 },
 "nbformat": 4,
 "nbformat_minor": 5
}
