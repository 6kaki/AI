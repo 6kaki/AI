{
 "cells": [
  {
   "cell_type": "markdown",
   "id": "41b0a802-899c-4358-9a90-3af221ddbc12",
   "metadata": {},
   "source": [
    "## 수치미분\n",
    "* 경사법에서는 기울기(경사)값을 기준으로 나아갈 방향을 정한다."
   ]
  },
  {
   "cell_type": "markdown",
   "id": "4c885761-414d-44a5-86b8-dc382a76d518",
   "metadata": {},
   "source": [
    "## 미분\n",
    "* 10분에 2km를 달린다면 2km/10 = 0.2km/분 -> 1분에 0.2km만큼의 속도 -> 변화를 갖는다.\n",
    "* 즉, 달린거리가 시간에 대해서 얼마나 변화했는가? 0.2km\n",
    "* 특정 순간의 변화량\n",
    "    * 10분을 가능한 줄여(1분, 1초, 0.1초 .... )\n",
    "    * 한순간의 변화량(어느 순간의 속도)를 얻을 수 있다.\n",
    "    * $\\frac {\\partial f(x)} {\\partial x} = \\lim_{h->0} \\frac {f(x+h) - f(x)} {h}$\n",
    "    * x에대한  f(x)의 변화량\n",
    "        * x의 작은 변화가 f(x)를 얼마나 변화시키는지 의미"
   ]
  },
  {
   "cell_type": "code",
   "execution_count": 2,
   "id": "5ee70480-82b7-4832-8434-242520e9c3f6",
   "metadata": {},
   "outputs": [],
   "source": [
    "def diff(f,x):\n",
    "    h=1e-50\n",
    "    return (f(x+h) - f(x)) / h\n",
    "##그러나 진정한 미분과는 차이가 있다."
   ]
  },
  {
   "cell_type": "markdown",
   "id": "0c8fd47d-b8fa-4742-8d6a-4a125fc5034f",
   "metadata": {},
   "source": [
    "## 편미분\n",
    "* 여러변수 중 목표변수에 초점을 맞추고 다른 변수값은 고정\n",
    "* $f(x_0,x_1) = x_0^2 + x_1^2$\n",
    "* 변수가 2개 -> 각각 미분\n",
    "    * $\\frac {\\partial f(x)}{\\partial x_0} = 2x_0$\n",
    "    * $\\frac {\\partial f(x)}{\\partial x_1} = 2x_1$"
   ]
  },
  {
   "cell_type": "code",
   "execution_count": 3,
   "id": "fd502ede-60ed-452f-b73e-11fd81d2248c",
   "metadata": {},
   "outputs": [],
   "source": [
    "def function_2(x):\n",
    "    return x[0]**2 + x[1]**2 # == np.sum(x**2)"
   ]
  },
  {
   "cell_type": "markdown",
   "id": "b5f095f0-c317-408f-8b30-e016514bcc14",
   "metadata": {},
   "source": [
    "## $x_0와 x_1$의 편미분을 동시에 계산하려면?\n",
    "* $(\\frac {\\partial f(x)}{\\partial x_0},\\frac {\\partial f(x)}{\\partial x_1})$\n",
    "    * vector로 정리 -> Gradient"
   ]
  },
  {
   "cell_type": "code",
   "execution_count": 17,
   "id": "fce998c6-53ef-4df0-84b8-1b54eb141c4d",
   "metadata": {},
   "outputs": [],
   "source": [
    "def Gradient(f,x):\n",
    "    h=1e-4\n",
    "    grad = np.zeros_like(x)\n",
    "    \n",
    "    for idx in range(x.size):\n",
    "        tmp_val = x[idx]\n",
    "        x[idx] = tmp_val + h\n",
    "        fxh1 = f(x) # f(x+h) 계산\n",
    "        \n",
    "        x[idx] = tmp_val - h\n",
    "        fxh2 = f(x) # f(x-h) 계산\n",
    "        \n",
    "        grad[idx] = (fxh1 - fxh2) / (2*h)\n",
    "        x[idx] = tmp_val # 원상복구\n",
    "    return grad"
   ]
  },
  {
   "cell_type": "markdown",
   "id": "949feea4-12ff-4682-8036-93d2cb324345",
   "metadata": {},
   "source": [
    "### numpy 배열이라 각 원소에  대해서 게산하기 때문에 크게 달라지지 않는다."
   ]
  },
  {
   "cell_type": "markdown",
   "id": "220a2e49-c8aa-4fe1-bd3c-c87b505e9e31",
   "metadata": {},
   "source": [
    "### 기울기는 각 지점에서 낮아지는 방향을 가리킨다.\n",
    "* 기울기가 가리키는 방향은 각 장소에서 함수의 출력값을 가장 크게 줄이는 방향이다."
   ]
  },
  {
   "cell_type": "code",
   "execution_count": 18,
   "id": "bee65439-8b6b-4b87-b13a-dbb18541c90b",
   "metadata": {},
   "outputs": [
    {
     "data": {
      "text/plain": [
       "array([-6.,  8.])"
      ]
     },
     "execution_count": 18,
     "metadata": {},
     "output_type": "execute_result"
    }
   ],
   "source": [
    "import numpy as np\n",
    "\n",
    "x = np.array([-3.0,4.0])\n",
    "\n",
    "Gradient(function_2,x)"
   ]
  },
  {
   "cell_type": "code",
   "execution_count": null,
   "id": "4361d558-80cf-43b9-8fde-6b846f1d4c66",
   "metadata": {},
   "outputs": [],
   "source": []
  }
 ],
 "metadata": {
  "kernelspec": {
   "display_name": "Six",
   "language": "python",
   "name": "six"
  },
  "language_info": {
   "codemirror_mode": {
    "name": "ipython",
    "version": 3
   },
   "file_extension": ".py",
   "mimetype": "text/x-python",
   "name": "python",
   "nbconvert_exporter": "python",
   "pygments_lexer": "ipython3",
   "version": "3.8.13"
  }
 },
 "nbformat": 4,
 "nbformat_minor": 5
}
