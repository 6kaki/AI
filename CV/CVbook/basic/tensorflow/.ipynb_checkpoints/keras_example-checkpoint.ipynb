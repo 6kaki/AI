{
 "cells": [
  {
   "cell_type": "code",
   "execution_count": 41,
   "id": "f94c3bc6-be66-44fd-aacf-bab918947a9f",
   "metadata": {},
   "outputs": [],
   "source": [
    "import tensorflow as tf\n",
    "num_classes = 10\n",
    "img_rows , img_cols = 28,28\n",
    "num_channels = 1\n",
    "input_shape = (img_rows, img_cols, num_channels)\n",
    "\n",
    "(X_train,y_train),(X_test,y_test) = tf.keras.datasets.mnist.load_data()\n",
    "X_train, x_test =  X_train/255.0,  X_test/255.0"
   ]
  },
  {
   "cell_type": "code",
   "execution_count": 53,
   "id": "c9e245cc-80db-4a27-a7a0-4d038935dad0",
   "metadata": {},
   "outputs": [],
   "source": [
    "model = tf.keras.models.Sequential()\n",
    "model.add(tf.keras.layers.Flatten())\n",
    "model.add(tf.keras.layers.Dense(128,activation='relu'))\n",
    "model.add(tf.keras.layers.Dense(num_classes,activation='softmax'))"
   ]
  },
  {
   "cell_type": "code",
   "execution_count": 54,
   "id": "d8f818af-2f3a-44a1-89d7-dd2717392077",
   "metadata": {},
   "outputs": [],
   "source": [
    "model.compile(optimizer='sgd',loss='sparse_categorical_crossentropy',metrics=['accuracy'])"
   ]
  },
  {
   "cell_type": "code",
   "execution_count": 44,
   "id": "a828e789-10f1-4ea0-82ef-e0a9e89f2315",
   "metadata": {},
   "outputs": [
    {
     "name": "stdout",
     "output_type": "stream",
     "text": [
      "Epoch 1/5\n",
      "1875/1875 [==============================] - 3s 1ms/step - loss: 0.6325 - accuracy: 0.8424 - val_loss: 35.7867 - val_accuracy: 0.9052\n",
      "Epoch 2/5\n",
      "1875/1875 [==============================] - 2s 1ms/step - loss: 0.3353 - accuracy: 0.9071 - val_loss: 35.5186 - val_accuracy: 0.9185\n",
      "Epoch 3/5\n",
      "1875/1875 [==============================] - 2s 1ms/step - loss: 0.2877 - accuracy: 0.9192 - val_loss: 34.5303 - val_accuracy: 0.9223\n",
      "Epoch 4/5\n",
      "1875/1875 [==============================] - 2s 1ms/step - loss: 0.2576 - accuracy: 0.9274 - val_loss: 31.1444 - val_accuracy: 0.9298\n",
      "Epoch 5/5\n",
      "1875/1875 [==============================] - 2s 1ms/step - loss: 0.2341 - accuracy: 0.9339 - val_loss: 29.2213 - val_accuracy: 0.9344\n"
     ]
    },
    {
     "data": {
      "text/plain": [
       "<keras.callbacks.History at 0x7f9193f5f990>"
      ]
     },
     "execution_count": 44,
     "metadata": {},
     "output_type": "execute_result"
    }
   ],
   "source": [
    "model.fit(X_train,y_train,epochs=5,verbose=1,validation_data=(X_test,y_test))"
   ]
  },
  {
   "cell_type": "code",
   "execution_count": 45,
   "id": "5bc85e99-617b-4a64-b7ae-aac13f5cc2cb",
   "metadata": {},
   "outputs": [
    {
     "name": "stdout",
     "output_type": "stream",
     "text": [
      "Model: \"sequential_1\"\n",
      "_________________________________________________________________\n",
      " Layer (type)                Output Shape              Param #   \n",
      "=================================================================\n",
      " flatten_2 (Flatten)         (None, 784)               0         \n",
      "                                                                 \n",
      " dense_4 (Dense)             (None, 128)               100480    \n",
      "                                                                 \n",
      " dense_5 (Dense)             (None, 10)                1290      \n",
      "                                                                 \n",
      "=================================================================\n",
      "Total params: 101,770\n",
      "Trainable params: 101,770\n",
      "Non-trainable params: 0\n",
      "_________________________________________________________________\n"
     ]
    }
   ],
   "source": [
    "model.summary()"
   ]
  },
  {
   "cell_type": "code",
   "execution_count": 10,
   "id": "4a5876be-efd1-464b-8aef-572b90661470",
   "metadata": {},
   "outputs": [
    {
     "name": "stdout",
     "output_type": "stream",
     "text": [
      "tf.Tensor([1 2 4], shape=(3,), dtype=int32)\n"
     ]
    }
   ],
   "source": [
    "import tensorflow as tf\n",
    "\n",
    "a = tf.constant([1,2,3])\n",
    "b = tf.constant([0,0,1])\n",
    "c = tf.add(a,b)\n",
    "\n",
    "print(c)"
   ]
  },
  {
   "cell_type": "markdown",
   "id": "6912452f-cc7f-4fec-81fe-dc1d1475d376",
   "metadata": {},
   "source": [
    "## 그래프 생성하기"
   ]
  },
  {
   "cell_type": "code",
   "execution_count": 11,
   "id": "ea141cf4-bd3c-4ab2-9705-6a27f69d5b6e",
   "metadata": {},
   "outputs": [],
   "source": [
    "def compute(a,b,c):\n",
    "    d = a*b+c\n",
    "    e = a*b*c\n",
    "    return d,e"
   ]
  },
  {
   "cell_type": "code",
   "execution_count": 22,
   "id": "7080b6ed-60fb-48ee-ac0e-338cb6f36b37",
   "metadata": {},
   "outputs": [],
   "source": [
    "@tf.function\n",
    "def compute(a,b,c):\n",
    "    d = a*b+c\n",
    "    e = a*b*c\n",
    "    print('Creating Graph !')\n",
    "    tf.print('Creating Graph !!')\n",
    "    return d,e"
   ]
  },
  {
   "cell_type": "code",
   "execution_count": 23,
   "id": "9f6782f5-1b7a-4ca7-8cdb-06cdfe89e278",
   "metadata": {},
   "outputs": [
    {
     "name": "stdout",
     "output_type": "stream",
     "text": [
      "Creating Graph !\n",
      "Creating Graph !!\n"
     ]
    }
   ],
   "source": [
    "result = compute(3,4,5)"
   ]
  },
  {
   "cell_type": "code",
   "execution_count": 25,
   "id": "aa583f2d-cda4-482a-85db-9088bcd513f8",
   "metadata": {},
   "outputs": [
    {
     "name": "stdout",
     "output_type": "stream",
     "text": [
      "Creating Graph !!\n"
     ]
    }
   ],
   "source": [
    "result1 = compute(3,4,5)"
   ]
  },
  {
   "cell_type": "code",
   "execution_count": 24,
   "id": "b59b80e1-52ee-4cd3-806b-2844dbaaeb5f",
   "metadata": {},
   "outputs": [
    {
     "data": {
      "text/plain": [
       "17"
      ]
     },
     "execution_count": 24,
     "metadata": {},
     "output_type": "execute_result"
    }
   ],
   "source": [
    "result[0].numpy()"
   ]
  },
  {
   "cell_type": "markdown",
   "id": "1ac2e88a-36ca-4ed7-a6f3-59dad6201eaf",
   "metadata": {},
   "source": [
    "## Gradient Tape : 자동미분"
   ]
  },
  {
   "cell_type": "code",
   "execution_count": 13,
   "id": "fee0e93d-4dbd-4280-afe2-645042985e82",
   "metadata": {},
   "outputs": [
    {
     "data": {
      "text/plain": [
       "<tf.Tensor: shape=(), dtype=float32, numpy=54.0>"
      ]
     },
     "execution_count": 13,
     "metadata": {},
     "output_type": "execute_result"
    }
   ],
   "source": [
    "A,b = tf.constant(3.0),tf.constant(6.0)\n",
    "X = tf.Variable(20.0)\n",
    "loss = tf.math.abs(A*X - b)\n",
    "loss"
   ]
  },
  {
   "cell_type": "code",
   "execution_count": 15,
   "id": "1b29526d-b7f8-42d1-852d-fcfa42a845b0",
   "metadata": {},
   "outputs": [
    {
     "name": "stdout",
     "output_type": "stream",
     "text": [
      "X = 20.00, dX = 3.000000\n",
      "X = 17.00, dX = 3.000000\n",
      "X = 14.00, dX = 3.000000\n",
      "X = 11.00, dX = 3.000000\n",
      "X = 8.00, dX = 3.000000\n",
      "X = 5.00, dX = 3.000000\n",
      "X = 2.00, dX = 0.000000\n"
     ]
    }
   ],
   "source": [
    "def train_sep():\n",
    "    with tf.GradientTape() as tape:\n",
    "        loss = tf.math.abs(A*X-b)\n",
    "    dX = tape.gradient(loss,X)\n",
    "    print('X = {:.2f}, dX = {:2f}'.format(X.numpy(),dX))\n",
    "    X.assign(X-dX)\n",
    "\n",
    "for i in range(7):\n",
    "    train_sep()"
   ]
  },
  {
   "cell_type": "markdown",
   "id": "6f0ebd70-c093-49b8-81e3-8427da9c3ce7",
   "metadata": {},
   "source": [
    "## FunctionalAPI"
   ]
  },
  {
   "cell_type": "code",
   "execution_count": 26,
   "id": "546959ba-cafa-44ec-8149-fdb8884efb32",
   "metadata": {},
   "outputs": [],
   "source": [
    "model_input = tf.keras.layers.Input(shape=input_shape)\n",
    "output = tf.keras.layers.Flatten()(model_input)\n",
    "output = tf.keras.layers.Dense(128,activation='relu')(output)\n",
    "output = tf.keras.layers.Dense(num_classes,activation='softmax')(output)\n",
    "model = tf.keras.Model(model_input,output)"
   ]
  },
  {
   "cell_type": "markdown",
   "id": "3ee5e8e2-be1a-4f09-be07-10a2436f4a55",
   "metadata": {},
   "source": [
    "## Tensorflow2의 변수"
   ]
  },
  {
   "cell_type": "code",
   "execution_count": 28,
   "id": "98556dc0-b15b-4269-a052-daf6aa5fc24c",
   "metadata": {},
   "outputs": [
    {
     "name": "stdout",
     "output_type": "stream",
     "text": [
      "['dense_2/kernel:0', 'dense_2/bias:0', 'dense_3/kernel:0', 'dense_3/bias:0']\n"
     ]
    }
   ],
   "source": [
    "print([variable.name for variable in model.variables])"
   ]
  },
  {
   "cell_type": "code",
   "execution_count": 29,
   "id": "f2dc3af7-dbcf-439a-8197-f44afbcbe906",
   "metadata": {},
   "outputs": [
    {
     "name": "stdout",
     "output_type": "stream",
     "text": [
      "<tf.Variable 'my_var:0' shape=() dtype=int32, numpy=3>\n"
     ]
    }
   ],
   "source": [
    "a = tf.Variable(3,name='my_var')\n",
    "print(a)"
   ]
  },
  {
   "cell_type": "code",
   "execution_count": 30,
   "id": "39fcdbcf-f54f-41a1-aa67-d9bee6491b73",
   "metadata": {},
   "outputs": [
    {
     "data": {
      "text/plain": [
       "3"
      ]
     },
     "execution_count": 30,
     "metadata": {},
     "output_type": "execute_result"
    }
   ],
   "source": [
    "a.numpy()"
   ]
  },
  {
   "cell_type": "code",
   "execution_count": 33,
   "id": "a27daa30-1848-4f3f-b996-73b78ba66edd",
   "metadata": {},
   "outputs": [
    {
     "data": {
      "text/plain": [
       "'my_var:0'"
      ]
     },
     "execution_count": 33,
     "metadata": {},
     "output_type": "execute_result"
    }
   ],
   "source": [
    "a.name"
   ]
  },
  {
   "cell_type": "code",
   "execution_count": 34,
   "id": "7c217024-f260-4435-b453-1766db85ae87",
   "metadata": {},
   "outputs": [
    {
     "data": {
      "text/plain": [
       "TensorShape([])"
      ]
     },
     "execution_count": 34,
     "metadata": {},
     "output_type": "execute_result"
    }
   ],
   "source": [
    "a.shape"
   ]
  },
  {
   "cell_type": "code",
   "execution_count": 36,
   "id": "24c80c5e-85e0-4957-bcdb-ecd89c03baab",
   "metadata": {},
   "outputs": [
    {
     "name": "stdout",
     "output_type": "stream",
     "text": [
      "4\n"
     ]
    }
   ],
   "source": [
    "a.assign(a+1)\n",
    "print(a.numpy())"
   ]
  },
  {
   "cell_type": "code",
   "execution_count": 37,
   "id": "06dbbb19-6215-44f4-8fcf-5029d5d751fc",
   "metadata": {},
   "outputs": [
    {
     "name": "stdout",
     "output_type": "stream",
     "text": [
      "tf.Tensor(5, shape=(), dtype=int32)\n"
     ]
    }
   ],
   "source": [
    "b = a+1\n",
    "print(b)"
   ]
  },
  {
   "cell_type": "markdown",
   "id": "359959b9-e48f-42aa-a3c7-68f2b5a17f37",
   "metadata": {},
   "source": [
    "## 사전제작된 estimator"
   ]
  },
  {
   "cell_type": "markdown",
   "id": "069cb2c0-50fd-46d0-8d56-22eccaa6b206",
   "metadata": {},
   "source": [
    "## 맞춤형 estimator 훈련시키기"
   ]
  },
  {
   "cell_type": "code",
   "execution_count": 46,
   "id": "60710d04-5603-4fd8-8e54-51d50312b9b1",
   "metadata": {},
   "outputs": [
    {
     "name": "stdout",
     "output_type": "stream",
     "text": [
      "INFO:tensorflow:Using default config.\n",
      "INFO:tensorflow:Using the Keras model provided.\n"
     ]
    },
    {
     "name": "stderr",
     "output_type": "stream",
     "text": [
      "/Users/yughyeonjun/opt/anaconda3/envs/Six/lib/python3.7/site-packages/keras/backend.py:450: UserWarning: `tf.keras.backend.set_learning_phase` is deprecated and will be removed after 2020-10-11. To update it, simply pass a True/False value to the `training` argument of the `__call__` method of your layer or model.\n",
      "  warnings.warn('`tf.keras.backend.set_learning_phase` is deprecated and '\n",
      "2022-07-09 21:44:11.462619: I tensorflow/compiler/mlir/mlir_graph_optimization_pass.cc:354] MLIR V1 optimization pass is not enabled\n"
     ]
    },
    {
     "name": "stdout",
     "output_type": "stream",
     "text": [
      "INFO:tensorflow:Using config: {'_model_dir': './estimator_dir', '_tf_random_seed': None, '_save_summary_steps': 100, '_save_checkpoints_steps': None, '_save_checkpoints_secs': 600, '_session_config': allow_soft_placement: true\n",
      "graph_options {\n",
      "  rewrite_options {\n",
      "    meta_optimizer_iterations: ONE\n",
      "  }\n",
      "}\n",
      ", '_keep_checkpoint_max': 5, '_keep_checkpoint_every_n_hours': 10000, '_log_step_count_steps': 100, '_train_distribute': None, '_device_fn': None, '_protocol': None, '_eval_distribute': None, '_experimental_distribute': None, '_experimental_max_worker_delay_secs': None, '_session_creation_timeout_secs': 7200, '_checkpoint_save_graph_def': True, '_service': None, '_cluster_spec': ClusterSpec({}), '_task_type': 'worker', '_task_id': 0, '_global_id_in_cluster': 0, '_master': '', '_evaluation_master': '', '_is_chief': True, '_num_ps_replicas': 0, '_num_worker_replicas': 1}\n"
     ]
    }
   ],
   "source": [
    "estimator = tf.keras.estimator.model_to_estimator(model,model_dir='./estimator_dir')"
   ]
  },
  {
   "cell_type": "code",
   "execution_count": 50,
   "id": "0c591537-72c7-4fb3-8728-9c4395788217",
   "metadata": {},
   "outputs": [],
   "source": [
    "batch_size = 32\n",
    "def train_input_fn():\n",
    "    train_dataset = tf.data.Dataset.from_tensor_slices((X_train,y_train))\n",
    "    train_dataset = train_dataset.batch(batch_size).repeat()\n",
    "    return train_dataset"
   ]
  },
  {
   "cell_type": "code",
   "execution_count": 51,
   "id": "c3937c4f-b077-48de-92c5-a9abfc72d601",
   "metadata": {},
   "outputs": [
    {
     "name": "stdout",
     "output_type": "stream",
     "text": [
      "INFO:tensorflow:Calling model_fn.\n",
      "INFO:tensorflow:Done calling model_fn.\n",
      "INFO:tensorflow:Warm-starting with WarmStartSettings: WarmStartSettings(ckpt_to_initialize_from='./estimator_dir/keras/keras_model.ckpt', vars_to_warm_start='.*', var_name_to_vocab_info={}, var_name_to_prev_var_name={})\n",
      "INFO:tensorflow:Warm-starting from: ./estimator_dir/keras/keras_model.ckpt\n",
      "INFO:tensorflow:Warm-starting variables only in TRAINABLE_VARIABLES.\n",
      "INFO:tensorflow:Warm-started 4 variables.\n",
      "INFO:tensorflow:Create CheckpointSaverHook.\n",
      "INFO:tensorflow:Graph was finalized.\n",
      "INFO:tensorflow:Running local_init_op.\n",
      "INFO:tensorflow:Done running local_init_op.\n",
      "INFO:tensorflow:Calling checkpoint listeners before saving checkpoint 0...\n",
      "INFO:tensorflow:Saving checkpoints for 0 into ./estimator_dir/model.ckpt.\n",
      "INFO:tensorflow:./estimator_dir/model.ckpt-0.index\n",
      "INFO:tensorflow:0\n",
      "INFO:tensorflow:./estimator_dir/model.ckpt-0.data-00000-of-00002\n",
      "INFO:tensorflow:400\n",
      "INFO:tensorflow:./estimator_dir/model.ckpt-0.data-00001-of-00002\n",
      "INFO:tensorflow:400\n",
      "INFO:tensorflow:./estimator_dir/model.ckpt-0.meta\n",
      "INFO:tensorflow:376900\n",
      "INFO:tensorflow:Calling checkpoint listeners after saving checkpoint 0...\n",
      "INFO:tensorflow:loss = 0.12934995, step = 0\n",
      "INFO:tensorflow:global_step/sec: 316.415\n",
      "INFO:tensorflow:loss = 0.2531351, step = 100 (0.309 sec)\n",
      "INFO:tensorflow:global_step/sec: 1348.68\n",
      "INFO:tensorflow:loss = 0.28030524, step = 200 (0.074 sec)\n",
      "INFO:tensorflow:global_step/sec: 1332.67\n",
      "INFO:tensorflow:loss = 0.10663684, step = 300 (0.075 sec)\n",
      "INFO:tensorflow:global_step/sec: 1345.37\n",
      "INFO:tensorflow:loss = 0.14327005, step = 400 (0.074 sec)\n",
      "INFO:tensorflow:global_step/sec: 1334.61\n",
      "INFO:tensorflow:loss = 0.24779555, step = 500 (0.075 sec)\n",
      "INFO:tensorflow:global_step/sec: 1336.13\n",
      "INFO:tensorflow:loss = 0.22755545, step = 600 (0.075 sec)\n",
      "INFO:tensorflow:global_step/sec: 1358.58\n",
      "INFO:tensorflow:loss = 0.09620657, step = 700 (0.074 sec)\n",
      "INFO:tensorflow:global_step/sec: 1362.47\n",
      "INFO:tensorflow:loss = 0.13566843, step = 800 (0.073 sec)\n",
      "INFO:tensorflow:global_step/sec: 1354.37\n",
      "INFO:tensorflow:loss = 0.06759478, step = 900 (0.074 sec)\n",
      "INFO:tensorflow:global_step/sec: 1343.58\n",
      "INFO:tensorflow:loss = 0.2916, step = 1000 (0.074 sec)\n",
      "INFO:tensorflow:global_step/sec: 1320.85\n",
      "INFO:tensorflow:loss = 0.17788897, step = 1100 (0.076 sec)\n",
      "INFO:tensorflow:global_step/sec: 1282.91\n",
      "INFO:tensorflow:loss = 0.21595259, step = 1200 (0.079 sec)\n",
      "INFO:tensorflow:global_step/sec: 1346.08\n",
      "INFO:tensorflow:loss = 0.22266062, step = 1300 (0.074 sec)\n",
      "INFO:tensorflow:global_step/sec: 1336.99\n",
      "INFO:tensorflow:loss = 0.25416863, step = 1400 (0.075 sec)\n",
      "INFO:tensorflow:global_step/sec: 1349.85\n",
      "INFO:tensorflow:loss = 0.14256325, step = 1500 (0.074 sec)\n",
      "INFO:tensorflow:global_step/sec: 1348.66\n",
      "INFO:tensorflow:loss = 0.17526175, step = 1600 (0.074 sec)\n",
      "INFO:tensorflow:global_step/sec: 1323.26\n",
      "INFO:tensorflow:loss = 0.07927042, step = 1700 (0.076 sec)\n",
      "INFO:tensorflow:global_step/sec: 1391.11\n",
      "INFO:tensorflow:loss = 0.2191563, step = 1800 (0.072 sec)\n",
      "INFO:tensorflow:Calling checkpoint listeners before saving checkpoint 1875...\n",
      "INFO:tensorflow:Saving checkpoints for 1875 into ./estimator_dir/model.ckpt.\n",
      "INFO:tensorflow:./estimator_dir/model.ckpt-1875.data-00001-of-00002\n",
      "INFO:tensorflow:0\n",
      "INFO:tensorflow:./estimator_dir/model.ckpt-1875.data-00000-of-00002\n",
      "INFO:tensorflow:400\n",
      "INFO:tensorflow:./estimator_dir/model.ckpt-1875.index\n",
      "INFO:tensorflow:400\n",
      "INFO:tensorflow:./estimator_dir/model.ckpt-1875.meta\n",
      "INFO:tensorflow:376900\n",
      "INFO:tensorflow:Calling checkpoint listeners after saving checkpoint 1875...\n",
      "INFO:tensorflow:Loss for final step: 0.082765624.\n"
     ]
    },
    {
     "data": {
      "text/plain": [
       "<tensorflow_estimator.python.estimator.estimator.EstimatorV2 at 0x7f91942d9910>"
      ]
     },
     "execution_count": 51,
     "metadata": {},
     "output_type": "execute_result"
    }
   ],
   "source": [
    "estimator.train(train_input_fn,steps=len(X_train)//batch_size)"
   ]
  },
  {
   "cell_type": "markdown",
   "id": "6db8e15a-87ca-45a7-8cf7-fad36cd89d2f",
   "metadata": {},
   "source": [
    "## Callbacks"
   ]
  },
  {
   "cell_type": "code",
   "execution_count": 55,
   "id": "6ba913cf-56c4-40ae-8281-0322a0c41c40",
   "metadata": {},
   "outputs": [
    {
     "name": "stdout",
     "output_type": "stream",
     "text": [
      "Epoch 1/5\n",
      "1875/1875 [==============================] - 3s 1ms/step - loss: 0.6453 - accuracy: 0.8379 - val_loss: 37.7588 - val_accuracy: 0.8969\n",
      "Epoch 2/5\n",
      "1875/1875 [==============================] - 2s 1ms/step - loss: 0.3380 - accuracy: 0.9048 - val_loss: 35.6934 - val_accuracy: 0.9160\n",
      "Epoch 3/5\n",
      "1875/1875 [==============================] - 2s 1ms/step - loss: 0.2911 - accuracy: 0.9180 - val_loss: 34.0957 - val_accuracy: 0.9240\n",
      "Epoch 4/5\n",
      "1875/1875 [==============================] - 2s 1ms/step - loss: 0.2604 - accuracy: 0.9265 - val_loss: 31.9073 - val_accuracy: 0.9301\n",
      "Epoch 5/5\n",
      "1875/1875 [==============================] - 2s 1ms/step - loss: 0.2371 - accuracy: 0.9336 - val_loss: 29.8036 - val_accuracy: 0.9331\n"
     ]
    },
    {
     "data": {
      "text/plain": [
       "<keras.callbacks.History at 0x7f8ef67ba6d0>"
      ]
     },
     "execution_count": 55,
     "metadata": {},
     "output_type": "execute_result"
    }
   ],
   "source": [
    "callbacks = [tf.keras.callbacks.TensorBoard('./logs_keras')]\n",
    "model.fit(X_train,y_train,epochs=5,verbose=1,validation_data=(X_test,y_test),callbacks=callbacks)"
   ]
  },
  {
   "cell_type": "code",
   "execution_count": 58,
   "id": "911c910f-8935-40fd-865f-45b8c2bc01ea",
   "metadata": {},
   "outputs": [
    {
     "name": "stdout",
     "output_type": "stream",
     "text": [
      "\n",
      "NOTE: Using experimental fast data loading logic. To disable, pass\n",
      "    \"--load_fast=false\" and report issues on GitHub. More details:\n",
      "    https://github.com/tensorflow/tensorboard/issues/4784\n",
      "\n",
      "Serving TensorBoard on localhost; to expose to the network, use a proxy or pass --bind_all\n",
      "TensorBoard 2.9.1 at http://localhost:6006/ (Press CTRL+C to quit)\n",
      "^C\n"
     ]
    }
   ],
   "source": [
    "!tensorboard --logdir ./logs_keras"
   ]
  },
  {
   "cell_type": "code",
   "execution_count": 59,
   "id": "821d7852-79fe-46e3-9227-3ecba584f0f2",
   "metadata": {},
   "outputs": [],
   "source": [
    "writer = tf.summary.create_file_writer('./model_logs')\n",
    "with writer.as_default():\n",
    "    tf.summary.scalar('custom_log',10,step=3)"
   ]
  },
  {
   "cell_type": "code",
   "execution_count": 60,
   "id": "a9bae3a8-de0c-40bb-ab50-b3404d59e668",
   "metadata": {},
   "outputs": [
    {
     "data": {
      "text/plain": [
       "<tf.Tensor: shape=(), dtype=bool, numpy=False>"
      ]
     },
     "execution_count": 60,
     "metadata": {},
     "output_type": "execute_result"
    }
   ],
   "source": [
    "accuracy = tf.keras.metrics.Accuracy()\n",
    "ground_truth, predictions = [1,0,1],[1,0,0] #실제로 이것은 모델에서부터 나온다.\n",
    "accuracy.update_state(ground_truth,predictions)\n",
    "tf.summary.scalar('accuracy',accuracy.result(),step=4)"
   ]
  },
  {
   "cell_type": "code",
   "execution_count": null,
   "id": "78eb462f-0039-42c7-9fb4-9134ddf1de0c",
   "metadata": {},
   "outputs": [
    {
     "name": "stdout",
     "output_type": "stream",
     "text": [
      "\n",
      "NOTE: Using experimental fast data loading logic. To disable, pass\n",
      "    \"--load_fast=false\" and report issues on GitHub. More details:\n",
      "    https://github.com/tensorflow/tensorboard/issues/4784\n",
      "\n",
      "Serving TensorBoard on localhost; to expose to the network, use a proxy or pass --bind_all\n",
      "TensorBoard 2.9.1 at http://localhost:6006/ (Press CTRL+C to quit)\n"
     ]
    }
   ],
   "source": [
    "!tensorboard --logdir ./model_logs"
   ]
  },
  {
   "cell_type": "code",
   "execution_count": null,
   "id": "be5f9ee1-942d-4140-9538-bcd526717433",
   "metadata": {},
   "outputs": [],
   "source": []
  }
 ],
 "metadata": {
  "kernelspec": {
   "display_name": "Six",
   "language": "python",
   "name": "six"
  },
  "language_info": {
   "codemirror_mode": {
    "name": "ipython",
    "version": 3
   },
   "file_extension": ".py",
   "mimetype": "text/x-python",
   "name": "python",
   "nbconvert_exporter": "python",
   "pygments_lexer": "ipython3",
   "version": "3.7.13"
  }
 },
 "nbformat": 4,
 "nbformat_minor": 5
}
