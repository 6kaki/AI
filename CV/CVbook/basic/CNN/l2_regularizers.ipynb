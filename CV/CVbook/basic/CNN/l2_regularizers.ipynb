{
 "cells": [
  {
   "cell_type": "code",
   "execution_count": null,
   "id": "376cef43-c014-4234-b4ef-0e556be9164c",
   "metadata": {},
   "outputs": [],
   "source": [
    "from functools import partial\n",
    "\n",
    "def l2_reg(coef=1e-2):\n",
    "    #tf.keras.regularizers.l2()를 재구현\n",
    "    return lambda x:tf.reduce_sum(x**2) * coef\n",
    "\n",
    "class ConvWithRegularizers(SimpleConvolutionLayer):\n",
    "    def __init__(self,num_kernels=32,kernel_size=(3,3),stride=1,\n",
    "                 kernel_regularizer=l2_reg(),bias_regularizer=None):\n",
    "        super().__init__(num_kernels,kernel_size,stride)\n",
    "        self.kernel_regularizer=kernel_regularizer\n",
    "        self.bias_regularizer = bias_regularizer\n",
    "        \n",
    "    def build(self,input_shape):\n",
    "        super().build(input_shape)\n",
    "        #정규화손실을 변수에 추가\n",
    "        if self.kernel_regularizer is not None:\n",
    "            #예를 들어 TF에 호출(반복)마다\n",
    "            #tf.nn.l1_loss(self.kernels)를 계산하고 저장할 것을 지시\n",
    "            self.add_loss(partial(self.kernel_regularizer,self.kernels))\n",
    "        \n",
    "        if self.bias_regularizer is not None:\n",
    "            self.add_loss(partial(self.bias_regularizer,self.bias))\n",
    "            \n",
    "    \n",
    "        "
   ]
  },
  {
   "cell_type": "code",
   "execution_count": null,
   "id": "f5ef9379-c3db-4a35-8c8f-8d411faea715",
   "metadata": {},
   "outputs": [],
   "source": [
    "model = Sequential()\n",
    "\n",
    "model.add(ConvWithRegularizers(6,(5,5),kernel_regularizer=l2_reg()))\n",
    "model.add(...)\n",
    "model.add(Dense(num_classes,activation='softmax'))\n",
    "\n",
    "for epoch in range(epochs):\n",
    "    for (batch_images,batch_gts) in dataset:\n",
    "        with tf.GradientTape() as grad_tape:\n",
    "            loss = tf.losses.sparse_categorical_crossentropy(\n",
    "                batch_gts,model(batch_images)) #주요 손실\n",
    "            loss += sum(model.losses) #추가 손실 리스트\n",
    "        \n",
    "        #결합된 손실의 경사를 구해 역전파\n",
    "        grads = grad_tape.gradient(loss,model.trainable_variables)\n",
    "        optimizer.apply_gradients(zip(grads,model.trainable_varibales))\n",
    "            \n",
    "        "
   ]
  },
  {
   "cell_type": "code",
   "execution_count": null,
   "id": "4b1bafb3-6cad-4644-8708-26bb8a84a32c",
   "metadata": {},
   "outputs": [],
   "source": [
    "l1_reg = tf.keras.regularizers.l1(0.01)\n",
    "\n",
    "model = Sequential()\n",
    "model.add(Conv2D(6,kernel_size=(5,5),padding='same',activation='relu',input_shape=input_shape,kernel_regularizer=l1_reg))"
   ]
  }
 ],
 "metadata": {
  "kernelspec": {
   "display_name": "six",
   "language": "python",
   "name": "six"
  },
  "language_info": {
   "codemirror_mode": {
    "name": "ipython",
    "version": 3
   },
   "file_extension": ".py",
   "mimetype": "text/x-python",
   "name": "python",
   "nbconvert_exporter": "python",
   "pygments_lexer": "ipython3",
   "version": "3.7.13"
  }
 },
 "nbformat": 4,
 "nbformat_minor": 5
}
