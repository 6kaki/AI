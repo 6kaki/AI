{
 "cells": [
  {
   "cell_type": "code",
   "execution_count": 1,
   "id": "f74e5d5c-3d82-4cc7-b708-6db8331c2d8c",
   "metadata": {},
   "outputs": [],
   "source": [
    "import tensorflow as tf"
   ]
  },
  {
   "cell_type": "code",
   "execution_count": 2,
   "id": "8bd431c6-1207-4b82-9a06-a26fb8b93721",
   "metadata": {},
   "outputs": [
    {
     "ename": "NameError",
     "evalue": "name 'k' is not defined",
     "output_type": "error",
     "traceback": [
      "\u001b[0;31m---------------------------------------------------------------------------\u001b[0m",
      "\u001b[0;31mNameError\u001b[0m                                 Traceback (most recent call last)",
      "\u001b[0;32m/var/folders/my/lj1l_34s0hs5sp6zrt4030wm0000gn/T/ipykernel_2531/3672043079.py\u001b[0m in \u001b[0;36m<module>\u001b[0;34m\u001b[0m\n\u001b[1;32m      1\u001b[0m \u001b[0;31m#훈련가능한 변수를 초기화 Glorot 분포에서 추출, 편향은 0\u001b[0m\u001b[0;34m\u001b[0m\u001b[0;34m\u001b[0m\u001b[0;34m\u001b[0m\u001b[0m\n\u001b[0;32m----> 2\u001b[0;31m \u001b[0mkernels_shape\u001b[0m \u001b[0;34m=\u001b[0m \u001b[0;34m[\u001b[0m\u001b[0mk\u001b[0m\u001b[0;34m,\u001b[0m\u001b[0mk\u001b[0m\u001b[0;34m,\u001b[0m\u001b[0mD\u001b[0m\u001b[0;34m,\u001b[0m\u001b[0mN\u001b[0m\u001b[0;34m]\u001b[0m\u001b[0;34m\u001b[0m\u001b[0;34m\u001b[0m\u001b[0m\n\u001b[0m\u001b[1;32m      3\u001b[0m \u001b[0mglorot_uni_initializer\u001b[0m \u001b[0;34m=\u001b[0m \u001b[0mtf\u001b[0m\u001b[0;34m.\u001b[0m\u001b[0minitializers\u001b[0m\u001b[0;34m.\u001b[0m\u001b[0mGlorotUniform\u001b[0m\u001b[0;34m(\u001b[0m\u001b[0;34m)\u001b[0m\u001b[0;34m\u001b[0m\u001b[0;34m\u001b[0m\u001b[0m\n\u001b[1;32m      4\u001b[0m \u001b[0;34m\u001b[0m\u001b[0m\n\u001b[1;32m      5\u001b[0m \u001b[0mkernels\u001b[0m \u001b[0;34m=\u001b[0m \u001b[0mtf\u001b[0m\u001b[0;34m.\u001b[0m\u001b[0mVariable\u001b[0m\u001b[0;34m(\u001b[0m\u001b[0mglorot_uni_initializer\u001b[0m\u001b[0;34m(\u001b[0m\u001b[0mkernels_shape\u001b[0m\u001b[0;34m)\u001b[0m\u001b[0;34m,\u001b[0m\u001b[0mtrainable\u001b[0m\u001b[0;34m=\u001b[0m\u001b[0;32mTrue\u001b[0m\u001b[0;34m,\u001b[0m\u001b[0mname\u001b[0m\u001b[0;34m=\u001b[0m\u001b[0;34m'filters'\u001b[0m\u001b[0;34m)\u001b[0m\u001b[0;34m\u001b[0m\u001b[0;34m\u001b[0m\u001b[0m\n",
      "\u001b[0;31mNameError\u001b[0m: name 'k' is not defined"
     ]
    }
   ],
   "source": [
    "#훈련가능한 변수를 초기화 Glorot 분포에서 추출, 편향은 0\n",
    "kernels_shape = [k,k,D,N]\n",
    "glorot_uni_initializer = tf.initializers.GlorotUniform()\n",
    "\n",
    "kernels = tf.Variable(glorot_uni_initializer(kernels_shape),trainable=True,name='filters')\n",
    "\n",
    "bias = tf.Variable(tf.zeros(shape=[N]),trainable=True,name='bias')\n"
   ]
  },
  {
   "cell_type": "code",
   "execution_count": null,
   "id": "df55191f-5a07-42fc-b7c2-0405eea014f8",
   "metadata": {},
   "outputs": [],
   "source": [
    "@tf.function\n",
    "def conv_layer(x,kernels,bias,s):\n",
    "    z = tf.nn.conv2d(x,kernels,strides=[1,s,s,1],padding='VALID')\n",
    "    #마지막으로 bias와 활성화함수적용\n",
    "    \n",
    "    return tf.nn.relu(z + bias)\n",
    "    "
   ]
  },
  {
   "cell_type": "code",
   "execution_count": null,
   "id": "1a4ac2c2-628f-4125-83c1-98049d50bc6a",
   "metadata": {},
   "outputs": [],
   "source": [
    "from tf.keras.layers import Layer\n",
    "\n",
    "class SImpleConvolutionLayer(tf.keras.layers.Layer):\n",
    "    def __init__(self,num_kernels=32,kernel_size=(3,3),stride=1):\n",
    "        \"\"\"\n",
    "        계층 초기화\n",
    "        params:\n",
    "            num_kernels : 합성곱 계층의 커널 수\n",
    "            kernel_size : 커널 크기\n",
    "            stride :  수직/수평 보폭\n",
    "        \"\"\"\n",
    "        super().__init__()\n",
    "        self.num_kernels = num_kernels\n",
    "        self.kernel_size = kernel_size\n",
    "        self.stride = stride\n",
    "        \n",
    "    def build(self,input_shape):\n",
    "        \"\"\"\n",
    "        계층 구성, 계층 매개변수와 변수를 초기화\n",
    "        이 함수는 계층이 최초로 사용될 때 내부적으로 호출됨\n",
    "        params:\n",
    "            input_shape : 계층의 입력 형상  (B,H,W,C)\n",
    "        \"\"\"\n",
    "        num_input_ch = input_shape[-1]\n",
    "        #필요한 커널 텐서의 형상 확인\n",
    "        kernels_shape = (*self.kernel_size,num_input_ch,self.num_kernels)\n",
    "        #필터값이 예를들어 Glorot 분포를 따르는 값으로 초기화\n",
    "        glorot_init = tf.initializers.GlorotUniform()\n",
    "        self.kernels = self.add_weight"
   ]
  },
  {
   "cell_type": "code",
   "execution_count": 4,
   "id": "f9af9ead-72c9-4eb2-8099-b1ea45e720bc",
   "metadata": {},
   "outputs": [],
   "source": [
    "N = 32\n",
    "kernel_size = (3,3)\n",
    "strides = 1"
   ]
  },
  {
   "cell_type": "code",
   "execution_count": 6,
   "id": "a3712136-1b08-4645-9bfb-b1b64362e121",
   "metadata": {},
   "outputs": [],
   "source": [
    "conv = tf.keras.layers.Conv2D(filters=N,kernel_size=kernel_size,strides=strides,\n",
    "                             padding='valid',activation='relu')"
   ]
  },
  {
   "cell_type": "code",
   "execution_count": null,
   "id": "3c47abf8-9f92-4456-a173-303fd6fbd7d2",
   "metadata": {},
   "outputs": [],
   "source": []
  }
 ],
 "metadata": {
  "kernelspec": {
   "display_name": "Six",
   "language": "python",
   "name": "six"
  },
  "language_info": {
   "codemirror_mode": {
    "name": "ipython",
    "version": 3
   },
   "file_extension": ".py",
   "mimetype": "text/x-python",
   "name": "python",
   "nbconvert_exporter": "python",
   "pygments_lexer": "ipython3",
   "version": "3.7.13"
  }
 },
 "nbformat": 4,
 "nbformat_minor": 5
}
