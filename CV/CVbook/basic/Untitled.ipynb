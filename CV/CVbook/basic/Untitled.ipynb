{
 "cells": [
  {
   "cell_type": "code",
   "execution_count": 1,
   "id": "172df717-0979-426a-8c1a-f0d94661ee3a",
   "metadata": {},
   "outputs": [],
   "source": [
    "import numpy as np\n",
    "import mnist\n",
    "np.random.seed(42)"
   ]
  },
  {
   "cell_type": "code",
   "execution_count": 9,
   "id": "07bffa12-df51-49b8-a091-2dc8ffb4e46a",
   "metadata": {},
   "outputs": [],
   "source": [
    "X_train,y_train = mnist.train_images(),mnist.train_labels()\n",
    "X_test, y_test = mnist.test_images(),mnist.test_labels()\n",
    "num_classes = 10 \n",
    "#클래스는 0~9까지 숫자\n",
    "\n",
    "#이미지를 column 벡터(NN의 입력)으로 변환\n",
    "X_train,X_test = X_train.reshape(-1,28*28),X_test.reshape(-1,28*28)\n",
    "\n",
    "#레이블을 원핫벡터로 변환\n",
    "#[0,0,0,0,1,0,0,0,0,0]\n",
    "y_train = np.eye(num_classes)[y_train]"
   ]
  },
  {
   "cell_type": "code",
   "execution_count": 7,
   "id": "c7fc0667-afbc-429f-bde7-bf7b87d08146",
   "metadata": {},
   "outputs": [
    {
     "data": {
      "text/plain": [
       "array([5, 0, 4, ..., 5, 6, 8], dtype=uint8)"
      ]
     },
     "execution_count": 7,
     "metadata": {},
     "output_type": "execute_result"
    }
   ],
   "source": [
    "y_train"
   ]
  },
  {
   "cell_type": "code",
   "execution_count": 8,
   "id": "7c30af9f-599a-4bef-97c0-27179e04aec8",
   "metadata": {},
   "outputs": [
    {
     "data": {
      "text/plain": [
       "array([[0., 0., 0., 0., 0., 1., 0., 0., 0., 0.],\n",
       "       [0., 0., 0., 0., 1., 0., 0., 0., 0., 0.],\n",
       "       [0., 0., 0., 1., 0., 0., 0., 0., 0., 0.]])"
      ]
     },
     "execution_count": 8,
     "metadata": {},
     "output_type": "execute_result"
    }
   ],
   "source": [
    "b=[5,4,3]\n",
    "\n",
    "a = np.eye(10)[b]\n",
    "a"
   ]
  },
  {
   "cell_type": "markdown",
   "id": "f5776106-10c1-4fae-a25d-9ad2f1e1b734",
   "metadata": {},
   "source": [
    "## 네트워크 구성하기"
   ]
  },
  {
   "cell_type": "code",
   "execution_count": 10,
   "id": "2f13572f-ddd6-45e0-85b2-d6a91ca2d20c",
   "metadata": {},
   "outputs": [],
   "source": [
    "import numpy as np\n",
    "\n",
    "\n",
    "class FullyConnectedLayer(object):\n",
    "    def __init__(self,num_inputs, layer_size, activation_fn):\n",
    "        super().__init__()\n",
    "        self.W = np.random.standard_normal((num_inputs,layer_size))\n",
    "        self.b = np.random.standard_normal(layer_size)\n",
    "        self.activation_fn = activation_fn\n",
    "        self.size = layer_size\n",
    "        \n",
    "    def forward(self,x):\n",
    "        z = np.dot(x,self.W) + self.b\n",
    "        return self.activation_fn(z)\n",
    "    \n",
    "    "
   ]
  },
  {
   "cell_type": "code",
   "execution_count": 18,
   "id": "c123a8eb-572f-4aa4-9316-e363a0127caa",
   "metadata": {},
   "outputs": [],
   "source": [
    "def sigmoid(x):\n",
    "    return 1/(1+np.exp(-x))\n",
    "\n",
    "class SimpleNetwork(object):\n",
    "    \"\"\"\n",
    "    Args:\n",
    "        num_inputs(int) : 입력벡터크기 / 입력 값 개수\n",
    "        num_outpus(int) : 출력 벡터 크기\n",
    "        hidden_layers_sizes(list) : 네트워크에 추가될 은닉 계층의 크기를 포함한 리스트\n",
    "        \n",
    "    Attributes:\n",
    "        layers(list) : 이 간단하 네트워크를 구성하는 계층 리스트\n",
    "    \"\"\"\n",
    "    \n",
    "    def __init__(self,num_inputs,num_outputs,hidden_layers_sizes=(64,32)):\n",
    "        super().__init__()\n",
    "        sizes = [num_inputs, *hidden_layers_sizes,num_outputs]\n",
    "        self.layers = [\n",
    "            FullyConnectedLayer(sizes[i],sizes[i+1],sigmoid)\n",
    "            for i in range(len(sizes)-1)\n",
    "        ]\n",
    "        \n",
    "    def forward(self,x):\n",
    "        \"\"\"\n",
    "        x에 대응하는 출력을 계산하고 출력값이 가장 큰 인덱스를 반환\n",
    "        \"\"\"\n",
    "        for layer in self.layers:\n",
    "            x = layer.forward(x)\n",
    "        return x\n",
    "    \n",
    "    def predict(self,x):\n",
    "        estimations = self.forward(x)\n",
    "        best_class = np.argmax(estimations)\n",
    "        return best_class\n",
    "    \n",
    "    def evaluate_accuracy(self,X_val,y_val):\n",
    "        num_corrects = 0\n",
    "        for i in range(len(X_val)):\n",
    "            if self.predict(X_val[i]) == y_val[i]:\n",
    "                num_corrects += 1\n",
    "        return num_corrects / len(X_val)"
   ]
  },
  {
   "cell_type": "code",
   "execution_count": 19,
   "id": "7300e344-418c-49d5-999e-280f95cb9303",
   "metadata": {},
   "outputs": [
    {
     "data": {
      "text/plain": [
       "(60000, 784)"
      ]
     },
     "execution_count": 19,
     "metadata": {},
     "output_type": "execute_result"
    }
   ],
   "source": [
    "X_train.shape"
   ]
  },
  {
   "cell_type": "code",
   "execution_count": 21,
   "id": "79508821-c054-44ab-82c1-3e994fb6e563",
   "metadata": {},
   "outputs": [
    {
     "name": "stderr",
     "output_type": "stream",
     "text": [
      "/var/folders/my/lj1l_34s0hs5sp6zrt4030wm0000gn/T/ipykernel_12660/2655457516.py:2: RuntimeWarning: overflow encountered in exp\n",
      "  return 1/(1+np.exp(-x))\n"
     ]
    },
    {
     "data": {
      "text/plain": [
       "array([[0.93269358, 0.00610164, 0.99282155, ..., 0.86261218, 0.35787102,\n",
       "        0.90615434],\n",
       "       [0.58505329, 0.01057523, 0.99532156, ..., 0.9024037 , 0.13394289,\n",
       "        0.8126381 ],\n",
       "       [0.96325884, 0.0038867 , 0.98285192, ..., 0.97967006, 0.05913087,\n",
       "        0.94243247],\n",
       "       ...,\n",
       "       [0.85649389, 0.01351213, 0.97573045, ..., 0.66947026, 0.01510557,\n",
       "        0.86794212],\n",
       "       [0.82078596, 0.0085065 , 0.99857337, ..., 0.81036765, 0.00134269,\n",
       "        0.54341509],\n",
       "       [0.60540594, 0.00711165, 0.99455486, ..., 0.94868402, 0.04011231,\n",
       "        0.32078214]])"
      ]
     },
     "execution_count": 21,
     "metadata": {},
     "output_type": "execute_result"
    }
   ],
   "source": [
    "mnist_classifier = SimpleNetwork(X_train.shape[1],num_classes,[64,32])\n",
    "mnist_classifier.forward(X_train)"
   ]
  },
  {
   "cell_type": "code",
   "execution_count": 23,
   "id": "c5d6bc71-5595-4181-a841-f7b3e31fa074",
   "metadata": {},
   "outputs": [
    {
     "name": "stderr",
     "output_type": "stream",
     "text": [
      "/var/folders/my/lj1l_34s0hs5sp6zrt4030wm0000gn/T/ipykernel_12660/2655457516.py:2: RuntimeWarning: overflow encountered in exp\n",
      "  return 1/(1+np.exp(-x))\n"
     ]
    },
    {
     "data": {
      "text/plain": [
       "442452"
      ]
     },
     "execution_count": 23,
     "metadata": {},
     "output_type": "execute_result"
    }
   ],
   "source": [
    "mnist_classifier.predict(X_train)"
   ]
  },
  {
   "cell_type": "code",
   "execution_count": 24,
   "id": "d2c4b147-6154-4a1d-9572-1d7dacccfe5d",
   "metadata": {},
   "outputs": [
    {
     "name": "stderr",
     "output_type": "stream",
     "text": [
      "/var/folders/my/lj1l_34s0hs5sp6zrt4030wm0000gn/T/ipykernel_12660/2655457516.py:2: RuntimeWarning: overflow encountered in exp\n",
      "  return 1/(1+np.exp(-x))\n"
     ]
    }
   ],
   "source": [
    "accuracy = mnist_classifier.evaluate_accuracy(X_test,y_test)"
   ]
  },
  {
   "cell_type": "code",
   "execution_count": 26,
   "id": "64b0d47e-5b26-4486-8ecd-45086fb22f44",
   "metadata": {},
   "outputs": [
    {
     "data": {
      "text/plain": [
       "10.36"
      ]
     },
     "execution_count": 26,
     "metadata": {},
     "output_type": "execute_result"
    }
   ],
   "source": [
    "accuracy * 100"
   ]
  },
  {
   "cell_type": "code",
   "execution_count": null,
   "id": "7736692b-01db-4ce1-9951-79a16b7fc6ec",
   "metadata": {},
   "outputs": [],
   "source": []
  }
 ],
 "metadata": {
  "kernelspec": {
   "display_name": "Six",
   "language": "python",
   "name": "six"
  },
  "language_info": {
   "codemirror_mode": {
    "name": "ipython",
    "version": 3
   },
   "file_extension": ".py",
   "mimetype": "text/x-python",
   "name": "python",
   "nbconvert_exporter": "python",
   "pygments_lexer": "ipython3",
   "version": "3.8.13"
  }
 },
 "nbformat": 4,
 "nbformat_minor": 5
}
