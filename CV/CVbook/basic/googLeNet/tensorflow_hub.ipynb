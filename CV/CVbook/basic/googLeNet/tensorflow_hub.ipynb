{
 "cells": [
  {
   "cell_type": "code",
   "execution_count": 2,
   "id": "63dfd1f9-60a9-45c8-af29-2d7a4a972135",
   "metadata": {},
   "outputs": [],
   "source": [
    "import tensorflow as tf\n",
    "import tensorflow_hub as hub"
   ]
  },
  {
   "cell_type": "code",
   "execution_count": 3,
   "id": "a7b1e1e4-f0dd-405c-8ff5-fe63199bf823",
   "metadata": {},
   "outputs": [],
   "source": [
    "url = 'https://tfhub.dev/google/tf2-preview/inception_v3/feature_vector/2'\n",
    "hub_feature_extractor = hub.KerasLayer(\n",
    "    url,\n",
    "    trainable=False,\n",
    "    input_shape=(299,299,3),\n",
    "    output_shape=(2048,),\n",
    "    dtype=tf.float32\n",
    ")"
   ]
  },
  {
   "cell_type": "code",
   "execution_count": null,
   "id": "a8df99eb-47a1-4ad5-be28-0c48a45948e9",
   "metadata": {},
   "outputs": [],
   "source": [
    "inception_model = Sequential(\n",
    "    [hub_feature_extractor, Dense(num_classes, activation='softmax')],\n",
    "    name='inception_tf_hub'\n",
    ")"
   ]
  },
  {
   "cell_type": "code",
   "execution_count": 4,
   "id": "a81c5a37-a20e-4a6d-b45e-3ab156b059e5",
   "metadata": {},
   "outputs": [],
   "source": [
    "from tensorflow.keras.applications import InceptionV3"
   ]
  },
  {
   "cell_type": "code",
   "execution_count": null,
   "id": "54a5d5ae-ca93-4405-afbe-3f89830a8e56",
   "metadata": {},
   "outputs": [],
   "source": []
  }
 ],
 "metadata": {
  "kernelspec": {
   "display_name": "cuda",
   "language": "python",
   "name": "cuda"
  },
  "language_info": {
   "codemirror_mode": {
    "name": "ipython",
    "version": 3
   },
   "file_extension": ".py",
   "mimetype": "text/x-python",
   "name": "python",
   "nbconvert_exporter": "python",
   "pygments_lexer": "ipython3",
   "version": "3.7.0"
  }
 },
 "nbformat": 4,
 "nbformat_minor": 5
}
