{
 "cells": [
  {
   "cell_type": "code",
   "execution_count": 5,
   "id": "eda92aba-f1b1-4801-9192-a2a80ea06bdd",
   "metadata": {},
   "outputs": [],
   "source": [
    "from keras.models import Sequential, Model\n",
    "from keras.layers import Dense, Conv2D, MaxPooling2D, Flatten, Input"
   ]
  },
  {
   "cell_type": "code",
   "execution_count": null,
   "id": "d8a5b4e4-2f73-471f-887e-a688c7d50cff",
   "metadata": {},
   "outputs": [],
   "source": [
    "model = Sequential()\n",
    "model.add(Conv2D(32, kernel_size=(5,5), input_shape=input_shape))\n",
    "model.add(MaxPool2D(pool_size=(2,2)))\n",
    "model.add(Flatten())\n",
    "model.add(Dense(10,activation='softmax'))\n",
    "\n",
    "#함수형 API\n",
    "inputs = Input(shape=input_shape)\n",
    "conv1 = Conv2D(32, kernel_size=(5,5))(inputs)\n",
    "maxpool1 = MaxPool2D(pool_size=(2,2))(conv1)\n",
    "predictions = Dense(10,activation='softmax')(Flatten(maxpool1))\n",
    "model = Model(inputs=inputs,outputs=predictions)"
   ]
  },
  {
   "cell_type": "code",
   "execution_count": 4,
   "id": "c8e2f9d3-e50e-46b1-a904-316576f179d8",
   "metadata": {},
   "outputs": [],
   "source": [
    "from keras.layers import Conv2D, MaxPooling2D, concatenate"
   ]
  },
  {
   "cell_type": "code",
   "execution_count": null,
   "id": "bcbfc41a-07b7-476e-97ca-6d437932fac0",
   "metadata": {},
   "outputs": [],
   "source": [
    "def naive_inception_block(previous_layer, filters=[64,128,32]):\n",
    "    conv1x1 = Conv2D(filters[0], kernel_size=(1,1),padding='same',activation='relu')(previous_layer)\n",
    "    conv3x3 = Conv2D(filters[1], kernel_size=(3,3),padding='same',activation='relu')(previous_layer)\n",
    "    conv5x5 = conv2D(filters[2], kernel_size=(5,5),padding='same',activation='relu')(previous_layer)\n",
    "    \n",
    "    max_pool = MaxPooling2D((3,3),stride=(1,1),padding='same')(previous_layer)\n",
    "    \n",
    "    return concatenate([conv1x1,conv3x3,conv5x5,max_pool],axis=-1)"
   ]
  }
 ],
 "metadata": {
  "kernelspec": {
   "display_name": "cuda",
   "language": "python",
   "name": "cuda"
  },
  "language_info": {
   "codemirror_mode": {
    "name": "ipython",
    "version": 3
   },
   "file_extension": ".py",
   "mimetype": "text/x-python",
   "name": "python",
   "nbconvert_exporter": "python",
   "pygments_lexer": "ipython3",
   "version": "3.7.0"
  }
 },
 "nbformat": 4,
 "nbformat_minor": 5
}
