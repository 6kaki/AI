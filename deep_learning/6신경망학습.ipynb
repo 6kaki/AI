{
 "cells": [
  {
   "cell_type": "markdown",
   "id": "c08876e1-8818-434a-99a1-1febba63268f",
   "metadata": {},
   "source": [
    "# 신경망학습"
   ]
  },
  {
   "cell_type": "markdown",
   "id": "0cb654f5-a71e-4670-a695-254dc4133e0b",
   "metadata": {},
   "source": [
    "## 단순한 신경만 구형 : Logic Gate"
   ]
  },
  {
   "cell_type": "markdown",
   "id": "c96f9fa5-ac8a-44d2-ac77-ae448d6811e1",
   "metadata": {},
   "source": [
    "### 모듈 import"
   ]
  },
  {
   "cell_type": "code",
   "execution_count": 1,
   "id": "de6a24b9-1a4e-4ca5-9294-e9e3e7c4581e",
   "metadata": {},
   "outputs": [],
   "source": [
    "import numpy as np\n",
    "import matplotlib.pyplot as plt\n",
    "plt.style.use('seaborn-whitegrid')"
   ]
  },
  {
   "cell_type": "markdown",
   "id": "9363d576-7ff3-4148-89f7-17d7bd423591",
   "metadata": {},
   "source": [
    "### 하이퍼파라미터"
   ]
  },
  {
   "cell_type": "code",
   "execution_count": 2,
   "id": "dab95d06-6b2c-49f0-8187-1898e9690955",
   "metadata": {},
   "outputs": [],
   "source": [
    "epochs = 1000\n",
    "lr = 0.1"
   ]
  },
  {
   "cell_type": "markdown",
   "id": "201a614e-d55b-4e77-ba50-7b5a0b9bdb40",
   "metadata": {},
   "source": [
    "### 유틸 함수들"
   ]
  },
  {
   "cell_type": "code",
   "execution_count": 3,
   "id": "ae149bf3-0459-4510-a3d2-f5b97455cf49",
   "metadata": {},
   "outputs": [],
   "source": [
    "def sigmoid(x):\n",
    "    return 1/(1+np.exp(-x))\n",
    "\n",
    "def mean_squared_error(pred_y,true_y):\n",
    "    return np.mean(np.sum(np.square(true_y - pred_y)))\n",
    "\n",
    "def cross_entropy_error(pred_y,true_y):\n",
    "    if true_y.ndim == 1:\n",
    "        true_y = true_y.reshape(1,-1)\n",
    "        pred_y = pred_y.reshape(1,-1)\n",
    "    \n",
    "    delta = 1e-7 #log함수가 무한대로 가지 못하게\n",
    "    \n",
    "    return -np.sum(true_y * np.log(pred_y + delta))\n",
    "\n",
    "def cross_entropy_error_for_batch(pred_y,true_y):\n",
    "    if true_y.ndim == 1:\n",
    "        true_y = true_y.reshape(1,-1)\n",
    "        pred_y = pred_y.reshape(1,-1)\n",
    "    \n",
    "    delta = 1e-7 #log함수가 무한대로 가지 못하게\n",
    "    batch_size = pred_y.shape[0]\n",
    "    return -np.sum(true_y * np.log(pred_y + delta)) / batch_size\n",
    "\n",
    "def cross_entropy_for_bin(pred_y,true_y):\n",
    "    return 0.5 * np.sum(-true_y * np.log(pred_y - (1-true_y)*log(1-pred_y)))\n",
    "\n",
    "def soft_max(a):\n",
    "    exp_a = np.exp(a)\n",
    "    sum_exp_a = np.sum(exp_a)\n",
    "    y = exp_a / sum_exp_a\n",
    "    return y\n",
    "\n",
    "def differential(f,x):\n",
    "    eps = 1e-5\n",
    "    diff_value = np.zeros_like(x) # x의 크기로 0을 채운\n",
    "    \n",
    "    for i in range(x.shape[0]):\n",
    "        temp_val = x[i]\n",
    "        x[i] = temp_val + eps\n",
    "        f_h1 = f(x)\n",
    "        \n",
    "        x[i] = temp_value-eps\n",
    "        f_h2 = f(x)\n",
    "        \n",
    "        diff_value[i] = (f_h1 - f_h2)/(2*eps)\n",
    "        x[i] = temp_val\n",
    "        \n",
    "    return diff_value\n",
    "        "
   ]
  },
  {
   "cell_type": "markdown",
   "id": "d3377cae-b292-4b07-bb68-81c3d50eca7b",
   "metadata": {},
   "source": [
    "### 신경망"
   ]
  },
  {
   "cell_type": "code",
   "execution_count": 4,
   "id": "0d6976c3-962b-44c4-8b68-9c710ab887a6",
   "metadata": {},
   "outputs": [],
   "source": [
    "class LogicGateNet():\n",
    "    def __init__(self):\n",
    "        def weight_init():\n",
    "            np.random.seed(1)\n",
    "            weights = np.random.randn(2)\n",
    "            bias = np.rand.rand(1)\n",
    "            \n",
    "            return weights,bias\n",
    "        \n",
    "        self.weights,self.bias = weight_init()\n",
    "        \n",
    "    def predict(self,x):\n",
    "        W = self.weights.reshape(-1,1)\n",
    "        b = self.bias\n",
    "        \n",
    "        pred_y = sigmoid(np.dot(x,W) + b)\n",
    "        \n",
    "        return pred_y\n",
    "    \n",
    "    def loss(self,x,true_y):\n",
    "        pred_y = self.predict(x)\n",
    "        return cross_entropy_bin(pred_y,true_y)\n",
    "    \n",
    "    def get_gradient(self,x,t):\n",
    "        def loss_gradient(grad):\n",
    "            return self.loss(x,t)\n",
    "        \n",
    "        grad_W = differential(loss_grad,self.weights)\n",
    "        grad_B = differential(loss_grad,self.bias)\n",
    "        \n",
    "        return grad_W,grad_B"
   ]
  },
  {
   "cell_type": "markdown",
   "id": "c96dd59e-0764-4604-b6d3-b5f4a9a5ef2f",
   "metadata": {},
   "source": [
    "### AND GATE"
   ]
  },
  {
   "cell_type": "code",
   "execution_count": null,
   "id": "53268d27-7bec-4ad0-8028-1ba15ba67320",
   "metadata": {},
   "outputs": [],
   "source": [
    "AND = LogicGateNet()\n",
    "\n",
    "X = np.array([[0,0],[0,1],[1,0],[1,1]])\n",
    "Y = np.array()"
   ]
  }
 ],
 "metadata": {
  "kernelspec": {
   "display_name": "Python 3",
   "language": "python",
   "name": "python3"
  },
  "language_info": {
   "codemirror_mode": {
    "name": "ipython",
    "version": 3
   },
   "file_extension": ".py",
   "mimetype": "text/x-python",
   "name": "python",
   "nbconvert_exporter": "python",
   "pygments_lexer": "ipython3",
   "version": "3.8.8"
  }
 },
 "nbformat": 4,
 "nbformat_minor": 5
}
