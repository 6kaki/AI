{
 "cells": [
  {
   "cell_type": "code",
   "execution_count": 1,
   "id": "c453fcdc",
   "metadata": {
    "ExecuteTime": {
     "end_time": "2022-01-11T13:32:26.811149Z",
     "start_time": "2022-01-11T13:32:24.825149Z"
    }
   },
   "outputs": [
    {
     "name": "stdout",
     "output_type": "stream",
     "text": [
      "tensor([[0.2125, 0.3717, 0.9471],\n",
      "        [0.2216, 0.4860, 0.9231]])\n"
     ]
    }
   ],
   "source": [
    "import torch\n",
    "\n",
    "x = torch.rand(2,3)\n",
    "print(x)"
   ]
  },
  {
   "cell_type": "code",
   "execution_count": 2,
   "id": "3f9cd95d",
   "metadata": {
    "ExecuteTime": {
     "end_time": "2022-01-11T13:44:22.727084Z",
     "start_time": "2022-01-11T13:44:22.722916Z"
    }
   },
   "outputs": [
    {
     "name": "stdout",
     "output_type": "stream",
     "text": [
      "[0. 1. 2. 3. 4. 5. 6.]\n"
     ]
    }
   ],
   "source": [
    "import numpy as np\n",
    "\n",
    "t = np.array([0.,1.,2.,3.,4.,5.,6.])\n",
    "print(t)"
   ]
  },
  {
   "cell_type": "code",
   "execution_count": 3,
   "id": "d34af0a2",
   "metadata": {
    "ExecuteTime": {
     "end_time": "2022-01-11T13:45:03.031925Z",
     "start_time": "2022-01-11T13:45:03.028174Z"
    }
   },
   "outputs": [
    {
     "name": "stdout",
     "output_type": "stream",
     "text": [
      "rank of t :  1\n",
      "shape of t:  (7,)\n"
     ]
    }
   ],
   "source": [
    "print('rank of t : ',t.ndim)\n",
    "print('shape of t: ',t.shape)"
   ]
  },
  {
   "cell_type": "code",
   "execution_count": 5,
   "id": "052cce57",
   "metadata": {
    "ExecuteTime": {
     "end_time": "2022-01-11T13:47:55.418545Z",
     "start_time": "2022-01-11T13:47:55.413786Z"
    }
   },
   "outputs": [
    {
     "name": "stdout",
     "output_type": "stream",
     "text": [
      "t[0] t[1] t[-1] =  0.0 1.0 6.0\n",
      "t[2:5] t[4:-1] =  [2. 3. 4.] [4. 5.]\n",
      "t[:2] t[3:] =  [0. 1.] [3. 4. 5. 6.]\n"
     ]
    }
   ],
   "source": [
    "print('t[0] t[1] t[-1] = ',t[0],t[1],t[-1])\n",
    "print('t[2:5] t[4:-1] = ',t[2:5],t[4:-1])\n",
    "print('t[:2] t[3:] = ',t[:2],t[3:])"
   ]
  },
  {
   "cell_type": "code",
   "execution_count": 6,
   "id": "61b91072",
   "metadata": {
    "ExecuteTime": {
     "end_time": "2022-01-11T13:50:57.229767Z",
     "start_time": "2022-01-11T13:50:57.224868Z"
    }
   },
   "outputs": [
    {
     "name": "stdout",
     "output_type": "stream",
     "text": [
      "[[ 1.  2.  3.]\n",
      " [ 4.  5.  6.]\n",
      " [ 7.  8.  9.]\n",
      " [10. 11. 12.]]\n"
     ]
    }
   ],
   "source": [
    "t = np.array([[1.,2.,3.],[4.,5.,6.],[7.,8.,9.],[10.,11.,12.]])\n",
    "print(t)"
   ]
  },
  {
   "cell_type": "code",
   "execution_count": 7,
   "id": "4a9c4f9a",
   "metadata": {
    "ExecuteTime": {
     "end_time": "2022-01-11T13:51:16.809449Z",
     "start_time": "2022-01-11T13:51:16.805949Z"
    }
   },
   "outputs": [
    {
     "name": "stdout",
     "output_type": "stream",
     "text": [
      "rank of t :  2\n",
      "shape of t :  (4, 3)\n"
     ]
    }
   ],
   "source": [
    "print('rank of t : ',t.ndim)\n",
    "print('shape of t : ',t.shape)"
   ]
  },
  {
   "cell_type": "code",
   "execution_count": 10,
   "id": "7fddb1c8",
   "metadata": {
    "ExecuteTime": {
     "end_time": "2022-01-11T13:56:34.420014Z",
     "start_time": "2022-01-11T13:56:34.416308Z"
    }
   },
   "outputs": [
    {
     "name": "stdout",
     "output_type": "stream",
     "text": [
      "tensor([0., 1., 2., 3., 4., 5., 6.])\n"
     ]
    }
   ],
   "source": [
    "t = torch.FloatTensor([0.,1.,2.,3.,4.,5.,6.])\n",
    "print(t)"
   ]
  },
  {
   "cell_type": "code",
   "execution_count": 12,
   "id": "1f0aaa9f",
   "metadata": {
    "ExecuteTime": {
     "end_time": "2022-01-11T13:56:51.580050Z",
     "start_time": "2022-01-11T13:56:51.570145Z"
    }
   },
   "outputs": [
    {
     "name": "stdout",
     "output_type": "stream",
     "text": [
      "1\n",
      "torch.Size([7])\n",
      "torch.Size([7])\n",
      "tensor(0.) tensor(1.) tensor(6.)\n",
      "tensor([2., 3., 4.]) tensor([4., 5.])\n",
      "tensor([0., 1.]) tensor([3., 4., 5., 6.])\n"
     ]
    }
   ],
   "source": [
    "print(t.dim())\n",
    "print(t.shape)\n",
    "print(t.size())\n",
    "print(t[0],t[1],t[-1])\n",
    "print(t[2:5],t[4:-1])\n",
    "print(t[:2],t[3:])\n"
   ]
  },
  {
   "cell_type": "code",
   "execution_count": 17,
   "id": "11b7a12f",
   "metadata": {
    "ExecuteTime": {
     "end_time": "2022-01-11T14:01:59.522309Z",
     "start_time": "2022-01-11T14:01:59.517491Z"
    }
   },
   "outputs": [
    {
     "name": "stdout",
     "output_type": "stream",
     "text": [
      "tensor([[ 1.,  2.,  3.],\n",
      "        [ 4.,  5.,  6.],\n",
      "        [ 7.,  8.,  9.],\n",
      "        [10., 11., 12.]])\n"
     ]
    }
   ],
   "source": [
    "t = torch.FloatTensor([[1.,2.,3.],\n",
    "                       [4.,5.,6.],\n",
    "                       [7.,8.,9.],\n",
    "                       [10.,11.,12.]])\n",
    "print(t)"
   ]
  },
  {
   "cell_type": "code",
   "execution_count": 16,
   "id": "450dc9d4",
   "metadata": {
    "ExecuteTime": {
     "end_time": "2022-01-11T14:00:28.209290Z",
     "start_time": "2022-01-11T14:00:28.201562Z"
    }
   },
   "outputs": [
    {
     "name": "stdout",
     "output_type": "stream",
     "text": [
      "2\n",
      "torch.Size([4, 3])\n",
      "torch.Size([4, 3])\n",
      "tensor([ 2.,  5.,  8., 11.])\n",
      "torch.Size([4])\n",
      "tensor([[ 1.,  2.],\n",
      "        [ 4.,  5.],\n",
      "        [ 7.,  8.],\n",
      "        [10., 11.]])\n"
     ]
    }
   ],
   "source": [
    "print(t.dim())\n",
    "print(t.shape)\n",
    "print(t.size())\n",
    "print(t[:,1])\n",
    "print(t[:,1].size())\n",
    "print(t[:,:-1])"
   ]
  },
  {
   "cell_type": "code",
   "execution_count": 38,
   "id": "87e92604",
   "metadata": {
    "ExecuteTime": {
     "end_time": "2022-01-11T14:09:37.188830Z",
     "start_time": "2022-01-11T14:09:37.184484Z"
    }
   },
   "outputs": [
    {
     "name": "stdout",
     "output_type": "stream",
     "text": [
      "tensor([[5., 5.]])\n"
     ]
    }
   ],
   "source": [
    "m1 = torch.FloatTensor([3,3])\n",
    "m2 = torch.FloatTensor([[2,2]])\n",
    "print(m1+m2)"
   ]
  },
  {
   "cell_type": "code",
   "execution_count": 37,
   "id": "12da79a1",
   "metadata": {
    "ExecuteTime": {
     "end_time": "2022-01-11T14:08:54.907969Z",
     "start_time": "2022-01-11T14:08:54.902841Z"
    }
   },
   "outputs": [
    {
     "name": "stdout",
     "output_type": "stream",
     "text": [
      "[3 3]\n",
      "1\n",
      "(2,)\n",
      "\n",
      "[[3 3]]\n",
      "2\n",
      "(1, 2)\n"
     ]
    }
   ],
   "source": [
    "n = np.array([3,3])\n",
    "print(n)\n",
    "print(n.ndim)\n",
    "print(n.shape)\n",
    "print()\n",
    "n1 = np.array([[3,3]])\n",
    "print(n1)\n",
    "print(n1.ndim)\n",
    "print(n1.shape)"
   ]
  },
  {
   "cell_type": "code",
   "execution_count": 40,
   "id": "ae2248df",
   "metadata": {
    "ExecuteTime": {
     "end_time": "2022-01-11T14:10:30.935462Z",
     "start_time": "2022-01-11T14:10:30.930952Z"
    }
   },
   "outputs": [
    {
     "name": "stdout",
     "output_type": "stream",
     "text": [
      "tensor([[4., 5.]])\n"
     ]
    }
   ],
   "source": [
    "m1 = torch.FloatTensor([[1,2]])\n",
    "m2 = torch.FloatTensor([3])\n",
    "print(m1+m2)"
   ]
  },
  {
   "cell_type": "code",
   "execution_count": 41,
   "id": "9f272230",
   "metadata": {
    "ExecuteTime": {
     "end_time": "2022-01-11T14:11:22.848141Z",
     "start_time": "2022-01-11T14:11:22.843633Z"
    }
   },
   "outputs": [
    {
     "name": "stdout",
     "output_type": "stream",
     "text": [
      "tensor([[4., 5.],\n",
      "        [5., 6.]])\n"
     ]
    }
   ],
   "source": [
    "m1 = torch.FloatTensor([[1,2]])\n",
    "m2 = torch.FloatTensor([[3],[4]])\n",
    "print(m1+m2)"
   ]
  },
  {
   "cell_type": "code",
   "execution_count": 42,
   "id": "d57a4d88",
   "metadata": {
    "ExecuteTime": {
     "end_time": "2022-01-11T14:21:28.716028Z",
     "start_time": "2022-01-11T14:21:28.705639Z"
    }
   },
   "outputs": [
    {
     "name": "stdout",
     "output_type": "stream",
     "text": [
      "\n",
      "-------------\n",
      "Mul vs MatMul\n",
      "-------------\n",
      "Shape of Matrix 1:  torch.Size([2, 2])\n",
      "Shape of Matrix 2:  torch.Size([2, 1])\n",
      "tensor([[ 5.],\n",
      "        [11.]])\n",
      "Shape of Matrix 1:  torch.Size([2, 2])\n",
      "Shape of Matrix 2:  torch.Size([2, 1])\n",
      "tensor([[1., 2.],\n",
      "        [6., 8.]])\n",
      "tensor([[1., 2.],\n",
      "        [6., 8.]])\n"
     ]
    }
   ],
   "source": [
    "print()\n",
    "print('-------------')\n",
    "print('Mul vs MatMul')\n",
    "print('-------------')\n",
    "m1 = torch.FloatTensor([[1,2],[3,4]])\n",
    "m2 = torch.FloatTensor([[1],[2]])\n",
    "print('Shape of Matrix 1: ',m1.shape)\n",
    "print('Shape of Matrix 2: ',m2.shape)\n",
    "print(m1.matmul(m2))\n",
    "\n",
    "m1 = torch.FloatTensor([[1,2],[3,4]])\n",
    "m2 = torch.FloatTensor([[1],[2]])\n",
    "print('Shape of Matrix 1: ',m1.shape)\n",
    "print('Shape of Matrix 2: ',m2.shape)\n",
    "print(m1 * m2)\n",
    "print(m1.mul(m2))"
   ]
  },
  {
   "cell_type": "code",
   "execution_count": 43,
   "id": "e74c5c33",
   "metadata": {
    "ExecuteTime": {
     "end_time": "2022-01-11T14:25:25.603081Z",
     "start_time": "2022-01-11T14:25:25.599040Z"
    }
   },
   "outputs": [
    {
     "name": "stdout",
     "output_type": "stream",
     "text": [
      "tensor(1.5000)\n"
     ]
    }
   ],
   "source": [
    "t = torch.FloatTensor([1,2])\n",
    "print(t.mean())"
   ]
  },
  {
   "cell_type": "code",
   "execution_count": 45,
   "id": "3486ca84",
   "metadata": {
    "ExecuteTime": {
     "end_time": "2022-01-11T14:26:30.544589Z",
     "start_time": "2022-01-11T14:26:30.528782Z"
    }
   },
   "outputs": [
    {
     "name": "stdout",
     "output_type": "stream",
     "text": [
      "Can only calculate the mean of floating types. Got Long instead.\n"
     ]
    }
   ],
   "source": [
    "t = torch.LongTensor([1,2])\n",
    "try:\n",
    "    print(t.mean())\n",
    "except Exception as exe:\n",
    "    print(exe)"
   ]
  },
  {
   "cell_type": "code",
   "execution_count": 46,
   "id": "0dab224d",
   "metadata": {
    "ExecuteTime": {
     "end_time": "2022-01-11T14:28:28.994662Z",
     "start_time": "2022-01-11T14:28:28.990334Z"
    }
   },
   "outputs": [
    {
     "name": "stdout",
     "output_type": "stream",
     "text": [
      "tensor([[1., 2.],\n",
      "        [3., 4.]])\n"
     ]
    }
   ],
   "source": [
    "t = torch.FloatTensor([[1,2],[3,4]])\n",
    "print(t)"
   ]
  },
  {
   "cell_type": "code",
   "execution_count": 48,
   "id": "c4b0a6e3",
   "metadata": {
    "ExecuteTime": {
     "end_time": "2022-01-11T14:29:08.057270Z",
     "start_time": "2022-01-11T14:29:08.050125Z"
    }
   },
   "outputs": [
    {
     "name": "stdout",
     "output_type": "stream",
     "text": [
      "tensor(2.5000)\n",
      "tensor([2., 3.])\n",
      "tensor([1.5000, 3.5000])\n",
      "tensor([1.5000, 3.5000])\n"
     ]
    }
   ],
   "source": [
    "print(t.mean())\n",
    "print(t.mean(dim=0))\n",
    "print(t.mean(dim=1))\n",
    "print(t.mean(dim=-1))"
   ]
  },
  {
   "cell_type": "code",
   "execution_count": 49,
   "id": "856e1693",
   "metadata": {
    "ExecuteTime": {
     "end_time": "2022-01-11T14:33:30.196125Z",
     "start_time": "2022-01-11T14:33:30.192050Z"
    }
   },
   "outputs": [
    {
     "name": "stdout",
     "output_type": "stream",
     "text": [
      "tensor([[1., 2.],\n",
      "        [3., 4.]])\n"
     ]
    }
   ],
   "source": [
    "t = torch.FloatTensor([[1,2],[3,4]])\n",
    "print(t)"
   ]
  },
  {
   "cell_type": "code",
   "execution_count": 50,
   "id": "c4d6c83c",
   "metadata": {
    "ExecuteTime": {
     "end_time": "2022-01-11T14:33:56.213965Z",
     "start_time": "2022-01-11T14:33:56.207217Z"
    }
   },
   "outputs": [
    {
     "name": "stdout",
     "output_type": "stream",
     "text": [
      "tensor(10.)\n",
      "tensor([4., 6.])\n",
      "tensor([3., 7.])\n",
      "tensor([3., 7.])\n"
     ]
    }
   ],
   "source": [
    "print(t.sum())\n",
    "print(t.sum(dim=0))\n",
    "print(t.sum(dim=1))\n",
    "print(t.sum(dim=-1))"
   ]
  },
  {
   "cell_type": "code",
   "execution_count": 62,
   "id": "899211ff",
   "metadata": {
    "ExecuteTime": {
     "end_time": "2022-01-11T14:41:48.574336Z",
     "start_time": "2022-01-11T14:41:48.569893Z"
    }
   },
   "outputs": [
    {
     "name": "stdout",
     "output_type": "stream",
     "text": [
      "tensor([[1., 4.],\n",
      "        [4., 3.]])\n"
     ]
    }
   ],
   "source": [
    "t = torch.FloatTensor([[1,4],[4,3]])\n",
    "print(t)"
   ]
  },
  {
   "cell_type": "code",
   "execution_count": 63,
   "id": "6a789306",
   "metadata": {
    "ExecuteTime": {
     "end_time": "2022-01-11T14:41:50.846902Z",
     "start_time": "2022-01-11T14:41:50.842944Z"
    }
   },
   "outputs": [
    {
     "name": "stdout",
     "output_type": "stream",
     "text": [
      "tensor(4.)\n"
     ]
    }
   ],
   "source": [
    "print(t.max())"
   ]
  },
  {
   "cell_type": "code",
   "execution_count": 64,
   "id": "9974e568",
   "metadata": {
    "ExecuteTime": {
     "end_time": "2022-01-11T14:41:54.232397Z",
     "start_time": "2022-01-11T14:41:54.225513Z"
    }
   },
   "outputs": [
    {
     "name": "stdout",
     "output_type": "stream",
     "text": [
      "torch.return_types.max(\n",
      "values=tensor([4., 4.]),\n",
      "indices=tensor([1, 0]))\n",
      "Max :  tensor([4., 4.])\n",
      "Argmax :  tensor([1, 0])\n"
     ]
    }
   ],
   "source": [
    "print(t.max(dim=0))\n",
    "print('Max : ',t.max(dim=0)[0])\n",
    "print('Argmax : ',t.max(dim=0)[1])"
   ]
  },
  {
   "cell_type": "code",
   "execution_count": 65,
   "id": "b9d94dd3",
   "metadata": {
    "ExecuteTime": {
     "end_time": "2022-01-11T14:42:14.029124Z",
     "start_time": "2022-01-11T14:42:14.023316Z"
    }
   },
   "outputs": [
    {
     "name": "stdout",
     "output_type": "stream",
     "text": [
      "torch.return_types.max(\n",
      "values=tensor([4., 4.]),\n",
      "indices=tensor([1, 0]))\n",
      "torch.return_types.max(\n",
      "values=tensor([4., 4.]),\n",
      "indices=tensor([1, 0]))\n"
     ]
    }
   ],
   "source": [
    "print(t.max(dim=1))\n",
    "print(t.max(dim=-1))"
   ]
  },
  {
   "cell_type": "code",
   "execution_count": null,
   "id": "01fdcbc1",
   "metadata": {},
   "outputs": [],
   "source": []
  }
 ],
 "metadata": {
  "kernelspec": {
   "display_name": "Python 3",
   "language": "python",
   "name": "python3"
  },
  "language_info": {
   "codemirror_mode": {
    "name": "ipython",
    "version": 3
   },
   "file_extension": ".py",
   "mimetype": "text/x-python",
   "name": "python",
   "nbconvert_exporter": "python",
   "pygments_lexer": "ipython3",
   "version": "3.8.8"
  },
  "toc": {
   "base_numbering": 1,
   "nav_menu": {},
   "number_sections": true,
   "sideBar": true,
   "skip_h1_title": false,
   "title_cell": "Table of Contents",
   "title_sidebar": "Contents",
   "toc_cell": false,
   "toc_position": {},
   "toc_section_display": true,
   "toc_window_display": false
  }
 },
 "nbformat": 4,
 "nbformat_minor": 5
}
